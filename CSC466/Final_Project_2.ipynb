{
  "cells": [
    {
      "cell_type": "code",
      "execution_count": null,
      "id": "initial_id",
      "metadata": {
        "collapsed": true,
        "ExecuteTime": {
          "end_time": "2023-12-14T22:14:43.885289Z",
          "start_time": "2023-12-14T22:14:35.022443Z"
        },
        "id": "initial_id"
      },
      "outputs": [],
      "source": [
        "import sys\n",
        "sys.path.append('/Users/sucheen/Documents/Personal/LLNL/Project/transformers/lib/python3.8/site-packages')\n",
        "sys.path.append('../../Lab 1')\n",
        "sys.path.append('../../Lab-2')\n",
        "sys.path.append('../../Lab-3/Part 1')\n",
        "sys.path.append('../../Lab-3/Part 2')\n",
        "sys.path.append('../../Lab-4')\n",
        "sys.path.append('../../Lab-5')\n",
        "sys.path.append('../../Lab-6')\n",
        "sys.path.append('../../Lab-7')\n",
        "\n",
        "import pandas as pd\n",
        "import numpy as np\n",
        "import matplotlib.pyplot as plt\n",
        "import numpy.linalg as matrix\n",
        "\n",
        "from kmeans import *"
      ]
    },
    {
      "cell_type": "markdown",
      "source": [
        "# Data Overview\n",
        "Dataset is a mental health in tech survey from Kaggle. It measures attitudes towards mental health and frequency of mental health disorders in the tech workplace."
      ],
      "metadata": {
        "collapsed": false,
        "id": "2a0f03401d69a829"
      },
      "id": "2a0f03401d69a829"
    },
    {
      "cell_type": "code",
      "execution_count": null,
      "outputs": [
        {
          "data": {
            "text/plain": "      Age  Gender         Country state self_employed family_history  \\\n0      37  female   United States    IL           NaN             No   \n1      44    male   United States    IN           NaN             No   \n2      32    male          Canada   NaN           NaN             No   \n3      31    male  United Kingdom   NaN           NaN            Yes   \n4      31    male   United States    TX           NaN             No   \n...   ...     ...             ...   ...           ...            ...   \n1254   26    male  United Kingdom   NaN            No             No   \n1255   32    male   United States    IL            No            Yes   \n1256   34    male   United States    CA            No            Yes   \n1257   46  female   United States    NC            No             No   \n1258   25    male   United States    IL            No            Yes   \n\n     treatment work_interfere    no_employees remote_work  ...  \\\n0          Yes          Often            6-25          No  ...   \n1           No         Rarely  More than 1000          No  ...   \n2           No         Rarely            6-25          No  ...   \n3          Yes          Often          26-100          No  ...   \n4           No          Never         100-500         Yes  ...   \n...        ...            ...             ...         ...  ...   \n1254       Yes            NaN          26-100          No  ...   \n1255       Yes          Often          26-100         Yes  ...   \n1256       Yes      Sometimes  More than 1000          No  ...   \n1257        No            NaN         100-500         Yes  ...   \n1258       Yes      Sometimes          26-100          No  ...   \n\n                   leave mental_health_consequence phys_health_consequence  \\\n0          Somewhat easy                        No                      No   \n1             Don't know                     Maybe                      No   \n2     Somewhat difficult                        No                      No   \n3     Somewhat difficult                       Yes                     Yes   \n4             Don't know                        No                      No   \n...                  ...                       ...                     ...   \n1254       Somewhat easy                        No                      No   \n1255  Somewhat difficult                        No                      No   \n1256  Somewhat difficult                       Yes                     Yes   \n1257          Don't know                       Yes                      No   \n1258          Don't know                     Maybe                      No   \n\n         coworkers    supervisor mental_health_interview  \\\n0     Some of them           Yes                      No   \n1               No            No                      No   \n2              Yes           Yes                     Yes   \n3     Some of them            No                   Maybe   \n4     Some of them           Yes                     Yes   \n...            ...           ...                     ...   \n1254  Some of them  Some of them                      No   \n1255  Some of them           Yes                      No   \n1256            No            No                      No   \n1257            No            No                      No   \n1258  Some of them            No                      No   \n\n     phys_health_interview mental_vs_physical obs_consequence comments  \n0                    Maybe                Yes              No      NaN  \n1                       No         Don't know              No      NaN  \n2                      Yes                 No              No      NaN  \n3                    Maybe                 No             Yes      NaN  \n4                      Yes         Don't know              No      NaN  \n...                    ...                ...             ...      ...  \n1254                    No         Don't know              No      NaN  \n1255                    No                Yes              No      NaN  \n1256                    No                 No              No      NaN  \n1257                    No                 No              No      NaN  \n1258                    No         Don't know              No      NaN  \n\n[1259 rows x 26 columns]",
            "text/html": "<div>\n<style scoped>\n    .dataframe tbody tr th:only-of-type {\n        vertical-align: middle;\n    }\n\n    .dataframe tbody tr th {\n        vertical-align: top;\n    }\n\n    .dataframe thead th {\n        text-align: right;\n    }\n</style>\n<table border=\"1\" class=\"dataframe\">\n  <thead>\n    <tr style=\"text-align: right;\">\n      <th></th>\n      <th>Age</th>\n      <th>Gender</th>\n      <th>Country</th>\n      <th>state</th>\n      <th>self_employed</th>\n      <th>family_history</th>\n      <th>treatment</th>\n      <th>work_interfere</th>\n      <th>no_employees</th>\n      <th>remote_work</th>\n      <th>...</th>\n      <th>leave</th>\n      <th>mental_health_consequence</th>\n      <th>phys_health_consequence</th>\n      <th>coworkers</th>\n      <th>supervisor</th>\n      <th>mental_health_interview</th>\n      <th>phys_health_interview</th>\n      <th>mental_vs_physical</th>\n      <th>obs_consequence</th>\n      <th>comments</th>\n    </tr>\n  </thead>\n  <tbody>\n    <tr>\n      <th>0</th>\n      <td>37</td>\n      <td>female</td>\n      <td>United States</td>\n      <td>IL</td>\n      <td>NaN</td>\n      <td>No</td>\n      <td>Yes</td>\n      <td>Often</td>\n      <td>6-25</td>\n      <td>No</td>\n      <td>...</td>\n      <td>Somewhat easy</td>\n      <td>No</td>\n      <td>No</td>\n      <td>Some of them</td>\n      <td>Yes</td>\n      <td>No</td>\n      <td>Maybe</td>\n      <td>Yes</td>\n      <td>No</td>\n      <td>NaN</td>\n    </tr>\n    <tr>\n      <th>1</th>\n      <td>44</td>\n      <td>male</td>\n      <td>United States</td>\n      <td>IN</td>\n      <td>NaN</td>\n      <td>No</td>\n      <td>No</td>\n      <td>Rarely</td>\n      <td>More than 1000</td>\n      <td>No</td>\n      <td>...</td>\n      <td>Don't know</td>\n      <td>Maybe</td>\n      <td>No</td>\n      <td>No</td>\n      <td>No</td>\n      <td>No</td>\n      <td>No</td>\n      <td>Don't know</td>\n      <td>No</td>\n      <td>NaN</td>\n    </tr>\n    <tr>\n      <th>2</th>\n      <td>32</td>\n      <td>male</td>\n      <td>Canada</td>\n      <td>NaN</td>\n      <td>NaN</td>\n      <td>No</td>\n      <td>No</td>\n      <td>Rarely</td>\n      <td>6-25</td>\n      <td>No</td>\n      <td>...</td>\n      <td>Somewhat difficult</td>\n      <td>No</td>\n      <td>No</td>\n      <td>Yes</td>\n      <td>Yes</td>\n      <td>Yes</td>\n      <td>Yes</td>\n      <td>No</td>\n      <td>No</td>\n      <td>NaN</td>\n    </tr>\n    <tr>\n      <th>3</th>\n      <td>31</td>\n      <td>male</td>\n      <td>United Kingdom</td>\n      <td>NaN</td>\n      <td>NaN</td>\n      <td>Yes</td>\n      <td>Yes</td>\n      <td>Often</td>\n      <td>26-100</td>\n      <td>No</td>\n      <td>...</td>\n      <td>Somewhat difficult</td>\n      <td>Yes</td>\n      <td>Yes</td>\n      <td>Some of them</td>\n      <td>No</td>\n      <td>Maybe</td>\n      <td>Maybe</td>\n      <td>No</td>\n      <td>Yes</td>\n      <td>NaN</td>\n    </tr>\n    <tr>\n      <th>4</th>\n      <td>31</td>\n      <td>male</td>\n      <td>United States</td>\n      <td>TX</td>\n      <td>NaN</td>\n      <td>No</td>\n      <td>No</td>\n      <td>Never</td>\n      <td>100-500</td>\n      <td>Yes</td>\n      <td>...</td>\n      <td>Don't know</td>\n      <td>No</td>\n      <td>No</td>\n      <td>Some of them</td>\n      <td>Yes</td>\n      <td>Yes</td>\n      <td>Yes</td>\n      <td>Don't know</td>\n      <td>No</td>\n      <td>NaN</td>\n    </tr>\n    <tr>\n      <th>...</th>\n      <td>...</td>\n      <td>...</td>\n      <td>...</td>\n      <td>...</td>\n      <td>...</td>\n      <td>...</td>\n      <td>...</td>\n      <td>...</td>\n      <td>...</td>\n      <td>...</td>\n      <td>...</td>\n      <td>...</td>\n      <td>...</td>\n      <td>...</td>\n      <td>...</td>\n      <td>...</td>\n      <td>...</td>\n      <td>...</td>\n      <td>...</td>\n      <td>...</td>\n      <td>...</td>\n    </tr>\n    <tr>\n      <th>1254</th>\n      <td>26</td>\n      <td>male</td>\n      <td>United Kingdom</td>\n      <td>NaN</td>\n      <td>No</td>\n      <td>No</td>\n      <td>Yes</td>\n      <td>NaN</td>\n      <td>26-100</td>\n      <td>No</td>\n      <td>...</td>\n      <td>Somewhat easy</td>\n      <td>No</td>\n      <td>No</td>\n      <td>Some of them</td>\n      <td>Some of them</td>\n      <td>No</td>\n      <td>No</td>\n      <td>Don't know</td>\n      <td>No</td>\n      <td>NaN</td>\n    </tr>\n    <tr>\n      <th>1255</th>\n      <td>32</td>\n      <td>male</td>\n      <td>United States</td>\n      <td>IL</td>\n      <td>No</td>\n      <td>Yes</td>\n      <td>Yes</td>\n      <td>Often</td>\n      <td>26-100</td>\n      <td>Yes</td>\n      <td>...</td>\n      <td>Somewhat difficult</td>\n      <td>No</td>\n      <td>No</td>\n      <td>Some of them</td>\n      <td>Yes</td>\n      <td>No</td>\n      <td>No</td>\n      <td>Yes</td>\n      <td>No</td>\n      <td>NaN</td>\n    </tr>\n    <tr>\n      <th>1256</th>\n      <td>34</td>\n      <td>male</td>\n      <td>United States</td>\n      <td>CA</td>\n      <td>No</td>\n      <td>Yes</td>\n      <td>Yes</td>\n      <td>Sometimes</td>\n      <td>More than 1000</td>\n      <td>No</td>\n      <td>...</td>\n      <td>Somewhat difficult</td>\n      <td>Yes</td>\n      <td>Yes</td>\n      <td>No</td>\n      <td>No</td>\n      <td>No</td>\n      <td>No</td>\n      <td>No</td>\n      <td>No</td>\n      <td>NaN</td>\n    </tr>\n    <tr>\n      <th>1257</th>\n      <td>46</td>\n      <td>female</td>\n      <td>United States</td>\n      <td>NC</td>\n      <td>No</td>\n      <td>No</td>\n      <td>No</td>\n      <td>NaN</td>\n      <td>100-500</td>\n      <td>Yes</td>\n      <td>...</td>\n      <td>Don't know</td>\n      <td>Yes</td>\n      <td>No</td>\n      <td>No</td>\n      <td>No</td>\n      <td>No</td>\n      <td>No</td>\n      <td>No</td>\n      <td>No</td>\n      <td>NaN</td>\n    </tr>\n    <tr>\n      <th>1258</th>\n      <td>25</td>\n      <td>male</td>\n      <td>United States</td>\n      <td>IL</td>\n      <td>No</td>\n      <td>Yes</td>\n      <td>Yes</td>\n      <td>Sometimes</td>\n      <td>26-100</td>\n      <td>No</td>\n      <td>...</td>\n      <td>Don't know</td>\n      <td>Maybe</td>\n      <td>No</td>\n      <td>Some of them</td>\n      <td>No</td>\n      <td>No</td>\n      <td>No</td>\n      <td>Don't know</td>\n      <td>No</td>\n      <td>NaN</td>\n    </tr>\n  </tbody>\n</table>\n<p>1259 rows × 26 columns</p>\n</div>"
          },
          "execution_count": 47,
          "metadata": {},
          "output_type": "execute_result"
        }
      ],
      "source": [
        "data = pd.read_csv('survey.csv').drop(['Timestamp'], axis=1)\n",
        "data['Gender'] = data['Gender'].astype(str).apply(lambda x: x.lower()).apply(lambda x: 'male' if x == 'm' else x).apply(lambda x: 'female' if x == 'f' else x)\n",
        "data"
      ],
      "metadata": {
        "ExecuteTime": {
          "end_time": "2023-12-14T22:34:27.348406Z",
          "start_time": "2023-12-14T22:34:27.314937Z"
        },
        "id": "204152d2e68ae44",
        "outputId": "aef1960e-f4aa-484d-d6aa-9e3ef2152d00"
      },
      "id": "204152d2e68ae44"
    },
    {
      "cell_type": "markdown",
      "source": [
        "# Data Cleaning & Preprocessing\n",
        "\n",
        "The dataset has a lot of missing values. We will fill in the missing values with empty strings and then convert the categorical variables into dummy variables."
      ],
      "metadata": {
        "collapsed": false,
        "id": "a50ef81c8ed8c2fd"
      },
      "id": "a50ef81c8ed8c2fd"
    },
    {
      "cell_type": "code",
      "execution_count": null,
      "outputs": [
        {
          "data": {
            "text/plain": "(1259, 201)"
          },
          "execution_count": 48,
          "metadata": {},
          "output_type": "execute_result"
        }
      ],
      "source": [
        "data.fillna('', inplace=True)\n",
        "data = data.drop(['comments'], axis=1)\n",
        "data = pd.get_dummies(data).astype(int)\n",
        "data.shape"
      ],
      "metadata": {
        "ExecuteTime": {
          "end_time": "2023-12-14T22:34:30.132615Z",
          "start_time": "2023-12-14T22:34:30.091376Z"
        },
        "id": "e6a1270d2442b56d",
        "outputId": "0abefc49-ff44-4a59-9434-47fa752893f7"
      },
      "id": "e6a1270d2442b56d"
    },
    {
      "cell_type": "markdown",
      "source": [
        "# K-Means Clustering\n",
        "Fit a KMeans Clustering with 3 clusters to the dataset."
      ],
      "metadata": {
        "collapsed": false,
        "id": "7b140692911ad35e"
      },
      "id": "7b140692911ad35e"
    },
    {
      "cell_type": "code",
      "execution_count": null,
      "outputs": [
        {
          "data": {
            "text/plain": "2    673\n1    585\n3      1\nName: count, dtype: int64"
          },
          "execution_count": 51,
          "metadata": {},
          "output_type": "execute_result"
        }
      ],
      "source": [
        "kmeans = KMeans(data, 3)\n",
        "clusters, centroids = kmeans.clustering()\n",
        "clusters.value_counts()"
      ],
      "metadata": {
        "ExecuteTime": {
          "end_time": "2023-12-14T22:34:50.271578Z",
          "start_time": "2023-12-14T22:34:42.810970Z"
        },
        "id": "6655a25ff0b95096",
        "outputId": "3022347f-8190-41a6-bd48-c14e7a5edde6"
      },
      "id": "6655a25ff0b95096"
    },
    {
      "cell_type": "code",
      "execution_count": null,
      "outputs": [],
      "source": [
        "data['kmeans cluster'] = clusters"
      ],
      "metadata": {
        "ExecuteTime": {
          "end_time": "2023-12-14T22:35:07.194508Z",
          "start_time": "2023-12-14T22:35:07.184769Z"
        },
        "id": "a15bb62f2e1153ba"
      },
      "id": "a15bb62f2e1153ba"
    },
    {
      "cell_type": "code",
      "execution_count": null,
      "outputs": [
        {
          "data": {
            "text/plain": "([<matplotlib.axis.YTick at 0x12798f350>,\n  <matplotlib.axis.YTick at 0x12798dc10>],\n [Text(0, 0, '0'), Text(0, 1, '1')])"
          },
          "execution_count": 62,
          "metadata": {},
          "output_type": "execute_result"
        },
        {
          "data": {
            "text/plain": "<Figure size 640x480 with 2 Axes>",
            "image/png": "[encoded data removed]"
          },
          "metadata": {},
          "output_type": "display_data"
        }
      ],
      "source": [
        "data = data[data['Age'] <= 1e6]\n",
        "data = data[data['Age'] > -1000]\n",
        "data = data[data['Age'] < 300]\n",
        "data['kmeans cluster'] = data['kmeans cluster'].astype('category')\n",
        "data.plot(kind='scatter', x='Age', y='Gender_male', c='kmeans cluster', cmap='viridis')\n",
        "plt.title(\"K-Means Clustering Results\")\n",
        "plt.xlabel(\"Age\")\n",
        "plt.ylabel(\"Gender = Male\")\n",
        "plt.yticks(np.arange(0, 2, 1))"
      ],
      "metadata": {
        "ExecuteTime": {
          "end_time": "2023-12-14T22:39:03.499064Z",
          "start_time": "2023-12-14T22:39:03.238099Z"
        },
        "id": "48e377af5999d755",
        "outputId": "61e1bc82-8ff3-4728-9a9b-f85c54f830ae"
      },
      "id": "48e377af5999d755"
    },
    {
      "cell_type": "markdown",
      "source": [
        "# Clustering Aggregation Results\n",
        "\n",
        "Below is a cluster assignment result of the treatment variable. The treatment variable is a binary variable that indicates whether the person has sought treatment for a mental health condition."
      ],
      "metadata": {
        "collapsed": false,
        "id": "bcb5113beee8d89f"
      },
      "id": "bcb5113beee8d89f"
    },
    {
      "cell_type": "code",
      "execution_count": null,
      "outputs": [
        {
          "data": {
            "text/plain": "kmeans cluster\n1    0.472603\n2    0.532738\nName: treatment_Yes, dtype: float64"
          },
          "execution_count": 69,
          "metadata": {},
          "output_type": "execute_result"
        }
      ],
      "source": [
        "data['kmeans cluster'] = data['kmeans cluster'].astype('int')\n",
        "data.groupby('kmeans cluster').mean().T.loc['treatment_Yes']"
      ],
      "metadata": {
        "ExecuteTime": {
          "end_time": "2023-12-14T23:01:35.563881Z",
          "start_time": "2023-12-14T23:01:35.535136Z"
        },
        "id": "e67e8c153f549f02",
        "outputId": "b136992b-c1c2-4e86-dffb-3595352ebaa8"
      },
      "id": "e67e8c153f549f02"
    },
    {
      "cell_type": "markdown",
      "source": [
        "# Attempt to do DBSCAN and Hierarchical Clustering\n",
        "\n",
        "These were not successful."
      ],
      "metadata": {
        "collapsed": false,
        "id": "dbadd3a3e557cf68"
      },
      "id": "dbadd3a3e557cf68"
    },
    {
      "cell_type": "code",
      "execution_count": null,
      "outputs": [],
      "source": [
        "from dbscan_1 import *\n",
        "cluster_list, core, noise, border = dbscan(data, 10, 3)"
      ],
      "metadata": {
        "ExecuteTime": {
          "end_time": "2023-12-14T23:06:16.576724Z",
          "start_time": "2023-12-14T23:06:16.562024Z"
        },
        "id": "ed69de557264fd09"
      },
      "id": "ed69de557264fd09"
    },
    {
      "cell_type": "code",
      "execution_count": null,
      "outputs": [],
      "source": [
        "pd.Series(cluster_list).value_counts()"
      ],
      "metadata": {
        "ExecuteTime": {
          "end_time": "2023-12-14T23:06:23.202936Z",
          "start_time": "2023-12-14T23:06:23.178237Z"
        },
        "id": "fb27c9dc79a65abf"
      },
      "id": "fb27c9dc79a65abf"
    },
    {
      "cell_type": "code",
      "execution_count": null,
      "outputs": [
        {
          "data": {
            "text/plain": "[[390],\n [715],\n [364],\n [1048],\n [1049],\n [848],\n [1008],\n [451],\n [566],\n [219],\n [1217],\n [890],\n [1076],\n [751],\n [736],\n [824],\n [292],\n [1190],\n [505],\n [508],\n [946],\n [1017],\n [872],\n [1010],\n [210],\n [513],\n [485],\n [923],\n [1130],\n [704],\n [926],\n [1091],\n [12],\n [8],\n [167],\n [589],\n [850],\n [506],\n [585],\n [1154],\n [137],\n [972],\n [1152],\n [1116],\n [831],\n [1114],\n [380],\n [564],\n [986],\n [1175],\n [740],\n [774],\n [1128],\n [636],\n [819],\n [821],\n [1251],\n [367],\n [1052],\n [7],\n [1229],\n [990],\n [1192],\n [73],\n [133],\n [935],\n [86],\n [501],\n [274],\n [185],\n [1112],\n [536],\n [1118],\n [154],\n [160],\n [514],\n [1087],\n [756],\n [815],\n [739],\n [884],\n [1078],\n [1034],\n [142],\n [708],\n [814],\n [995],\n [41],\n [227],\n [446],\n [1066],\n [1108],\n [1058],\n [555],\n [772],\n [1244],\n [874],\n [500],\n [945],\n [1189],\n [522],\n [276],\n [844],\n [1029],\n [26],\n [53],\n [698],\n [1161],\n [458],\n [694],\n [84],\n [298],\n [344],\n [1069],\n [1119],\n [69],\n [1039],\n [108],\n [1204],\n [78],\n [599],\n [1033],\n [721],\n [727],\n [1095],\n [288],\n [203],\n [645],\n [763],\n [933],\n [822],\n [697],\n [867],\n [788],\n [1053],\n [1156],\n [153],\n [343],\n [843],\n [563],\n [119],\n [51],\n [823],\n [499],\n [74],\n [662],\n [407],\n [557],\n [461],\n [654],\n [562],\n [959],\n [782],\n [122],\n [1031],\n [1124],\n [340],\n [13],\n [575],\n [807],\n [1103],\n [1226],\n [391],\n [820],\n [1248],\n [882],\n [441],\n [908],\n [123],\n [612],\n [457],\n [1191],\n [67],\n [616],\n [299],\n [681],\n [80],\n [1006],\n [889],\n [954],\n [753],\n [765],\n [580],\n [445],\n [473],\n [894],\n [202],\n [1137],\n [770],\n [569],\n [140],\n [752],\n [135],\n [802],\n [211],\n [29],\n [397],\n [710],\n [459],\n [768],\n [196],\n [1167],\n [291],\n [953],\n [742],\n [1146],\n [762],\n [847],\n [650],\n [849],\n [873],\n [1013],\n [233],\n [1024],\n [1187],\n [885],\n [1028],\n [827],\n [1178],\n [190],\n [981],\n [465],\n [1147],\n [618],\n [236],\n [268],\n [230],\n [744],\n [792],\n [0],\n [1094],\n [1219],\n [717],\n [1085],\n [19],\n [601],\n [141],\n [232],\n [845],\n [775],\n [517],\n [1181],\n [887],\n [789],\n [238],\n [304],\n [976],\n [795],\n [37],\n [696],\n [1212],\n [930],\n [378],\n [921],\n [519],\n [771],\n [237],\n [865],\n [793],\n [812],\n [504],\n [834],\n [496],\n [626],\n [617],\n [1132],\n [189],\n [357],\n [283],\n [1002],\n [1148],\n [25],\n [547],\n [627],\n [98],\n [1074],\n [766],\n [164],\n [701],\n [363],\n [389],\n [1227],\n [864],\n [516],\n [679],\n [178],\n [817],\n [729],\n [901],\n [1221],\n [18],\n [112],\n [450],\n [1211],\n [1037],\n [1],\n [1054],\n [23],\n [936],\n [598],\n [1099],\n [257],\n [611],\n [869],\n [515],\n [776],\n [780],\n [386],\n [669],\n [101],\n [375],\n [1009],\n [1071],\n [335],\n [1104],\n [60],\n [1117],\n [183],\n [1123],\n [184],\n [970],\n [932],\n [939],\n [469],\n [1243],\n [231],\n [980],\n [1070],\n [34],\n [1042],\n [245],\n [1075],\n [525],\n [33],\n [941],\n [949],\n [806],\n [816],\n [1072],\n [65],\n [1032],\n [442],\n [593],\n [809],\n [371],\n [1097],\n [320],\n [1172],\n [45],\n [1055],\n [947],\n [481],\n [571],\n [264],\n [1222],\n [893],\n [120],\n [925],\n [906],\n [1171],\n [326],\n [713],\n [395],\n [104],\n [693],\n [879],\n [127],\n [938],\n [1150],\n [365],\n [651],\n [757],\n [907],\n [331],\n [313],\n [537],\n [983],\n [20],\n [591],\n [1040],\n [223],\n [467],\n [376],\n [55],\n [379],\n [3],\n [971],\n [329],\n [758],\n [273],\n [641],\n [1196],\n [674],\n [1035],\n [1081],\n [416],\n [842],\n [216],\n [578],\n [881],\n [918],\n [272],\n [803],\n [244],\n [317],\n [4],\n [10],\n [1241],\n [171],\n [886],\n [588],\n [248],\n [382],\n [743],\n [49],\n [306],\n [777],\n [735],\n [1122],\n [151],\n [85],\n [479],\n [712],\n [929],\n [265],\n [502],\n [1149],\n [175],\n [398],\n [644],\n [859],\n [860],\n [1021],\n [1084],\n [587],\n [800],\n [249],\n [830],\n [303],\n [1238],\n [1100],\n [1170],\n [797],\n [798],\n [350],\n [1239],\n [779],\n [659],\n [692],\n [960],\n [179],\n [269],\n [11],\n [430],\n [663],\n [27],\n [39],\n [950],\n [583],\n [640],\n [361],\n [957],\n [841],\n [962],\n [761],\n [145],\n [449],\n [1253],\n [702],\n [996],\n [1153],\n [556],\n [754],\n [839],\n [366],\n [748],\n [174],\n [750],\n [913],\n [634],\n [1083],\n [846],\n [453],\n [356],\n [737],\n [720],\n [1023],\n [633],\n [799],\n [201],\n [1195],\n [28],\n [106],\n [510],\n [969],\n [1120],\n [622],\n [131],\n [226],\n [883],\n [455],\n [730],\n [1193],\n [91],\n [266],\n [1086],\n [840],\n [1001],\n [1025],\n [1121],\n [835],\n [838],\n [968],\n [1011],\n [177],\n [214],\n [301],\n [490],\n [741],\n [194],\n [1213],\n [360],\n [89],\n [162],\n [747],\n [1109],\n [205],\n [602],\n [31],\n [891],\n [863],\n [1092],\n [714],\n [1198],\n [59],\n [410],\n [1256],\n [1197],\n [1247],\n [1079],\n [868],\n [657],\n [21],\n [270],\n [1202],\n [290],\n [691],\n [783],\n [931],\n [1038],\n [418],\n [64],\n [71],\n [220],\n [47],\n [221],\n [542],\n [1208],\n [724],\n [829],\n [518],\n [1004],\n [130],\n [567],\n [1246],\n [322],\n [90],\n [896],\n [213],\n [965],\n [1102],\n [341],\n [628],\n [432],\n [897],\n [917],\n [358],\n [474],\n [92],\n [166],\n [433],\n [1007],\n [1057],\n [1155],\n [680],\n [241],\n [403],\n [866],\n [781],\n [610],\n [551],\n [1205],\n [97],\n [507],\n [2],\n [531],\n [77],\n [632],\n [487],\n [603],\n [760],\n [786],\n [615],\n [1250],\n [594],\n [600],\n [339],\n [927],\n [111],\n [381],\n [653],\n [982],\n [87],\n [406],\n [6],\n [1183],\n [524],\n [312],\n [638],\n [105],\n [193],\n [116],\n [1174],\n [369],\n [759],\n [66],\n [912],\n [1064],\n [1138],\n [903],\n [888],\n [488],\n [243],\n [655],\n [584],\n [261],\n [853],\n [1225],\n [1233],\n [649],\n [684],\n [139],\n [408],\n [553],\n [852],\n [1224],\n [1012],\n [596],\n [685],\n [919],\n [447],\n [805],\n [426],\n [1228],\n [785],\n [934],\n [1077],\n [625],\n [940],\n [944],\n [878],\n [394],\n [900],\n [147],\n [1051],\n [168],\n [1210],\n [146],\n [630],\n [428],\n [346],\n [1096],\n [1113],\n [72],\n [1207],\n [570],\n [801],\n [150],\n [482],\n [1126],\n [93],\n [118],\n [129],\n [282],\n [592],\n [749],\n [1027],\n [478],\n [287],\n [826],\n [437],\n [991],\n [682],\n [43],\n [75],\n [374],\n [412],\n [50],\n [246],\n [1139],\n [851],\n [338],\n [1115],\n [94],\n [787],\n [349],\n [286],\n [353],\n [110],\n [539],\n [300],\n [448],\n [988],\n [623],\n [323],\n [438],\n [703],\n [1144],\n [595],\n [224],\n [480],\n [509],\n [548],\n [330],\n [429],\n [208],\n [1199],\n [667],\n [325],\n [494],\n [102],\n [121],\n [308],\n [784],\n [1073],\n [436],\n [778],\n [393],\n [1107],\n [521],\n [559],\n [862],\n [348],\n [279],\n [671],\n [1245],\n [318],\n [495],\n [370],\n [660],\n [951],\n [1065],\n [157],\n [607],\n [463],\n [96],\n [169],\n [1203],\n [550],\n [963],\n [1179],\n [1003],\n [159],\n [388],\n [434],\n [1063],\n [1105],\n [181],\n [511],\n [978],\n [668],\n [70],\n [538],\n [810],\n [828],\n [554],\n [198],\n [187],\n [456],\n [48],\n [229],\n [966],\n [165],\n [993],\n [354],\n [648],\n [620],\n [1223],\n [545],\n [1015],\n [861],\n [818],\n [61],\n [689],\n [414],\n [672],\n [572],\n [1185],\n [711],\n [719],\n [327],\n [503],\n [215],\n [493],\n [362],\n [158],\n [462],\n [813],\n [1184],\n [1142],\n [1237],\n [289],\n [385],\n [427],\n [1067],\n [324],\n [163],\n [1030],\n [222],\n [435],\n [920],\n [483],\n [565],\n [250],\n [57],\n [377],\n [1145],\n [723],\n [464],\n [1163],\n [271],\n [368],\n [619],\n [444],\n [1230],\n [206],\n [558],\n [836],\n [431],\n [161],\n [384],\n [706],\n [280],\n [1173],\n [40],\n [1231],\n [186],\n [533],\n [240],\n [417],\n [899],\n [402],\n [173],\n [295],\n [1125],\n [107],\n [1047],\n [425],\n [621],\n [172],\n [534],\n [994],\n [676],\n [690],\n [256],\n [794],\n [477],\n [16],\n [9],\n [254],\n [576],\n [81],\n [228],\n [134],\n [188],\n [666],\n [726],\n [1020],\n [523],\n [421],\n [975],\n [1019],\n [258],\n [284],\n [731],\n [1235],\n [63],\n [492],\n [307],\n [1254],\n [1133],\n [1134],\n [100],\n [259],\n [58],\n [857],\n [1140],\n [383],\n [1036],\n [1136],\n [170],\n [1232],\n [1135],\n [285],\n [979],\n [468],\n [35],\n [709],\n [1249],\n [99],\n [207],\n [359],\n [678],\n [225],\n [76],\n [1026],\n [928],\n [1000],\n [1141],\n [613],\n [790],\n [491],\n [700],\n [54],\n [999],\n [126],\n [530],\n [192],\n [255],\n [209],\n [281],\n [1242],\n [199],\n [486],\n [688],\n [114],\n [138],\n [699],\n [732],\n [974],\n [46],\n [769],\n [332],\n [876],\n [1129],\n [604],\n [342],\n [764],\n [958],\n [302],\n [309],\n [197],\n [405],\n [855],\n [337],\n [568],\n [1014],\n [943],\n [1165],\n [796],\n [624],\n [1240],\n [5],\n [17],\n [1169],\n [83],\n [902],\n [977],\n [253],\n [117],\n [239],\n [642],\n [278],\n [218],\n [424],\n [738],\n [1143],\n [125],\n [351],\n [1093],\n [1111],\n [263],\n [832],\n [637],\n [352],\n [718],\n [1044],\n [124],\n [582],\n [716],\n [526],\n [961],\n [544],\n [476],\n [535],\n [1201],\n [260],\n [1176],\n [543],\n [629],\n ...]"
          },
          "execution_count": 66,
          "metadata": {},
          "output_type": "execute_result"
        }
      ],
      "source": [
        "from hclustering import *\n",
        "distance_matrix = distance_matrix(data)\n",
        "dendrogram = hierarchical_clustering(distance_matrix)\n",
        "clusters = cut_dendrogram(dendrogram, 0.15)\n",
        "clusters"
      ],
      "metadata": {
        "ExecuteTime": {
          "end_time": "2023-12-13T04:43:38.924308Z",
          "start_time": "2023-12-13T04:36:07.616326Z"
        },
        "id": "50a8da7f43c3950",
        "outputId": "ad597f76-5da8-4f82-abdb-b9ac8e12182e"
      },
      "id": "50a8da7f43c3950"
    },
    {
      "cell_type": "code",
      "execution_count": null,
      "outputs": [
        {
          "data": {
            "text/plain": "array([[ 390],\n       [ 715],\n       [ 364],\n       ...,\n       [ 734],\n       [ 989],\n       [1090]])"
          },
          "execution_count": 70,
          "metadata": {},
          "output_type": "execute_result"
        }
      ],
      "source": [
        "clustersCopy = clusters.copy()\n",
        "clustersCopy = np.array(clustersCopy)\n",
        "clustersCopy"
      ],
      "metadata": {
        "ExecuteTime": {
          "end_time": "2023-12-13T04:55:23.218575Z",
          "start_time": "2023-12-13T04:55:23.214802Z"
        },
        "id": "2b4dfc1ebbbad797",
        "outputId": "04d0418b-9fdc-405f-bb84-d654431789f0"
      },
      "id": "2b4dfc1ebbbad797"
    }
  ],
  "metadata": {
    "kernelspec": {
      "display_name": "Python 3",
      "language": "python",
      "name": "python3"
    },
    "language_info": {
      "codemirror_mode": {
        "name": "ipython",
        "version": 2
      },
      "file_extension": ".py",
      "mimetype": "text/x-python",
      "name": "python",
      "nbconvert_exporter": "python",
      "pygments_lexer": "ipython2",
      "version": "2.7.6"
    },
    "colab": {
      "provenance": []
    }
  },
  "nbformat": 4,
  "nbformat_minor": 5
}
