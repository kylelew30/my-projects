{
 "cells": [
  {
   "cell_type": "markdown",
   "id": "1de7879d-41ad-41db-9c87-8fe0b7840caf",
   "metadata": {},
   "source": [
    "### Import Modules"
   ]
  },
  {
   "cell_type": "code",
   "execution_count": 40,
   "id": "aa24b263-7c00-4cc4-be2e-d3ce043c4740",
   "metadata": {},
   "outputs": [],
   "source": [
    "import pandas as pd\n",
    "import numpy as np\n",
    "import matplotlib.pyplot as plt\n",
    "from sklearn.model_selection import KFold\n",
    "from sklearn.preprocessing import StandardScaler\n",
    "import matplotlib.pyplot as plt\n",
    "import holidays\n",
    "from sklearn.preprocessing import OneHotEncoder\n",
    "from sklearn.compose import make_column_transformer\n",
    "from datetime import timedelta"
   ]
  },
  {
   "cell_type": "markdown",
   "id": "3573db3e-d6b0-44a0-b496-1dc84bf26368",
   "metadata": {},
   "source": [
    "### Read In Data"
   ]
  },
  {
   "cell_type": "code",
   "execution_count": 41,
   "id": "ee46fe9f-852b-4b50-9daf-d922b82cfe57",
   "metadata": {},
   "outputs": [],
   "source": [
    "usecols = [1,2,3,5,11,17,19,20,21,22,23]"
   ]
  },
  {
   "cell_type": "code",
   "execution_count": 42,
   "id": "6f94bbb3-b3db-43b6-a243-cc28c4092418",
   "metadata": {},
   "outputs": [],
   "source": [
    "df_iowa = pd.read_csv(\"//datasets/Iowa_Liquor_Sales.csv\", usecols = usecols)"
   ]
  },
  {
   "cell_type": "code",
   "execution_count": 43,
   "id": "0d5519a5-e00c-4efa-9991-15e0d19da351",
   "metadata": {},
   "outputs": [
    {
     "data": {
      "text/plain": [
       "Index(['Date', 'Store Number', 'Store Name', 'City', 'Category Name',\n",
       "       'Bottle Volume (ml)', 'State Bottle Retail', 'Bottles Sold',\n",
       "       'Sale (Dollars)', 'Volume Sold (Liters)', 'Volume Sold (Gallons)'],\n",
       "      dtype='object')"
      ]
     },
     "execution_count": 43,
     "metadata": {},
     "output_type": "execute_result"
    }
   ],
   "source": [
    "df_iowa.columns"
   ]
  },
  {
   "cell_type": "code",
   "execution_count": 44,
   "id": "566cfe6d-4e62-443e-afd1-a4f09ffc61cd",
   "metadata": {},
   "outputs": [],
   "source": [
    "df_iowa['Date'] = pd.to_datetime(df_iowa['Date'])\n",
    "df_iowa['Year'] = df_iowa['Date'].dt.year\n",
    "df_iowa['Month'] = df_iowa['Date'].dt.month"
   ]
  },
  {
   "cell_type": "markdown",
   "id": "f7e02b39-e8fb-44bd-b479-1596af595450",
   "metadata": {},
   "source": [
    "### Subset Data"
   ]
  },
  {
   "cell_type": "code",
   "execution_count": 45,
   "id": "add872b7-dd1d-4475-acb0-fc25266b7297",
   "metadata": {},
   "outputs": [],
   "source": [
    "data_years = [2020,2021,2022,2023]"
   ]
  },
  {
   "cell_type": "code",
   "execution_count": 46,
   "id": "3653d5ad-6777-4732-9681-9fc9f8c03ee6",
   "metadata": {},
   "outputs": [],
   "source": [
    "df_sub = df_iowa[df_iowa['Year'].isin(data_years)]"
   ]
  },
  {
   "cell_type": "code",
   "execution_count": 47,
   "id": "3947ed43-242b-4c38-b8a6-2d5f086f458d",
   "metadata": {},
   "outputs": [
    {
     "data": {
      "text/plain": [
       "(6891949, 13)"
      ]
     },
     "execution_count": 47,
     "metadata": {},
     "output_type": "execute_result"
    }
   ],
   "source": [
    "df_sub.shape"
   ]
  },
  {
   "cell_type": "markdown",
   "id": "12cf190f-6622-4430-b79e-3e3ab1bbfa04",
   "metadata": {},
   "source": [
    "## Data Cleaning"
   ]
  },
  {
   "cell_type": "markdown",
   "id": "b485a060-289a-421b-91d2-88ab42a307a9",
   "metadata": {},
   "source": [
    "### Store Names"
   ]
  },
  {
   "cell_type": "code",
   "execution_count": 48,
   "id": "5088097f-86b6-452b-ba53-7e861b689024",
   "metadata": {},
   "outputs": [],
   "source": [
    "def clean_store_names(store):\n",
    "    \n",
    "    store = store.split('/')[0].split('#')[0].lower().rstrip(' ')\n",
    "    \n",
    "    if (store.find('wal-mart') != -1) or (store == 'W-Mart'):\n",
    "        return 'walmart'\n",
    "    \n",
    "    if store.find('target store t') != -1:\n",
    "        return 'target'\n",
    "    \n",
    "    if store.find(\"sam's club\") != -1:\n",
    "        return \"sam's club\"\n",
    "    \n",
    "    if store.find('hy-vee') != -1:\n",
    "        return 'hy-vee'\n",
    "    \n",
    "    if store.find('central city') != -1:\n",
    "        return 'central city'\n",
    "    \n",
    "    return store"
   ]
  },
  {
   "cell_type": "code",
   "execution_count": 49,
   "id": "cc6f89c8-306a-49a6-b070-bd4a11b6f507",
   "metadata": {},
   "outputs": [],
   "source": [
    "df_sub.loc[:,'Store Name'] = df_sub['Store Name'].apply(clean_store_names)"
   ]
  },
  {
   "cell_type": "markdown",
   "id": "8e299f25-98c9-4b3f-9b1b-34fe4371fdbf",
   "metadata": {},
   "source": [
    "### Alcohol Category Name"
   ]
  },
  {
   "cell_type": "markdown",
   "id": "1a0976d2-a4b5-4a5d-9fb6-a918ec548d49",
   "metadata": {},
   "source": [
    "We can potentially use this as different response variables to see if the effects of the explanatory variables are for the different types of alcohol "
   ]
  },
  {
   "cell_type": "code",
   "execution_count": 50,
   "id": "7be56c32-0559-4dda-b647-269c8cbb7134",
   "metadata": {},
   "outputs": [],
   "source": [
    "def clean_cats(cat):\n",
    "    cat = cat.lower()\n",
    "    if (cat.find('whiskies') != -1) or (cat.find('whiskey') != -1):\n",
    "        return 'whiskey'\n",
    "    if (cat.find('vodka') != -1) or (cat.find('vodkas') != -1):\n",
    "        return 'vodka'\n",
    "    if (cat.find('tequila') != -1):\n",
    "        return 'tequila'\n",
    "    if (cat.find('gin') != -1):\n",
    "        return 'gin'\n",
    "    if (cat.find('rum') != -1):\n",
    "        return 'rum'\n",
    "    if (cat.find('liqueurs') != -1) or (cat.find('liqueur') != -1):\n",
    "        return 'liqueur'\n",
    "    if (cat.find('schnapps') != -1) or (cat.find('schnapp') != -1):\n",
    "        return 'schnapps'\n",
    "    if (cat.find('spirit') != -1):\n",
    "        return 'spirit'\n",
    "    if (cat.find('cocktail') != -1):\n",
    "        return 'cocktail'\n",
    "    if (cat.find('brandies') != -1) or (cat.find('brandy') != -1):\n",
    "        return 'brandy'\n",
    "    if (cat.find('scotch') != -1):\n",
    "        return 'scotch'\n",
    "    if (cat.find('bourbon') != -1):\n",
    "        return 'bourbon'\n",
    "    return 'other'"
   ]
  },
  {
   "cell_type": "code",
   "execution_count": 51,
   "id": "f0f6d3f6-67c0-4b87-8659-99f20e06fa35",
   "metadata": {},
   "outputs": [
    {
     "name": "stderr",
     "output_type": "stream",
     "text": [
      "<ipython-input-51-12ea0e9ec2c3>:1: SettingWithCopyWarning: \n",
      "A value is trying to be set on a copy of a slice from a DataFrame.\n",
      "Try using .loc[row_indexer,col_indexer] = value instead\n",
      "\n",
      "See the caveats in the documentation: https://pandas.pydata.org/pandas-docs/stable/user_guide/indexing.html#returning-a-view-versus-a-copy\n",
      "  df_sub['Category Name'] = df_sub['Category Name'].astype(str).apply(clean_cats)\n"
     ]
    },
    {
     "data": {
      "text/html": [
       "<div>\n",
       "<style scoped>\n",
       "    .dataframe tbody tr th:only-of-type {\n",
       "        vertical-align: middle;\n",
       "    }\n",
       "\n",
       "    .dataframe tbody tr th {\n",
       "        vertical-align: top;\n",
       "    }\n",
       "\n",
       "    .dataframe thead th {\n",
       "        text-align: right;\n",
       "    }\n",
       "</style>\n",
       "<table border=\"1\" class=\"dataframe\">\n",
       "  <thead>\n",
       "    <tr style=\"text-align: right;\">\n",
       "      <th></th>\n",
       "      <th>Date</th>\n",
       "      <th>Store Number</th>\n",
       "      <th>Store Name</th>\n",
       "      <th>City</th>\n",
       "      <th>Category Name</th>\n",
       "      <th>Bottle Volume (ml)</th>\n",
       "      <th>State Bottle Retail</th>\n",
       "      <th>Bottles Sold</th>\n",
       "      <th>Sale (Dollars)</th>\n",
       "      <th>Volume Sold (Liters)</th>\n",
       "      <th>Volume Sold (Gallons)</th>\n",
       "      <th>Year</th>\n",
       "      <th>Month</th>\n",
       "    </tr>\n",
       "  </thead>\n",
       "  <tbody>\n",
       "    <tr>\n",
       "      <th>11875780</th>\n",
       "      <td>2020-01-02</td>\n",
       "      <td>4404.0</td>\n",
       "      <td>kum &amp; go</td>\n",
       "      <td>Ankeny</td>\n",
       "      <td>whiskey</td>\n",
       "      <td>375.0</td>\n",
       "      <td>12.00</td>\n",
       "      <td>2.0</td>\n",
       "      <td>24.00</td>\n",
       "      <td>0.75</td>\n",
       "      <td>0.19</td>\n",
       "      <td>2020.0</td>\n",
       "      <td>1.0</td>\n",
       "    </tr>\n",
       "    <tr>\n",
       "      <th>11875781</th>\n",
       "      <td>2020-01-02</td>\n",
       "      <td>5257.0</td>\n",
       "      <td>mad ave quik shop</td>\n",
       "      <td>Ottumwa</td>\n",
       "      <td>vodka</td>\n",
       "      <td>1000.0</td>\n",
       "      <td>6.08</td>\n",
       "      <td>12.0</td>\n",
       "      <td>72.96</td>\n",
       "      <td>12.00</td>\n",
       "      <td>3.17</td>\n",
       "      <td>2020.0</td>\n",
       "      <td>1.0</td>\n",
       "    </tr>\n",
       "    <tr>\n",
       "      <th>11875782</th>\n",
       "      <td>2020-01-03</td>\n",
       "      <td>5529.0</td>\n",
       "      <td>big 10 mart</td>\n",
       "      <td>Dubuque</td>\n",
       "      <td>brandy</td>\n",
       "      <td>200.0</td>\n",
       "      <td>3.00</td>\n",
       "      <td>8.0</td>\n",
       "      <td>24.00</td>\n",
       "      <td>1.60</td>\n",
       "      <td>0.42</td>\n",
       "      <td>2020.0</td>\n",
       "      <td>1.0</td>\n",
       "    </tr>\n",
       "    <tr>\n",
       "      <th>11875783</th>\n",
       "      <td>2020-01-06</td>\n",
       "      <td>2524.0</td>\n",
       "      <td>hy-vee</td>\n",
       "      <td>Dubuque</td>\n",
       "      <td>tequila</td>\n",
       "      <td>1000.0</td>\n",
       "      <td>11.75</td>\n",
       "      <td>12.0</td>\n",
       "      <td>141.00</td>\n",
       "      <td>12.00</td>\n",
       "      <td>3.17</td>\n",
       "      <td>2020.0</td>\n",
       "      <td>1.0</td>\n",
       "    </tr>\n",
       "    <tr>\n",
       "      <th>11875784</th>\n",
       "      <td>2020-01-07</td>\n",
       "      <td>2643.0</td>\n",
       "      <td>hy-vee</td>\n",
       "      <td>Waterloo</td>\n",
       "      <td>vodka</td>\n",
       "      <td>200.0</td>\n",
       "      <td>1.73</td>\n",
       "      <td>6.0</td>\n",
       "      <td>10.38</td>\n",
       "      <td>1.20</td>\n",
       "      <td>0.31</td>\n",
       "      <td>2020.0</td>\n",
       "      <td>1.0</td>\n",
       "    </tr>\n",
       "  </tbody>\n",
       "</table>\n",
       "</div>"
      ],
      "text/plain": [
       "               Date  Store Number         Store Name      City Category Name  \\\n",
       "11875780 2020-01-02        4404.0           kum & go    Ankeny       whiskey   \n",
       "11875781 2020-01-02        5257.0  mad ave quik shop   Ottumwa         vodka   \n",
       "11875782 2020-01-03        5529.0        big 10 mart   Dubuque        brandy   \n",
       "11875783 2020-01-06        2524.0             hy-vee   Dubuque       tequila   \n",
       "11875784 2020-01-07        2643.0             hy-vee  Waterloo         vodka   \n",
       "\n",
       "          Bottle Volume (ml)  State Bottle Retail  Bottles Sold  \\\n",
       "11875780               375.0                12.00           2.0   \n",
       "11875781              1000.0                 6.08          12.0   \n",
       "11875782               200.0                 3.00           8.0   \n",
       "11875783              1000.0                11.75          12.0   \n",
       "11875784               200.0                 1.73           6.0   \n",
       "\n",
       "          Sale (Dollars)  Volume Sold (Liters)  Volume Sold (Gallons)    Year  \\\n",
       "11875780           24.00                  0.75                   0.19  2020.0   \n",
       "11875781           72.96                 12.00                   3.17  2020.0   \n",
       "11875782           24.00                  1.60                   0.42  2020.0   \n",
       "11875783          141.00                 12.00                   3.17  2020.0   \n",
       "11875784           10.38                  1.20                   0.31  2020.0   \n",
       "\n",
       "          Month  \n",
       "11875780    1.0  \n",
       "11875781    1.0  \n",
       "11875782    1.0  \n",
       "11875783    1.0  \n",
       "11875784    1.0  "
      ]
     },
     "execution_count": 51,
     "metadata": {},
     "output_type": "execute_result"
    }
   ],
   "source": [
    "df_sub['Category Name'] = df_sub['Category Name'].astype(str).apply(clean_cats)\n",
    "df_sub.head()"
   ]
  },
  {
   "cell_type": "markdown",
   "id": "7c1ee225-7015-4c02-a40a-ea0f5bba7fa6",
   "metadata": {},
   "source": [
    "## Feature Engineering"
   ]
  },
  {
   "cell_type": "markdown",
   "id": "09709c6d-794d-48b0-9446-e0fd3aadca55",
   "metadata": {},
   "source": [
    "### City Population Feature Engineering"
   ]
  },
  {
   "cell_type": "markdown",
   "id": "953f3f30-a212-4287-8b54-222692e5ea48",
   "metadata": {},
   "source": [
    "The goal of this feature engineering is to create a categorical variable which can be used to measure the size of a city's population"
   ]
  },
  {
   "cell_type": "code",
   "execution_count": 52,
   "id": "c473f644-2557-4cc0-830e-0ef2681db1e7",
   "metadata": {},
   "outputs": [],
   "source": [
    "def clean_cities(city):\n",
    "    city = city.lower()\n",
    "    if city == 'clearlake':\n",
    "        return 'clear lake'\n",
    "    elif city == 'mt pleasant':\n",
    "        return 'mount pleasant'\n",
    "    elif city == 'lemars':\n",
    "        return 'le mars'\n",
    "    elif city == 'saint ansgar':\n",
    "        return 'st ansgar'\n",
    "    elif city == 'leclaire':\n",
    "        return 'le claire'\n",
    "    elif city == 'jewell':\n",
    "        return 'jewell junction'\n",
    "    elif city == \"arnold's park\":\n",
    "        return 'arnolds park'\n",
    "    elif city == 'grand mounds':\n",
    "        return 'grand mound'\n",
    "    elif city == 'lonetree':\n",
    "        return 'lone tree'\n",
    "    elif city == 'otumwa':\n",
    "        return 'ottumwa'\n",
    "    else:\n",
    "        return city"
   ]
  },
  {
   "cell_type": "code",
   "execution_count": 53,
   "id": "11c66204-901a-44f8-b61d-2cf5e5bc0979",
   "metadata": {},
   "outputs": [],
   "source": [
    "df_sub.loc[:,'City'] = df_sub['City'].astype(str).apply(clean_cities)"
   ]
  },
  {
   "cell_type": "markdown",
   "id": "923fc62e-1455-4966-b171-34982cb51c74",
   "metadata": {},
   "source": [
    "Iowa_city.csv is an external dataset which contains the populations for different cities in Iowa. We will be joining this dataset to the Iowa beer data so we can work with the population numbers"
   ]
  },
  {
   "cell_type": "code",
   "execution_count": 54,
   "id": "33ecb719-9003-4f92-a761-809e513b9d96",
   "metadata": {},
   "outputs": [],
   "source": [
    "df_cities = pd.read_csv(\"https://raw.githubusercontent.com/brendad8/Datasets/main/Iowa_City.csv\")"
   ]
  },
  {
   "cell_type": "code",
   "execution_count": 55,
   "id": "50926c7e-8465-43fd-b006-3a953102d94d",
   "metadata": {},
   "outputs": [],
   "source": [
    "df_cities['population'] = df_cities['population'].str.replace(\",\", \"\").astype(int)\n",
    "df_cities['name'] = df_cities['name'].str.replace(\" city\", \"\").str.lower()\n",
    "df_cities['name'] = df_cities['name'].str.replace(\".\", \"\")\n",
    "df_cities['name'] = df_cities['name'].str.replace(\" cdp\", \"\")"
   ]
  },
  {
   "cell_type": "code",
   "execution_count": 56,
   "id": "f23778c9-7a5d-49a1-8b8e-105b74c4d260",
   "metadata": {},
   "outputs": [],
   "source": [
    "df_sub = df_sub.merge(df_cities, left_on = 'City', right_on = 'name', how='left')"
   ]
  },
  {
   "cell_type": "code",
   "execution_count": 57,
   "id": "dcc3f911-a5a2-47ff-93e8-97ded5954efe",
   "metadata": {},
   "outputs": [],
   "source": [
    "df_sub.dropna(inplace=True)"
   ]
  },
  {
   "cell_type": "code",
   "execution_count": 58,
   "id": "5f017277-7473-4e99-953a-8c62723e4192",
   "metadata": {},
   "outputs": [
    {
     "data": {
      "text/plain": [
       "(6889245, 15)"
      ]
     },
     "execution_count": 58,
     "metadata": {},
     "output_type": "execute_result"
    }
   ],
   "source": [
    "df_sub.shape"
   ]
  },
  {
   "cell_type": "code",
   "execution_count": 59,
   "id": "ced707a5-b208-4c33-ac9f-96f23fbc7dff",
   "metadata": {},
   "outputs": [],
   "source": [
    "def map_city_pop(pop):\n",
    "    if pop >= 100000:\n",
    "        return '6'\n",
    "    else:\n",
    "        if pop >= 50000:\n",
    "            return '5'\n",
    "        else:\n",
    "            if pop >= 20000:\n",
    "                return '4'\n",
    "            else:\n",
    "                if pop >= 10000:\n",
    "                    return '3'\n",
    "                else:\n",
    "                    if pop >= 1000:\n",
    "                        return '2'\n",
    "                    else:\n",
    "                        return '1'"
   ]
  },
  {
   "cell_type": "code",
   "execution_count": 60,
   "id": "ad6821f3-2aa5-4e4f-9795-30bf36955a71",
   "metadata": {},
   "outputs": [],
   "source": [
    "df_sub.loc[:,'Pop_Bracket'] = df_sub['population'].apply(map_city_pop)"
   ]
  },
  {
   "cell_type": "markdown",
   "id": "4ffc099c-c051-4020-9227-d1ee08b25c7e",
   "metadata": {},
   "source": [
    "#### Plot using new Population Bracket Variable"
   ]
  },
  {
   "cell_type": "code",
   "execution_count": 61,
   "id": "4fb47cfa-12f5-4771-b437-de0a09ebf703",
   "metadata": {},
   "outputs": [
    {
     "data": {
      "text/plain": [
       "<Axes: xlabel='Pop_Bracket'>"
      ]
     },
     "execution_count": 61,
     "metadata": {},
     "output_type": "execute_result"
    },
    {
     "data": {
      "image/png": "[encoded data removed]",
      "text/plain": [
       "<Figure size 432x288 with 1 Axes>"
      ]
     },
     "metadata": {
      "needs_background": "light"
     },
     "output_type": "display_data"
    }
   ],
   "source": [
    "df_sub.groupby(['Pop_Bracket'])['Volume Sold (Gallons)'].mean().plot.bar()"
   ]
  },
  {
   "cell_type": "markdown",
   "id": "8ff137f0-764c-407f-b21c-dc630031643a",
   "metadata": {},
   "source": [
    "This plot shows that stores in cities with larger populations tend to purchase more gallons of alcohol for their stores. This is pretty obvious and may come in handy when interpreting other predictors. Ex. Adjusting for population of the city, this var is associated with..."
   ]
  },
  {
   "cell_type": "markdown",
   "id": "323d0d04-ac2e-427e-b7d3-ccc200891d22",
   "metadata": {},
   "source": [
    "### Weekday vs Weekend Feature Engineering"
   ]
  },
  {
   "cell_type": "markdown",
   "id": "6e2e5ffb-4bd7-4dde-b2e8-28a7cf40e00b",
   "metadata": {},
   "source": [
    "The goal of this section was to create 2 variables:\n",
    "\n",
    "1. A variable for the day of the week --> monday=1, tuesday=2, ...\n",
    "2. A variable to indicate whether the day was on the weekend\n",
    "    \n",
    "Note: we are including Friday as part of the weekend"
   ]
  },
  {
   "cell_type": "code",
   "execution_count": 62,
   "id": "9d30d151-1b9d-4c98-a4ae-9bcb05e42429",
   "metadata": {},
   "outputs": [
    {
     "data": {
      "text/html": [
       "<div>\n",
       "<style scoped>\n",
       "    .dataframe tbody tr th:only-of-type {\n",
       "        vertical-align: middle;\n",
       "    }\n",
       "\n",
       "    .dataframe tbody tr th {\n",
       "        vertical-align: top;\n",
       "    }\n",
       "\n",
       "    .dataframe thead th {\n",
       "        text-align: right;\n",
       "    }\n",
       "</style>\n",
       "<table border=\"1\" class=\"dataframe\">\n",
       "  <thead>\n",
       "    <tr style=\"text-align: right;\">\n",
       "      <th></th>\n",
       "      <th>Date</th>\n",
       "      <th>Store Number</th>\n",
       "      <th>Store Name</th>\n",
       "      <th>City</th>\n",
       "      <th>Category Name</th>\n",
       "      <th>Bottle Volume (ml)</th>\n",
       "      <th>State Bottle Retail</th>\n",
       "      <th>Bottles Sold</th>\n",
       "      <th>Sale (Dollars)</th>\n",
       "      <th>Volume Sold (Liters)</th>\n",
       "      <th>Volume Sold (Gallons)</th>\n",
       "      <th>Year</th>\n",
       "      <th>Month</th>\n",
       "      <th>name</th>\n",
       "      <th>population</th>\n",
       "      <th>Pop_Bracket</th>\n",
       "      <th>DayofWeek</th>\n",
       "      <th>Weekend_or_Weekday</th>\n",
       "    </tr>\n",
       "  </thead>\n",
       "  <tbody>\n",
       "    <tr>\n",
       "      <th>0</th>\n",
       "      <td>2020-01-02</td>\n",
       "      <td>4404.0</td>\n",
       "      <td>kum &amp; go</td>\n",
       "      <td>ankeny</td>\n",
       "      <td>whiskey</td>\n",
       "      <td>375.0</td>\n",
       "      <td>12.00</td>\n",
       "      <td>2.0</td>\n",
       "      <td>24.00</td>\n",
       "      <td>0.75</td>\n",
       "      <td>0.19</td>\n",
       "      <td>2020.0</td>\n",
       "      <td>1.0</td>\n",
       "      <td>ankeny</td>\n",
       "      <td>72222.0</td>\n",
       "      <td>5</td>\n",
       "      <td>Thursday</td>\n",
       "      <td>Weekday</td>\n",
       "    </tr>\n",
       "    <tr>\n",
       "      <th>1</th>\n",
       "      <td>2020-01-02</td>\n",
       "      <td>5257.0</td>\n",
       "      <td>mad ave quik shop</td>\n",
       "      <td>ottumwa</td>\n",
       "      <td>vodka</td>\n",
       "      <td>1000.0</td>\n",
       "      <td>6.08</td>\n",
       "      <td>12.0</td>\n",
       "      <td>72.96</td>\n",
       "      <td>12.00</td>\n",
       "      <td>3.17</td>\n",
       "      <td>2020.0</td>\n",
       "      <td>1.0</td>\n",
       "      <td>ottumwa</td>\n",
       "      <td>25175.0</td>\n",
       "      <td>4</td>\n",
       "      <td>Thursday</td>\n",
       "      <td>Weekday</td>\n",
       "    </tr>\n",
       "    <tr>\n",
       "      <th>2</th>\n",
       "      <td>2020-01-03</td>\n",
       "      <td>5529.0</td>\n",
       "      <td>big 10 mart</td>\n",
       "      <td>dubuque</td>\n",
       "      <td>brandy</td>\n",
       "      <td>200.0</td>\n",
       "      <td>3.00</td>\n",
       "      <td>8.0</td>\n",
       "      <td>24.00</td>\n",
       "      <td>1.60</td>\n",
       "      <td>0.42</td>\n",
       "      <td>2020.0</td>\n",
       "      <td>1.0</td>\n",
       "      <td>dubuque</td>\n",
       "      <td>58873.0</td>\n",
       "      <td>5</td>\n",
       "      <td>Friday</td>\n",
       "      <td>Weekend</td>\n",
       "    </tr>\n",
       "    <tr>\n",
       "      <th>3</th>\n",
       "      <td>2020-01-06</td>\n",
       "      <td>2524.0</td>\n",
       "      <td>hy-vee</td>\n",
       "      <td>dubuque</td>\n",
       "      <td>tequila</td>\n",
       "      <td>1000.0</td>\n",
       "      <td>11.75</td>\n",
       "      <td>12.0</td>\n",
       "      <td>141.00</td>\n",
       "      <td>12.00</td>\n",
       "      <td>3.17</td>\n",
       "      <td>2020.0</td>\n",
       "      <td>1.0</td>\n",
       "      <td>dubuque</td>\n",
       "      <td>58873.0</td>\n",
       "      <td>5</td>\n",
       "      <td>Monday</td>\n",
       "      <td>Weekday</td>\n",
       "    </tr>\n",
       "    <tr>\n",
       "      <th>4</th>\n",
       "      <td>2020-01-07</td>\n",
       "      <td>2643.0</td>\n",
       "      <td>hy-vee</td>\n",
       "      <td>waterloo</td>\n",
       "      <td>vodka</td>\n",
       "      <td>200.0</td>\n",
       "      <td>1.73</td>\n",
       "      <td>6.0</td>\n",
       "      <td>10.38</td>\n",
       "      <td>1.20</td>\n",
       "      <td>0.31</td>\n",
       "      <td>2020.0</td>\n",
       "      <td>1.0</td>\n",
       "      <td>waterloo</td>\n",
       "      <td>66562.0</td>\n",
       "      <td>5</td>\n",
       "      <td>Tuesday</td>\n",
       "      <td>Weekday</td>\n",
       "    </tr>\n",
       "  </tbody>\n",
       "</table>\n",
       "</div>"
      ],
      "text/plain": [
       "        Date  Store Number         Store Name      City Category Name  \\\n",
       "0 2020-01-02        4404.0           kum & go    ankeny       whiskey   \n",
       "1 2020-01-02        5257.0  mad ave quik shop   ottumwa         vodka   \n",
       "2 2020-01-03        5529.0        big 10 mart   dubuque        brandy   \n",
       "3 2020-01-06        2524.0             hy-vee   dubuque       tequila   \n",
       "4 2020-01-07        2643.0             hy-vee  waterloo         vodka   \n",
       "\n",
       "   Bottle Volume (ml)  State Bottle Retail  Bottles Sold  Sale (Dollars)  \\\n",
       "0               375.0                12.00           2.0           24.00   \n",
       "1              1000.0                 6.08          12.0           72.96   \n",
       "2               200.0                 3.00           8.0           24.00   \n",
       "3              1000.0                11.75          12.0          141.00   \n",
       "4               200.0                 1.73           6.0           10.38   \n",
       "\n",
       "   Volume Sold (Liters)  Volume Sold (Gallons)    Year  Month      name  \\\n",
       "0                  0.75                   0.19  2020.0    1.0    ankeny   \n",
       "1                 12.00                   3.17  2020.0    1.0   ottumwa   \n",
       "2                  1.60                   0.42  2020.0    1.0   dubuque   \n",
       "3                 12.00                   3.17  2020.0    1.0   dubuque   \n",
       "4                  1.20                   0.31  2020.0    1.0  waterloo   \n",
       "\n",
       "   population Pop_Bracket DayofWeek Weekend_or_Weekday  \n",
       "0     72222.0           5  Thursday            Weekday  \n",
       "1     25175.0           4  Thursday            Weekday  \n",
       "2     58873.0           5    Friday            Weekend  \n",
       "3     58873.0           5    Monday            Weekday  \n",
       "4     66562.0           5   Tuesday            Weekday  "
      ]
     },
     "execution_count": 62,
     "metadata": {},
     "output_type": "execute_result"
    }
   ],
   "source": [
    "df_sub['DayofWeekInt'] = df_sub['Date'].dt.dayofweek\n",
    "df_sub[\"DayofWeek\"] = df_sub[\"DayofWeekInt\"].map({0:\"Monday\", 1:\"Tuesday\", 2:\"Wednesday\", 3:\"Thursday\", 4:\"Friday\", 5:\"Saturday\", 6:\"Sunday\"})\n",
    "df_sub[\"Weekend_or_Weekday\"] = df_sub[\"DayofWeekInt\"].map({0:\"Weekday\", 1:\"Weekday\", 2:\"Weekday\", 3:\"Weekday\", 4:\"Weekend\", 5:\"Weekend\", 6:\"Weekend\"})\n",
    "df_sub = df_sub.drop(columns=\"DayofWeekInt\")\n",
    "df_sub.head()"
   ]
  },
  {
   "cell_type": "markdown",
   "id": "c39920d3-d955-4ca0-b162-7378db0d19a6",
   "metadata": {},
   "source": [
    "#### Plots using new Weekend / Day of Week Variables"
   ]
  },
  {
   "cell_type": "code",
   "execution_count": 63,
   "id": "f4f13362-f883-464f-b3e9-05a30ac9110a",
   "metadata": {},
   "outputs": [
    {
     "data": {
      "text/plain": [
       "<Axes: xlabel='Weekend_or_Weekday'>"
      ]
     },
     "execution_count": 63,
     "metadata": {},
     "output_type": "execute_result"
    },
    {
     "data": {
      "image/png": "[encoded data removed]",
      "text/plain": [
       "<Figure size 432x288 with 1 Axes>"
      ]
     },
     "metadata": {
      "needs_background": "light"
     },
     "output_type": "display_data"
    }
   ],
   "source": [
    "df_sub.groupby('Weekend_or_Weekday')['Volume Sold (Gallons)'].mean().plot.bar()"
   ]
  },
  {
   "cell_type": "code",
   "execution_count": 64,
   "id": "7df35434-0cd5-4d0d-ac94-e49c680003d3",
   "metadata": {},
   "outputs": [
    {
     "data": {
      "text/plain": [
       "<Axes: xlabel='DayofWeek'>"
      ]
     },
     "execution_count": 64,
     "metadata": {},
     "output_type": "execute_result"
    },
    {
     "data": {
      "image/png": "[encoded data removed]",
      "text/plain": [
       "<Figure size 432x288 with 1 Axes>"
      ]
     },
     "metadata": {
      "needs_background": "light"
     },
     "output_type": "display_data"
    }
   ],
   "source": [
    "df_sub.groupby('DayofWeek')['Volume Sold (Gallons)'].mean().plot.bar()"
   ]
  },
  {
   "cell_type": "markdown",
   "id": "1fd9cd4b-93a8-4209-96f4-5879fbb66398",
   "metadata": {},
   "source": [
    "### Major College Town Feature Engineering"
   ]
  },
  {
   "cell_type": "markdown",
   "id": "3a8dc353-5b2c-47f1-b581-d0b5d8c81eb3",
   "metadata": {},
   "source": [
    "The two largest public universities in Iowa are Iowa State University and University of Iowa which are in Ames and Iowa City respectively\n",
    "\n",
    "The goal of this feature engineering is to create a variable which indicates whether a liquor store is in one of these college cites/towns."
   ]
  },
  {
   "cell_type": "code",
   "execution_count": 65,
   "id": "6ed6af15-a13c-496d-b07f-82b7447a2b40",
   "metadata": {},
   "outputs": [],
   "source": [
    "def is_major_college_town(city):\n",
    "    if city in [\"ames\", \"iowa city\"]:\n",
    "        return 1\n",
    "    else:\n",
    "        return 0"
   ]
  },
  {
   "cell_type": "code",
   "execution_count": 66,
   "id": "66b6e78c-632b-4e7c-a2ad-4710a0347733",
   "metadata": {},
   "outputs": [
    {
     "data": {
      "text/html": [
       "<div>\n",
       "<style scoped>\n",
       "    .dataframe tbody tr th:only-of-type {\n",
       "        vertical-align: middle;\n",
       "    }\n",
       "\n",
       "    .dataframe tbody tr th {\n",
       "        vertical-align: top;\n",
       "    }\n",
       "\n",
       "    .dataframe thead th {\n",
       "        text-align: right;\n",
       "    }\n",
       "</style>\n",
       "<table border=\"1\" class=\"dataframe\">\n",
       "  <thead>\n",
       "    <tr style=\"text-align: right;\">\n",
       "      <th></th>\n",
       "      <th>Date</th>\n",
       "      <th>Store Number</th>\n",
       "      <th>Store Name</th>\n",
       "      <th>City</th>\n",
       "      <th>Category Name</th>\n",
       "      <th>Bottle Volume (ml)</th>\n",
       "      <th>State Bottle Retail</th>\n",
       "      <th>Bottles Sold</th>\n",
       "      <th>Sale (Dollars)</th>\n",
       "      <th>Volume Sold (Liters)</th>\n",
       "      <th>Volume Sold (Gallons)</th>\n",
       "      <th>Year</th>\n",
       "      <th>Month</th>\n",
       "      <th>name</th>\n",
       "      <th>population</th>\n",
       "      <th>Pop_Bracket</th>\n",
       "      <th>DayofWeek</th>\n",
       "      <th>Weekend_or_Weekday</th>\n",
       "      <th>major_college_town</th>\n",
       "    </tr>\n",
       "  </thead>\n",
       "  <tbody>\n",
       "    <tr>\n",
       "      <th>0</th>\n",
       "      <td>2020-01-02</td>\n",
       "      <td>4404.0</td>\n",
       "      <td>kum &amp; go</td>\n",
       "      <td>ankeny</td>\n",
       "      <td>whiskey</td>\n",
       "      <td>375.0</td>\n",
       "      <td>12.00</td>\n",
       "      <td>2.0</td>\n",
       "      <td>24.00</td>\n",
       "      <td>0.75</td>\n",
       "      <td>0.19</td>\n",
       "      <td>2020.0</td>\n",
       "      <td>1.0</td>\n",
       "      <td>ankeny</td>\n",
       "      <td>72222.0</td>\n",
       "      <td>5</td>\n",
       "      <td>Thursday</td>\n",
       "      <td>Weekday</td>\n",
       "      <td>0</td>\n",
       "    </tr>\n",
       "    <tr>\n",
       "      <th>1</th>\n",
       "      <td>2020-01-02</td>\n",
       "      <td>5257.0</td>\n",
       "      <td>mad ave quik shop</td>\n",
       "      <td>ottumwa</td>\n",
       "      <td>vodka</td>\n",
       "      <td>1000.0</td>\n",
       "      <td>6.08</td>\n",
       "      <td>12.0</td>\n",
       "      <td>72.96</td>\n",
       "      <td>12.00</td>\n",
       "      <td>3.17</td>\n",
       "      <td>2020.0</td>\n",
       "      <td>1.0</td>\n",
       "      <td>ottumwa</td>\n",
       "      <td>25175.0</td>\n",
       "      <td>4</td>\n",
       "      <td>Thursday</td>\n",
       "      <td>Weekday</td>\n",
       "      <td>0</td>\n",
       "    </tr>\n",
       "    <tr>\n",
       "      <th>2</th>\n",
       "      <td>2020-01-03</td>\n",
       "      <td>5529.0</td>\n",
       "      <td>big 10 mart</td>\n",
       "      <td>dubuque</td>\n",
       "      <td>brandy</td>\n",
       "      <td>200.0</td>\n",
       "      <td>3.00</td>\n",
       "      <td>8.0</td>\n",
       "      <td>24.00</td>\n",
       "      <td>1.60</td>\n",
       "      <td>0.42</td>\n",
       "      <td>2020.0</td>\n",
       "      <td>1.0</td>\n",
       "      <td>dubuque</td>\n",
       "      <td>58873.0</td>\n",
       "      <td>5</td>\n",
       "      <td>Friday</td>\n",
       "      <td>Weekend</td>\n",
       "      <td>0</td>\n",
       "    </tr>\n",
       "    <tr>\n",
       "      <th>3</th>\n",
       "      <td>2020-01-06</td>\n",
       "      <td>2524.0</td>\n",
       "      <td>hy-vee</td>\n",
       "      <td>dubuque</td>\n",
       "      <td>tequila</td>\n",
       "      <td>1000.0</td>\n",
       "      <td>11.75</td>\n",
       "      <td>12.0</td>\n",
       "      <td>141.00</td>\n",
       "      <td>12.00</td>\n",
       "      <td>3.17</td>\n",
       "      <td>2020.0</td>\n",
       "      <td>1.0</td>\n",
       "      <td>dubuque</td>\n",
       "      <td>58873.0</td>\n",
       "      <td>5</td>\n",
       "      <td>Monday</td>\n",
       "      <td>Weekday</td>\n",
       "      <td>0</td>\n",
       "    </tr>\n",
       "    <tr>\n",
       "      <th>4</th>\n",
       "      <td>2020-01-07</td>\n",
       "      <td>2643.0</td>\n",
       "      <td>hy-vee</td>\n",
       "      <td>waterloo</td>\n",
       "      <td>vodka</td>\n",
       "      <td>200.0</td>\n",
       "      <td>1.73</td>\n",
       "      <td>6.0</td>\n",
       "      <td>10.38</td>\n",
       "      <td>1.20</td>\n",
       "      <td>0.31</td>\n",
       "      <td>2020.0</td>\n",
       "      <td>1.0</td>\n",
       "      <td>waterloo</td>\n",
       "      <td>66562.0</td>\n",
       "      <td>5</td>\n",
       "      <td>Tuesday</td>\n",
       "      <td>Weekday</td>\n",
       "      <td>0</td>\n",
       "    </tr>\n",
       "  </tbody>\n",
       "</table>\n",
       "</div>"
      ],
      "text/plain": [
       "        Date  Store Number         Store Name      City Category Name  \\\n",
       "0 2020-01-02        4404.0           kum & go    ankeny       whiskey   \n",
       "1 2020-01-02        5257.0  mad ave quik shop   ottumwa         vodka   \n",
       "2 2020-01-03        5529.0        big 10 mart   dubuque        brandy   \n",
       "3 2020-01-06        2524.0             hy-vee   dubuque       tequila   \n",
       "4 2020-01-07        2643.0             hy-vee  waterloo         vodka   \n",
       "\n",
       "   Bottle Volume (ml)  State Bottle Retail  Bottles Sold  Sale (Dollars)  \\\n",
       "0               375.0                12.00           2.0           24.00   \n",
       "1              1000.0                 6.08          12.0           72.96   \n",
       "2               200.0                 3.00           8.0           24.00   \n",
       "3              1000.0                11.75          12.0          141.00   \n",
       "4               200.0                 1.73           6.0           10.38   \n",
       "\n",
       "   Volume Sold (Liters)  Volume Sold (Gallons)    Year  Month      name  \\\n",
       "0                  0.75                   0.19  2020.0    1.0    ankeny   \n",
       "1                 12.00                   3.17  2020.0    1.0   ottumwa   \n",
       "2                  1.60                   0.42  2020.0    1.0   dubuque   \n",
       "3                 12.00                   3.17  2020.0    1.0   dubuque   \n",
       "4                  1.20                   0.31  2020.0    1.0  waterloo   \n",
       "\n",
       "   population Pop_Bracket DayofWeek Weekend_or_Weekday  major_college_town  \n",
       "0     72222.0           5  Thursday            Weekday                   0  \n",
       "1     25175.0           4  Thursday            Weekday                   0  \n",
       "2     58873.0           5    Friday            Weekend                   0  \n",
       "3     58873.0           5    Monday            Weekday                   0  \n",
       "4     66562.0           5   Tuesday            Weekday                   0  "
      ]
     },
     "execution_count": 66,
     "metadata": {},
     "output_type": "execute_result"
    }
   ],
   "source": [
    "df_sub['major_college_town'] = df_sub['City'].apply(is_major_college_town)\n",
    "df_sub.head()"
   ]
  },
  {
   "cell_type": "markdown",
   "id": "8c2302b0-0a68-4075-8304-a1487ab320b3",
   "metadata": {},
   "source": [
    "#### Plot using new Major College Town variable"
   ]
  },
  {
   "cell_type": "code",
   "execution_count": 67,
   "id": "efd05d34-3049-4260-8560-80fb69287f49",
   "metadata": {},
   "outputs": [
    {
     "data": {
      "text/plain": [
       "<Axes: xlabel='major_college_town'>"
      ]
     },
     "execution_count": 67,
     "metadata": {},
     "output_type": "execute_result"
    },
    {
     "data": {
      "image/png": "[encoded data removed]",
      "text/plain": [
       "<Figure size 432x288 with 1 Axes>"
      ]
     },
     "metadata": {
      "needs_background": "light"
     },
     "output_type": "display_data"
    }
   ],
   "source": [
    "df_sub.groupby(['major_college_town'])['Volume Sold (Gallons)'].mean().plot.bar()"
   ]
  },
  {
   "cell_type": "markdown",
   "id": "fa635aee-7042-42e2-9930-dc122ba0ce8c",
   "metadata": {},
   "source": [
    "From the plot we see a slight increase in the mean volume of alc purchased by liquor stores in cities with major colleges. This is something we definitely wanna check out in our regression model."
   ]
  },
  {
   "cell_type": "markdown",
   "id": "f282848f-93be-4b03-9921-dda49db04633",
   "metadata": {},
   "source": [
    "### Season Feature Engineering"
   ]
  },
  {
   "cell_type": "markdown",
   "id": "12af08e3-656f-44b8-b750-54774fea93db",
   "metadata": {},
   "source": [
    "The goal of this feature engineering is to create a variable which determines the season in which a liquor store purchased alcohol. The goal is to determine whether there are seasonal increases/decreases in alcohol consumption."
   ]
  },
  {
   "cell_type": "markdown",
   "id": "55cca834-8915-4d80-ad83-cd109e3ff650",
   "metadata": {},
   "source": [
    "We are gonna make the assumption that:\n",
    "* spring runs from beginning of March to the end of May\n",
    "* summer runs from the beginning of June to the end of August\n",
    "* fall runs from the beginning of September to the end of November\n",
    "* winter runs from the beginning of December to the end of February"
   ]
  },
  {
   "cell_type": "code",
   "execution_count": 68,
   "id": "bb21a1a1-d34d-47f1-ae05-c689e463073c",
   "metadata": {},
   "outputs": [],
   "source": [
    "def map_season(month):\n",
    "    if month in [12,1,2]:\n",
    "        return 'winter'\n",
    "    elif month in [3,4,5]:\n",
    "        return 'spring'\n",
    "    elif month in [6,7,8]:\n",
    "        return 'summer'\n",
    "    else:\n",
    "        return 'fall'"
   ]
  },
  {
   "cell_type": "code",
   "execution_count": 69,
   "id": "51febbd3-672e-4900-9263-587436900848",
   "metadata": {},
   "outputs": [],
   "source": [
    "df_sub['season'] = df_sub['Month'].apply(map_season)"
   ]
  },
  {
   "cell_type": "markdown",
   "id": "501135cc-e5e2-4e7b-bebe-950e4d22500e",
   "metadata": {},
   "source": [
    "#### Plot using new season variable"
   ]
  },
  {
   "cell_type": "code",
   "execution_count": 70,
   "id": "3874ff0c-bd63-4ea3-b9ae-d432615955c8",
   "metadata": {},
   "outputs": [
    {
     "data": {
      "text/plain": [
       "<Axes: xlabel='season'>"
      ]
     },
     "execution_count": 70,
     "metadata": {},
     "output_type": "execute_result"
    },
    {
     "data": {
      "image/png": "[encoded data removed]",
      "text/plain": [
       "<Figure size 432x288 with 1 Axes>"
      ]
     },
     "metadata": {
      "needs_background": "light"
     },
     "output_type": "display_data"
    }
   ],
   "source": [
    "df_sub.groupby('season')['Volume Sold (Gallons)'].mean().plot.bar()"
   ]
  },
  {
   "cell_type": "markdown",
   "id": "fe370c48-d564-4d0b-9735-c9dfe43e47fb",
   "metadata": {},
   "source": [
    "### Holiday Feature Engineering"
   ]
  },
  {
   "cell_type": "markdown",
   "id": "37f57043-ab44-43e2-ae2c-bdd88ec428f5",
   "metadata": {},
   "source": [
    "The goal of this feature engineering is to determine whether the day a liquor store purchased alcohol is within 10 days before a holiday"
   ]
  },
  {
   "cell_type": "code",
   "execution_count": 71,
   "id": "ff3d8c43-de22-49c0-bc86-09525206ca55",
   "metadata": {},
   "outputs": [],
   "source": [
    "us_holidays = holidays.UnitedStates(years = data_years).items()\n",
    "df_holidays = pd.DataFrame.from_dict(us_holidays).rename(columns={0:'Date', 1:'Holiday'})\n",
    "\n",
    "df_holidays['Date'] = pd.to_datetime(df_holidays['Date'])\n",
    "df_holidays['Year'] = df_holidays['Date'].dt.year\n",
    "\n",
    "keep_holidays = [\"New Year's Day\", \"Memorial Day\", 'Independence Day', 'Labor Day', 'Veterans Day', 'Thanksgiving', 'Christmas Day']\n",
    "df_holidays = df_holidays[df_holidays['Holiday'].isin(keep_holidays)]"
   ]
  },
  {
   "cell_type": "code",
   "execution_count": 72,
   "id": "53f320fa-bfae-40f1-947b-753765265293",
   "metadata": {},
   "outputs": [
    {
     "data": {
      "text/html": [
       "<div>\n",
       "<style scoped>\n",
       "    .dataframe tbody tr th:only-of-type {\n",
       "        vertical-align: middle;\n",
       "    }\n",
       "\n",
       "    .dataframe tbody tr th {\n",
       "        vertical-align: top;\n",
       "    }\n",
       "\n",
       "    .dataframe thead th {\n",
       "        text-align: right;\n",
       "    }\n",
       "</style>\n",
       "<table border=\"1\" class=\"dataframe\">\n",
       "  <thead>\n",
       "    <tr style=\"text-align: right;\">\n",
       "      <th></th>\n",
       "      <th>Date</th>\n",
       "      <th>Holiday</th>\n",
       "      <th>Year</th>\n",
       "    </tr>\n",
       "  </thead>\n",
       "  <tbody>\n",
       "    <tr>\n",
       "      <th>3</th>\n",
       "      <td>2020-01-01</td>\n",
       "      <td>New Year's Day</td>\n",
       "      <td>2020</td>\n",
       "    </tr>\n",
       "    <tr>\n",
       "      <th>4</th>\n",
       "      <td>2020-05-25</td>\n",
       "      <td>Memorial Day</td>\n",
       "      <td>2020</td>\n",
       "    </tr>\n",
       "    <tr>\n",
       "      <th>5</th>\n",
       "      <td>2020-07-04</td>\n",
       "      <td>Independence Day</td>\n",
       "      <td>2020</td>\n",
       "    </tr>\n",
       "    <tr>\n",
       "      <th>7</th>\n",
       "      <td>2020-09-07</td>\n",
       "      <td>Labor Day</td>\n",
       "      <td>2020</td>\n",
       "    </tr>\n",
       "    <tr>\n",
       "      <th>8</th>\n",
       "      <td>2020-11-11</td>\n",
       "      <td>Veterans Day</td>\n",
       "      <td>2020</td>\n",
       "    </tr>\n",
       "  </tbody>\n",
       "</table>\n",
       "</div>"
      ],
      "text/plain": [
       "        Date           Holiday  Year\n",
       "3 2020-01-01    New Year's Day  2020\n",
       "4 2020-05-25      Memorial Day  2020\n",
       "5 2020-07-04  Independence Day  2020\n",
       "7 2020-09-07         Labor Day  2020\n",
       "8 2020-11-11      Veterans Day  2020"
      ]
     },
     "execution_count": 72,
     "metadata": {},
     "output_type": "execute_result"
    }
   ],
   "source": [
    "df_holidays.head()"
   ]
  },
  {
   "cell_type": "markdown",
   "id": "b5c905f9-ae4e-47e6-b983-c705631b1d46",
   "metadata": {},
   "source": [
    "Here we are getting all the days that are 10 days before a holiday. So for each holiday date included in the dataset, we are adding the 10 days before that date to a list of dates. We are then joining that list of dates to our data to assign those days a value of 1 for the new variable. The leftover days will be nan so we want to replace those values with 0"
   ]
  },
  {
   "cell_type": "code",
   "execution_count": 73,
   "id": "f3e989d7-dd91-464e-80c0-2f6922b02c5e",
   "metadata": {},
   "outputs": [],
   "source": [
    "holidayWeekDays = []\n",
    "\n",
    "for holiday in df_holidays['Date']:\n",
    "    for i in range(10):\n",
    "        holidayWeekDays.append(pd.to_datetime((holiday - timedelta(days=i))))\n",
    "\n",
    "df_holiday_week = pd.DataFrame(columns = ['Date'], data = holidayWeekDays)\n",
    "df_holiday_week['Holiday_10'] = 1"
   ]
  },
  {
   "cell_type": "code",
   "execution_count": 74,
   "id": "fe2de3cf-d10f-43dc-b8fa-ecf97619e20d",
   "metadata": {},
   "outputs": [],
   "source": [
    "df_sub = df_sub.merge(df_holiday_week, on='Date', how='left')"
   ]
  },
  {
   "cell_type": "code",
   "execution_count": 75,
   "id": "8f959180-7afb-44ce-a3bc-fd33358258c8",
   "metadata": {},
   "outputs": [
    {
     "data": {
      "text/html": [
       "<div>\n",
       "<style scoped>\n",
       "    .dataframe tbody tr th:only-of-type {\n",
       "        vertical-align: middle;\n",
       "    }\n",
       "\n",
       "    .dataframe tbody tr th {\n",
       "        vertical-align: top;\n",
       "    }\n",
       "\n",
       "    .dataframe thead th {\n",
       "        text-align: right;\n",
       "    }\n",
       "</style>\n",
       "<table border=\"1\" class=\"dataframe\">\n",
       "  <thead>\n",
       "    <tr style=\"text-align: right;\">\n",
       "      <th></th>\n",
       "      <th>Date</th>\n",
       "      <th>Store Number</th>\n",
       "      <th>Store Name</th>\n",
       "      <th>City</th>\n",
       "      <th>Category Name</th>\n",
       "      <th>Bottle Volume (ml)</th>\n",
       "      <th>State Bottle Retail</th>\n",
       "      <th>Bottles Sold</th>\n",
       "      <th>Sale (Dollars)</th>\n",
       "      <th>Volume Sold (Liters)</th>\n",
       "      <th>...</th>\n",
       "      <th>Year</th>\n",
       "      <th>Month</th>\n",
       "      <th>name</th>\n",
       "      <th>population</th>\n",
       "      <th>Pop_Bracket</th>\n",
       "      <th>DayofWeek</th>\n",
       "      <th>Weekend_or_Weekday</th>\n",
       "      <th>major_college_town</th>\n",
       "      <th>season</th>\n",
       "      <th>Holiday_10</th>\n",
       "    </tr>\n",
       "  </thead>\n",
       "  <tbody>\n",
       "    <tr>\n",
       "      <th>0</th>\n",
       "      <td>2020-01-02</td>\n",
       "      <td>4404.0</td>\n",
       "      <td>kum &amp; go</td>\n",
       "      <td>ankeny</td>\n",
       "      <td>whiskey</td>\n",
       "      <td>375.0</td>\n",
       "      <td>12.00</td>\n",
       "      <td>2.0</td>\n",
       "      <td>24.00</td>\n",
       "      <td>0.75</td>\n",
       "      <td>...</td>\n",
       "      <td>2020.0</td>\n",
       "      <td>1.0</td>\n",
       "      <td>ankeny</td>\n",
       "      <td>72222.0</td>\n",
       "      <td>5</td>\n",
       "      <td>Thursday</td>\n",
       "      <td>Weekday</td>\n",
       "      <td>0</td>\n",
       "      <td>winter</td>\n",
       "      <td>0.0</td>\n",
       "    </tr>\n",
       "    <tr>\n",
       "      <th>1</th>\n",
       "      <td>2020-01-02</td>\n",
       "      <td>5257.0</td>\n",
       "      <td>mad ave quik shop</td>\n",
       "      <td>ottumwa</td>\n",
       "      <td>vodka</td>\n",
       "      <td>1000.0</td>\n",
       "      <td>6.08</td>\n",
       "      <td>12.0</td>\n",
       "      <td>72.96</td>\n",
       "      <td>12.00</td>\n",
       "      <td>...</td>\n",
       "      <td>2020.0</td>\n",
       "      <td>1.0</td>\n",
       "      <td>ottumwa</td>\n",
       "      <td>25175.0</td>\n",
       "      <td>4</td>\n",
       "      <td>Thursday</td>\n",
       "      <td>Weekday</td>\n",
       "      <td>0</td>\n",
       "      <td>winter</td>\n",
       "      <td>0.0</td>\n",
       "    </tr>\n",
       "    <tr>\n",
       "      <th>2</th>\n",
       "      <td>2020-01-03</td>\n",
       "      <td>5529.0</td>\n",
       "      <td>big 10 mart</td>\n",
       "      <td>dubuque</td>\n",
       "      <td>brandy</td>\n",
       "      <td>200.0</td>\n",
       "      <td>3.00</td>\n",
       "      <td>8.0</td>\n",
       "      <td>24.00</td>\n",
       "      <td>1.60</td>\n",
       "      <td>...</td>\n",
       "      <td>2020.0</td>\n",
       "      <td>1.0</td>\n",
       "      <td>dubuque</td>\n",
       "      <td>58873.0</td>\n",
       "      <td>5</td>\n",
       "      <td>Friday</td>\n",
       "      <td>Weekend</td>\n",
       "      <td>0</td>\n",
       "      <td>winter</td>\n",
       "      <td>0.0</td>\n",
       "    </tr>\n",
       "    <tr>\n",
       "      <th>3</th>\n",
       "      <td>2020-01-06</td>\n",
       "      <td>2524.0</td>\n",
       "      <td>hy-vee</td>\n",
       "      <td>dubuque</td>\n",
       "      <td>tequila</td>\n",
       "      <td>1000.0</td>\n",
       "      <td>11.75</td>\n",
       "      <td>12.0</td>\n",
       "      <td>141.00</td>\n",
       "      <td>12.00</td>\n",
       "      <td>...</td>\n",
       "      <td>2020.0</td>\n",
       "      <td>1.0</td>\n",
       "      <td>dubuque</td>\n",
       "      <td>58873.0</td>\n",
       "      <td>5</td>\n",
       "      <td>Monday</td>\n",
       "      <td>Weekday</td>\n",
       "      <td>0</td>\n",
       "      <td>winter</td>\n",
       "      <td>0.0</td>\n",
       "    </tr>\n",
       "    <tr>\n",
       "      <th>4</th>\n",
       "      <td>2020-01-07</td>\n",
       "      <td>2643.0</td>\n",
       "      <td>hy-vee</td>\n",
       "      <td>waterloo</td>\n",
       "      <td>vodka</td>\n",
       "      <td>200.0</td>\n",
       "      <td>1.73</td>\n",
       "      <td>6.0</td>\n",
       "      <td>10.38</td>\n",
       "      <td>1.20</td>\n",
       "      <td>...</td>\n",
       "      <td>2020.0</td>\n",
       "      <td>1.0</td>\n",
       "      <td>waterloo</td>\n",
       "      <td>66562.0</td>\n",
       "      <td>5</td>\n",
       "      <td>Tuesday</td>\n",
       "      <td>Weekday</td>\n",
       "      <td>0</td>\n",
       "      <td>winter</td>\n",
       "      <td>0.0</td>\n",
       "    </tr>\n",
       "  </tbody>\n",
       "</table>\n",
       "<p>5 rows × 21 columns</p>\n",
       "</div>"
      ],
      "text/plain": [
       "        Date  Store Number         Store Name      City Category Name  \\\n",
       "0 2020-01-02        4404.0           kum & go    ankeny       whiskey   \n",
       "1 2020-01-02        5257.0  mad ave quik shop   ottumwa         vodka   \n",
       "2 2020-01-03        5529.0        big 10 mart   dubuque        brandy   \n",
       "3 2020-01-06        2524.0             hy-vee   dubuque       tequila   \n",
       "4 2020-01-07        2643.0             hy-vee  waterloo         vodka   \n",
       "\n",
       "   Bottle Volume (ml)  State Bottle Retail  Bottles Sold  Sale (Dollars)  \\\n",
       "0               375.0                12.00           2.0           24.00   \n",
       "1              1000.0                 6.08          12.0           72.96   \n",
       "2               200.0                 3.00           8.0           24.00   \n",
       "3              1000.0                11.75          12.0          141.00   \n",
       "4               200.0                 1.73           6.0           10.38   \n",
       "\n",
       "   Volume Sold (Liters)  ...    Year  Month      name population  Pop_Bracket  \\\n",
       "0                  0.75  ...  2020.0    1.0    ankeny    72222.0            5   \n",
       "1                 12.00  ...  2020.0    1.0   ottumwa    25175.0            4   \n",
       "2                  1.60  ...  2020.0    1.0   dubuque    58873.0            5   \n",
       "3                 12.00  ...  2020.0    1.0   dubuque    58873.0            5   \n",
       "4                  1.20  ...  2020.0    1.0  waterloo    66562.0            5   \n",
       "\n",
       "  DayofWeek Weekend_or_Weekday major_college_town  season Holiday_10  \n",
       "0  Thursday            Weekday                  0  winter        0.0  \n",
       "1  Thursday            Weekday                  0  winter        0.0  \n",
       "2    Friday            Weekend                  0  winter        0.0  \n",
       "3    Monday            Weekday                  0  winter        0.0  \n",
       "4   Tuesday            Weekday                  0  winter        0.0  \n",
       "\n",
       "[5 rows x 21 columns]"
      ]
     },
     "execution_count": 75,
     "metadata": {},
     "output_type": "execute_result"
    }
   ],
   "source": [
    "df_sub['Holiday_10'] = df_sub['Holiday_10'].fillna(0)\n",
    "df_sub.head()"
   ]
  },
  {
   "cell_type": "markdown",
   "id": "9df1eb37-1d80-4224-a5a2-fc1723dbc330",
   "metadata": {},
   "source": [
    "#### Plot using new Holiday variable"
   ]
  },
  {
   "cell_type": "code",
   "execution_count": 76,
   "id": "2946492b-c1bd-4ec0-8777-f4dc37cf39c1",
   "metadata": {},
   "outputs": [
    {
     "data": {
      "text/plain": [
       "<Axes: xlabel='Holiday_10'>"
      ]
     },
     "execution_count": 76,
     "metadata": {},
     "output_type": "execute_result"
    },
    {
     "data": {
      "image/png": "[encoded data removed]",
      "text/plain": [
       "<Figure size 432x288 with 1 Axes>"
      ]
     },
     "metadata": {
      "needs_background": "light"
     },
     "output_type": "display_data"
    }
   ],
   "source": [
    "df_sub.groupby('Holiday_10')['Volume Sold (Gallons)'].mean().plot.bar()"
   ]
  },
  {
   "cell_type": "markdown",
   "id": "9f215529-1658-4066-b963-5225e0e2cb98",
   "metadata": {},
   "source": [
    "There looks to be no difference in the mean volume of alcohol purchased by liquor stores 10 days before a holiday compared to other days."
   ]
  },
  {
   "cell_type": "markdown",
   "id": "45dbcd26-209a-41b2-a5ab-88710291464e",
   "metadata": {},
   "source": [
    "## Client B Final Datasets"
   ]
  },
  {
   "cell_type": "markdown",
   "id": "ba761d89-19ed-4189-afe2-5e7da67a4dd1",
   "metadata": {},
   "source": [
    "Model1 dataset has the aggregated response variables for each unique city and date combination"
   ]
  },
  {
   "cell_type": "code",
   "execution_count": 77,
   "id": "2f380f07-a39d-4ffe-b3d8-4c1680e06a89",
   "metadata": {},
   "outputs": [],
   "source": [
    "df_model1 = df_sub.groupby(['City','Pop_Bracket', 'Date', 'season', 'major_college_town','Holiday_10','DayofWeek']).sum(['Bottles Sold','Sale (Dollars)','Volume Sold (Gallons)'])[['Bottles Sold','Sale (Dollars)','Volume Sold (Gallons)']].reset_index()"
   ]
  },
  {
   "cell_type": "code",
   "execution_count": 78,
   "id": "9d78b858-02bf-4bac-ba85-7dce4a3a593e",
   "metadata": {},
   "outputs": [
    {
     "data": {
      "text/html": [
       "<div>\n",
       "<style scoped>\n",
       "    .dataframe tbody tr th:only-of-type {\n",
       "        vertical-align: middle;\n",
       "    }\n",
       "\n",
       "    .dataframe tbody tr th {\n",
       "        vertical-align: top;\n",
       "    }\n",
       "\n",
       "    .dataframe thead th {\n",
       "        text-align: right;\n",
       "    }\n",
       "</style>\n",
       "<table border=\"1\" class=\"dataframe\">\n",
       "  <thead>\n",
       "    <tr style=\"text-align: right;\">\n",
       "      <th></th>\n",
       "      <th>City</th>\n",
       "      <th>Pop_Bracket</th>\n",
       "      <th>Date</th>\n",
       "      <th>season</th>\n",
       "      <th>major_college_town</th>\n",
       "      <th>Holiday_10</th>\n",
       "      <th>DayofWeek</th>\n",
       "      <th>Bottles Sold</th>\n",
       "      <th>Sale (Dollars)</th>\n",
       "      <th>Volume Sold (Gallons)</th>\n",
       "    </tr>\n",
       "  </thead>\n",
       "  <tbody>\n",
       "    <tr>\n",
       "      <th>0</th>\n",
       "      <td>ackley</td>\n",
       "      <td>2</td>\n",
       "      <td>2020-01-07</td>\n",
       "      <td>winter</td>\n",
       "      <td>0</td>\n",
       "      <td>0.0</td>\n",
       "      <td>Tuesday</td>\n",
       "      <td>90.0</td>\n",
       "      <td>1087.80</td>\n",
       "      <td>24.32</td>\n",
       "    </tr>\n",
       "    <tr>\n",
       "      <th>1</th>\n",
       "      <td>ackley</td>\n",
       "      <td>2</td>\n",
       "      <td>2020-01-28</td>\n",
       "      <td>winter</td>\n",
       "      <td>0</td>\n",
       "      <td>0.0</td>\n",
       "      <td>Tuesday</td>\n",
       "      <td>141.0</td>\n",
       "      <td>1934.28</td>\n",
       "      <td>26.07</td>\n",
       "    </tr>\n",
       "    <tr>\n",
       "      <th>2</th>\n",
       "      <td>ackley</td>\n",
       "      <td>2</td>\n",
       "      <td>2020-02-04</td>\n",
       "      <td>winter</td>\n",
       "      <td>0</td>\n",
       "      <td>0.0</td>\n",
       "      <td>Tuesday</td>\n",
       "      <td>126.0</td>\n",
       "      <td>1203.24</td>\n",
       "      <td>30.45</td>\n",
       "    </tr>\n",
       "    <tr>\n",
       "      <th>3</th>\n",
       "      <td>ackley</td>\n",
       "      <td>2</td>\n",
       "      <td>2020-02-11</td>\n",
       "      <td>winter</td>\n",
       "      <td>0</td>\n",
       "      <td>0.0</td>\n",
       "      <td>Tuesday</td>\n",
       "      <td>90.0</td>\n",
       "      <td>1202.82</td>\n",
       "      <td>28.90</td>\n",
       "    </tr>\n",
       "    <tr>\n",
       "      <th>4</th>\n",
       "      <td>ackley</td>\n",
       "      <td>2</td>\n",
       "      <td>2020-02-25</td>\n",
       "      <td>winter</td>\n",
       "      <td>0</td>\n",
       "      <td>0.0</td>\n",
       "      <td>Tuesday</td>\n",
       "      <td>149.0</td>\n",
       "      <td>2084.16</td>\n",
       "      <td>48.18</td>\n",
       "    </tr>\n",
       "  </tbody>\n",
       "</table>\n",
       "</div>"
      ],
      "text/plain": [
       "     City Pop_Bracket       Date  season  major_college_town  Holiday_10  \\\n",
       "0  ackley           2 2020-01-07  winter                   0         0.0   \n",
       "1  ackley           2 2020-01-28  winter                   0         0.0   \n",
       "2  ackley           2 2020-02-04  winter                   0         0.0   \n",
       "3  ackley           2 2020-02-11  winter                   0         0.0   \n",
       "4  ackley           2 2020-02-25  winter                   0         0.0   \n",
       "\n",
       "  DayofWeek  Bottles Sold  Sale (Dollars)  Volume Sold (Gallons)  \n",
       "0   Tuesday          90.0         1087.80                  24.32  \n",
       "1   Tuesday         141.0         1934.28                  26.07  \n",
       "2   Tuesday         126.0         1203.24                  30.45  \n",
       "3   Tuesday          90.0         1202.82                  28.90  \n",
       "4   Tuesday         149.0         2084.16                  48.18  "
      ]
     },
     "execution_count": 78,
     "metadata": {},
     "output_type": "execute_result"
    }
   ],
   "source": [
    "df_model1.head()"
   ]
  },
  {
   "cell_type": "markdown",
   "id": "94a26e8e-e668-455f-bab2-070eb978ee27",
   "metadata": {},
   "source": [
    "Model2 dataset is similar to Model1 expect there is the additonal grouping of category name. This means each observation represents a unique city, date, and alcohol cateogry combination."
   ]
  },
  {
   "cell_type": "code",
   "execution_count": 79,
   "id": "f432ad2a-5c25-44d2-8c33-71b94944bafa",
   "metadata": {},
   "outputs": [],
   "source": [
    "df_model2 = df_sub.groupby(['City','Pop_Bracket', 'Category Name', 'Date', 'season', 'major_college_town','Holiday_10','DayofWeek']).sum(['Bottles Sold','Sale (Dollars)','Volume Sold (Gallons)'])[['Bottles Sold','Sale (Dollars)','Volume Sold (Gallons)']].reset_index()"
   ]
  },
  {
   "cell_type": "code",
   "execution_count": 80,
   "id": "d52c6c85-22e0-475f-93b1-8452320c3068",
   "metadata": {},
   "outputs": [
    {
     "data": {
      "text/html": [
       "<div>\n",
       "<style scoped>\n",
       "    .dataframe tbody tr th:only-of-type {\n",
       "        vertical-align: middle;\n",
       "    }\n",
       "\n",
       "    .dataframe tbody tr th {\n",
       "        vertical-align: top;\n",
       "    }\n",
       "\n",
       "    .dataframe thead th {\n",
       "        text-align: right;\n",
       "    }\n",
       "</style>\n",
       "<table border=\"1\" class=\"dataframe\">\n",
       "  <thead>\n",
       "    <tr style=\"text-align: right;\">\n",
       "      <th></th>\n",
       "      <th>City</th>\n",
       "      <th>Pop_Bracket</th>\n",
       "      <th>Category Name</th>\n",
       "      <th>Date</th>\n",
       "      <th>season</th>\n",
       "      <th>major_college_town</th>\n",
       "      <th>Holiday_10</th>\n",
       "      <th>DayofWeek</th>\n",
       "      <th>Bottles Sold</th>\n",
       "      <th>Sale (Dollars)</th>\n",
       "      <th>Volume Sold (Gallons)</th>\n",
       "    </tr>\n",
       "  </thead>\n",
       "  <tbody>\n",
       "    <tr>\n",
       "      <th>0</th>\n",
       "      <td>ackley</td>\n",
       "      <td>2</td>\n",
       "      <td>bourbon</td>\n",
       "      <td>2020-09-29</td>\n",
       "      <td>fall</td>\n",
       "      <td>0</td>\n",
       "      <td>0.0</td>\n",
       "      <td>Tuesday</td>\n",
       "      <td>1.0</td>\n",
       "      <td>20.25</td>\n",
       "      <td>0.19</td>\n",
       "    </tr>\n",
       "    <tr>\n",
       "      <th>1</th>\n",
       "      <td>ackley</td>\n",
       "      <td>2</td>\n",
       "      <td>bourbon</td>\n",
       "      <td>2022-07-26</td>\n",
       "      <td>summer</td>\n",
       "      <td>0</td>\n",
       "      <td>0.0</td>\n",
       "      <td>Tuesday</td>\n",
       "      <td>12.0</td>\n",
       "      <td>180.00</td>\n",
       "      <td>2.37</td>\n",
       "    </tr>\n",
       "    <tr>\n",
       "      <th>2</th>\n",
       "      <td>ackley</td>\n",
       "      <td>2</td>\n",
       "      <td>brandy</td>\n",
       "      <td>2020-01-07</td>\n",
       "      <td>winter</td>\n",
       "      <td>0</td>\n",
       "      <td>0.0</td>\n",
       "      <td>Tuesday</td>\n",
       "      <td>6.0</td>\n",
       "      <td>96.66</td>\n",
       "      <td>0.59</td>\n",
       "    </tr>\n",
       "    <tr>\n",
       "      <th>3</th>\n",
       "      <td>ackley</td>\n",
       "      <td>2</td>\n",
       "      <td>brandy</td>\n",
       "      <td>2020-06-30</td>\n",
       "      <td>summer</td>\n",
       "      <td>0</td>\n",
       "      <td>1.0</td>\n",
       "      <td>Tuesday</td>\n",
       "      <td>12.0</td>\n",
       "      <td>197.88</td>\n",
       "      <td>1.18</td>\n",
       "    </tr>\n",
       "    <tr>\n",
       "      <th>4</th>\n",
       "      <td>ackley</td>\n",
       "      <td>2</td>\n",
       "      <td>brandy</td>\n",
       "      <td>2021-10-05</td>\n",
       "      <td>fall</td>\n",
       "      <td>0</td>\n",
       "      <td>0.0</td>\n",
       "      <td>Tuesday</td>\n",
       "      <td>12.0</td>\n",
       "      <td>206.88</td>\n",
       "      <td>1.18</td>\n",
       "    </tr>\n",
       "  </tbody>\n",
       "</table>\n",
       "</div>"
      ],
      "text/plain": [
       "     City Pop_Bracket Category Name       Date  season  major_college_town  \\\n",
       "0  ackley           2       bourbon 2020-09-29    fall                   0   \n",
       "1  ackley           2       bourbon 2022-07-26  summer                   0   \n",
       "2  ackley           2        brandy 2020-01-07  winter                   0   \n",
       "3  ackley           2        brandy 2020-06-30  summer                   0   \n",
       "4  ackley           2        brandy 2021-10-05    fall                   0   \n",
       "\n",
       "   Holiday_10 DayofWeek  Bottles Sold  Sale (Dollars)  Volume Sold (Gallons)  \n",
       "0         0.0   Tuesday           1.0           20.25                   0.19  \n",
       "1         0.0   Tuesday          12.0          180.00                   2.37  \n",
       "2         0.0   Tuesday           6.0           96.66                   0.59  \n",
       "3         1.0   Tuesday          12.0          197.88                   1.18  \n",
       "4         0.0   Tuesday          12.0          206.88                   1.18  "
      ]
     },
     "execution_count": 80,
     "metadata": {},
     "output_type": "execute_result"
    }
   ],
   "source": [
    "df_model2.head()"
   ]
  },
  {
   "cell_type": "markdown",
   "id": "b4cb00e6-f6df-4ccc-92d7-8d49aa295f7d",
   "metadata": {},
   "source": [
    "## Custom Multiple Regression Functions"
   ]
  },
  {
   "cell_type": "code",
   "execution_count": 81,
   "id": "9fea3163-d64a-4e83-9090-307106a0efd2",
   "metadata": {},
   "outputs": [],
   "source": [
    "def multiple_regression_ridge(X, Y, lam, intercept=True):\n",
    "    if intercept:\n",
    "        X = pd.concat([pd.Series([1]*X.shape[0]), X], axis=1).to_numpy()\n",
    "    else:\n",
    "        X = X.to_numpy()\n",
    "    Y = Y.to_numpy()\n",
    "    return np.linalg.inv((X.T @ X) + lam*np.identity(X.shape[1])) @ X.T @ Y\n",
    "\n",
    "def try_many_lambdas(X, Y, lams, intercept):\n",
    "    lams = np.array(lams)\n",
    "    return [multiple_regression_ridge(X, Y, lam, intercept) for lam in lams]\n",
    "\n",
    "def tune_lambda_split(train_x, train_y, test_x, test_y, lams, intercept, metric):\n",
    "    \n",
    "    df_res = pd.DataFrame()\n",
    "    df_res['lambda'] = lams\n",
    "    vals = [0]*len(lams)\n",
    "    est = try_many_lambdas(train_x, train_y, lams, intercept)\n",
    "    \n",
    "    for i in range(len(est)):\n",
    "        \n",
    "        if intercept:\n",
    "            y_hat = pd.Series(pd.concat([pd.Series([1]*test_x.shape[0]), test_x], axis=1).to_numpy() @ est[i])\n",
    "        else:\n",
    "            y_hat = pd.Series(test_x.to_numpy() @ est[i])\n",
    "        \n",
    "        if metric == 'R_sq':\n",
    "            y_bar = test_y.mean()\n",
    "            vals[i] = 1-((((test_y-y_hat)**2).mean())/(((test_y-y_bar)**2).mean()))\n",
    "            \n",
    "        elif metric == 'MSE':\n",
    "            vals[i] = (np.square(test_y-y_hat)).mean()\n",
    "            \n",
    "        elif metric == 'MAE':\n",
    "            vals[i] = (np.abs(test_y-y_hat)).mean()\n",
    "            \n",
    "        else:\n",
    "            print('Please use valid metric :)')\n",
    "\n",
    "    df_res[metric] = vals\n",
    "    return df_res\n",
    "\n",
    "def tune_lambda_cv(X, Y, lams, intercept, metric, splits):\n",
    "    df_res = pd.DataFrame(columns=['lambda', metric])\n",
    "    kf = KFold(n_splits=splits, shuffle=True)\n",
    "    splits = kf.split(X)\n",
    "    for train, test in splits:\n",
    "        \n",
    "        train_x = X.iloc[train].reset_index(drop=True)\n",
    "        train_y = Y.iloc[train].reset_index(drop=True)\n",
    "        \n",
    "        test_x = X.iloc[test].reset_index(drop=True)\n",
    "        test_y = Y.iloc[test].reset_index(drop=True)\n",
    "\n",
    "        df_res = pd.concat([df_res, tune_lambda_split(train_x, train_y, test_x, test_y, lams, intercept, metric)])\n",
    "    return df_res.groupby('lambda')[metric].mean()"
   ]
  },
  {
   "cell_type": "markdown",
   "id": "b0ffbdbd-2788-4785-b2fb-815f7097b456",
   "metadata": {},
   "source": [
    "## Variable Tuning"
   ]
  },
  {
   "cell_type": "markdown",
   "id": "276c6df4-264a-4686-bb81-44d1132b5d3a",
   "metadata": {},
   "source": [
    "We will not be tuning the variables like we did for client A. Rather we want to fit models with most/if not all variables so we can interpret the coefficients of the predictors while taking into account other predictors to see if they are significant. "
   ]
  },
  {
   "cell_type": "markdown",
   "id": "2e4afcbd-ddb9-47ea-8d37-a1ac3a640389",
   "metadata": {},
   "source": [
    "### Model1"
   ]
  },
  {
   "cell_type": "code",
   "execution_count": 82,
   "id": "c578977c-7d61-49c3-9205-a974d0b3a5d6",
   "metadata": {},
   "outputs": [],
   "source": [
    "model1_vars = ['Pop_Bracket', 'season', 'DayofWeek', 'major_college_town', 'Holiday_10']"
   ]
  },
  {
   "cell_type": "code",
   "execution_count": 83,
   "id": "92307e59-7b2e-4c15-94cf-d8e2d96e30f1",
   "metadata": {},
   "outputs": [],
   "source": [
    "ct = make_column_transformer(\n",
    "(OneHotEncoder(), ['Pop_Bracket', 'season', 'DayofWeek']), remainder='passthrough')"
   ]
  },
  {
   "cell_type": "code",
   "execution_count": 84,
   "id": "f9f48530-fd03-4159-b8a6-f59dddddf2cd",
   "metadata": {},
   "outputs": [],
   "source": [
    "X = df_model1[model1_vars]\n",
    "Y = df_model1['Volume Sold (Gallons)']"
   ]
  },
  {
   "cell_type": "markdown",
   "id": "3abba574-0259-4021-bab5-d6950fd4c7b8",
   "metadata": {},
   "source": [
    "Sometimes ct.fit_transform(X) returns a sparse matrix and sometimes it doesnt. It's really annoying. If it does return a sparse matrix, run the second line of code with the .toarray() function. If it doesn't return a sparse matrix, run the top line."
   ]
  },
  {
   "cell_type": "code",
   "execution_count": 85,
   "id": "fb6b973e-5db4-4e1b-94a3-cf439412e180",
   "metadata": {},
   "outputs": [],
   "source": [
    "# X = pd.DataFrame(ct.fit_transform(X)).drop(columns=[0,6,10], axis=1)\n",
    "X = pd.DataFrame(ct.fit_transform(X).toarray()).drop(columns=[0,6,10], axis=1)"
   ]
  },
  {
   "cell_type": "code",
   "execution_count": 86,
   "id": "12215c7a-b522-4c66-b1a4-f5859a397edc",
   "metadata": {},
   "outputs": [
    {
     "data": {
      "text/plain": [
       "lambda\n",
       "0.0       0.430663\n",
       "0.1       0.430663\n",
       "1.0       0.430665\n",
       "5.0       0.430666\n",
       "100.0     0.428001\n",
       "1000.0    0.358638\n",
       "Name: R_sq, dtype: float64"
      ]
     },
     "execution_count": 86,
     "metadata": {},
     "output_type": "execute_result"
    }
   ],
   "source": [
    "tune_lambda_cv(X, Y, [0,.1,1,5,100,1000], True, 'R_sq', 5)"
   ]
  },
  {
   "cell_type": "code",
   "execution_count": 87,
   "id": "db274d8f-1165-42c6-a90d-343b6736bba4",
   "metadata": {},
   "outputs": [
    {
     "data": {
      "text/plain": [
       "array([ 2.58853120e+01,  9.11415483e+01,  3.00219133e+02,  4.68027779e+02,\n",
       "        1.05406429e+03,  1.78516326e+03,  4.17994606e+00,  3.03472559e+00,\n",
       "       -1.27653045e+01,  2.33920551e+01, -7.47497490e-01, -4.94499561e+02,\n",
       "        1.67856723e+02,  2.33812379e+01,  8.23680121e+01, -1.86587667e+02,\n",
       "        2.00174063e+01])"
      ]
     },
     "execution_count": 87,
     "metadata": {},
     "output_type": "execute_result"
    }
   ],
   "source": [
    "multiple_regression_ridge(X,Y,100,True)"
   ]
  },
  {
   "cell_type": "markdown",
   "id": "6bdbdbad-cd09-47b6-b759-b7ed30a10c9a",
   "metadata": {},
   "source": [
    "### Model2"
   ]
  },
  {
   "cell_type": "markdown",
   "id": "1692410d-1169-4622-81a8-03d2399d5679",
   "metadata": {},
   "source": [
    "The code below is an example of narrowing the model to look at whiskey alone. This means we can use df_model2 to examine how the different predictors affect the volume of alcohol of a specific category purchased by a store."
   ]
  },
  {
   "cell_type": "markdown",
   "id": "5a31bfab-dc6d-4788-b7bb-ebdbf5d100ec",
   "metadata": {},
   "source": [
    "This means we can answer questions like:\n",
    "\n",
    "* Do holidays have a larger impact on the consumption of whiskey vs rum?\n",
    "* Does the presence of a large college have a different impact on the consumption of vodka vs tequila?"
   ]
  },
  {
   "cell_type": "code",
   "execution_count": 88,
   "id": "7bad5b6b-8872-44b4-a703-12c89ef726c2",
   "metadata": {},
   "outputs": [
    {
     "data": {
      "text/plain": [
       "array(['bourbon', 'brandy', 'cocktail', 'gin', 'liqueur', 'other', 'rum',\n",
       "       'schnapps', 'spirit', 'tequila', 'vodka', 'whiskey', 'scotch'],\n",
       "      dtype=object)"
      ]
     },
     "execution_count": 88,
     "metadata": {},
     "output_type": "execute_result"
    }
   ],
   "source": [
    "df_model2['Category Name'].unique()"
   ]
  },
  {
   "cell_type": "code",
   "execution_count": 89,
   "id": "83cfadae-2852-44e4-8321-16433e903ded",
   "metadata": {},
   "outputs": [],
   "source": [
    "whiskey = df_model2[df_model2['Category Name'] == 'whiskey']"
   ]
  },
  {
   "cell_type": "code",
   "execution_count": 90,
   "id": "dad50471-75e5-4b38-8958-feaf56f30322",
   "metadata": {},
   "outputs": [],
   "source": [
    "model2_vars = ['Pop_Bracket', 'season', 'DayofWeek', 'major_college_town', 'Holiday_10']"
   ]
  },
  {
   "cell_type": "code",
   "execution_count": 91,
   "id": "c6483ee6-e85e-4a24-8df3-d72a92c36176",
   "metadata": {},
   "outputs": [],
   "source": [
    "ct = make_column_transformer(\n",
    "(OneHotEncoder(), ['Pop_Bracket', 'season', 'DayofWeek']), remainder='passthrough')"
   ]
  },
  {
   "cell_type": "code",
   "execution_count": 92,
   "id": "f21caf08-a62f-41e9-9793-e30dd397bbb5",
   "metadata": {},
   "outputs": [],
   "source": [
    "X = df_model2[model2_vars]\n",
    "Y = df_model2['Volume Sold (Gallons)']"
   ]
  },
  {
   "cell_type": "code",
   "execution_count": 93,
   "id": "5bdf4ac4-6c26-41bb-aa05-f966a031c6ad",
   "metadata": {},
   "outputs": [],
   "source": [
    "# X = pd.DataFrame(ct.fit_transform(X)).drop(columns=[0,6,10], axis=1)\n",
    "X = pd.DataFrame(ct.fit_transform(X).toarray()).drop(columns=[0,6,10], axis=1)"
   ]
  },
  {
   "cell_type": "code",
   "execution_count": 94,
   "id": "9b11361f-5835-4af8-83bf-17c07b65bc6a",
   "metadata": {},
   "outputs": [
    {
     "data": {
      "text/plain": [
       "lambda\n",
       "0.0       0.132629\n",
       "0.1       0.132629\n",
       "1.0       0.132629\n",
       "5.0       0.132629\n",
       "100.0     0.132616\n",
       "1000.0    0.131597\n",
       "Name: R_sq, dtype: float64"
      ]
     },
     "execution_count": 94,
     "metadata": {},
     "output_type": "execute_result"
    }
   ],
   "source": [
    "tune_lambda_cv(X, Y, [0,.1,1,5,100,1000], True, 'R_sq', 5)"
   ]
  },
  {
   "cell_type": "code",
   "execution_count": 95,
   "id": "26fcacfe-c489-4a1e-af90-aab50178b2e8",
   "metadata": {},
   "outputs": [
    {
     "data": {
      "text/plain": [
       "array([  4.36435539,  11.81860981,  30.82599832,  50.96015701,\n",
       "       107.96426096, 156.53346832,  -0.66450499,  -0.37341522,\n",
       "        -2.50502532,   3.40819872,  -2.39032555, -63.28920499,\n",
       "        17.29620779,   0.93549515,   7.35262632, -27.9094589 ,\n",
       "         2.10131032])"
      ]
     },
     "execution_count": 95,
     "metadata": {},
     "output_type": "execute_result"
    }
   ],
   "source": [
    "multiple_regression_ridge(X,Y,100,True)"
   ]
  },
  {
   "cell_type": "markdown",
   "id": "5c4d5c43-2e9c-4a08-9723-61495718b509",
   "metadata": {},
   "source": [
    "## Summary of Model Decisions"
   ]
  },
  {
   "cell_type": "markdown",
   "id": "13be7106-fceb-42b8-bb0a-15b70ee32d47",
   "metadata": {},
   "source": [
    "In this codebook we:\n",
    "    \n",
    "1. Feature Engineered many new variables to interpret in our model\n",
    "2. Created two different datasets to use for models\n",
    "3. One dataset can be used to see the effects of the predictors on overal alcohol volume purchased\n",
    "4. The other dataset can be used to see the effects of the predictors on volume purchased for a specific category of alcohol"
   ]
  },
  {
   "cell_type": "code",
   "execution_count": null,
   "id": "d6b5cc7b-6db1-44fe-a8da-5b07841d9aec",
   "metadata": {},
   "outputs": [],
   "source": []
  }
 ],
 "metadata": {
  "kernelspec": {
   "display_name": "Python 3",
   "language": "python",
   "name": "python3"
  },
  "language_info": {
   "codemirror_mode": {
    "name": "ipython",
    "version": 3
   },
   "file_extension": ".py",
   "mimetype": "text/x-python",
   "name": "python",
   "nbconvert_exporter": "python",
   "pygments_lexer": "ipython3",
   "version": "3.8.8"
  }
 },
 "nbformat": 4,
 "nbformat_minor": 5
}
