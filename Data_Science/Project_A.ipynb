{
 "cells": [
  {
   "cell_type": "markdown",
   "id": "a98d0cef-ced6-4106-b76f-82fae3b24b36",
   "metadata": {},
   "source": [
    "### Import Modules"
   ]
  },
  {
   "cell_type": "code",
   "execution_count": 24,
   "id": "4c28312b-c1d3-43cd-810e-c321e26eec0f",
   "metadata": {},
   "outputs": [],
   "source": [
    "import pandas as pd\n",
    "import numpy as np\n",
    "import matplotlib.pyplot as plt\n",
    "from sklearn.model_selection import KFold\n",
    "from sklearn.preprocessing import StandardScaler\n",
    "from sklearn.preprocessing import OneHotEncoder\n",
    "from sklearn.compose import make_column_transformer"
   ]
  },
  {
   "cell_type": "markdown",
   "id": "868b3083-90d4-4616-bc91-ffb23bad7c37",
   "metadata": {},
   "source": [
    "### Read in Data"
   ]
  },
  {
   "cell_type": "code",
   "execution_count": 25,
   "id": "87acbac5-b093-4bf7-9195-f81d122b253c",
   "metadata": {},
   "outputs": [],
   "source": [
    "dtypes = {'Date':str, 'Store Number':str, 'Store Name':str, 'City':str}\n",
    "usecols = [1,2,3,5,11,19,20,21]"
   ]
  },
  {
   "cell_type": "code",
   "execution_count": 26,
   "id": "732f21cd-f861-456e-8df2-5294e14bb133",
   "metadata": {},
   "outputs": [],
   "source": [
    "df_iowa = pd.read_csv(\"//datasets/Iowa_Liquor_Sales.csv\", usecols = usecols, dtype=dtypes)"
   ]
  },
  {
   "cell_type": "markdown",
   "id": "90fd109e-467c-471e-a60e-c65745acc71e",
   "metadata": {},
   "source": [
    "### Subset Data"
   ]
  },
  {
   "cell_type": "code",
   "execution_count": 27,
   "id": "340303c7-5313-4526-9d52-9ac5b6a30d58",
   "metadata": {},
   "outputs": [],
   "source": [
    "df_iowa['Date'] = pd.to_datetime(df_iowa['Date'])\n",
    "df_iowa['Year'] = df_iowa['Date'].dt.year"
   ]
  },
  {
   "cell_type": "code",
   "execution_count": 39,
   "id": "493018f0-9f60-4f4d-a8e0-896be5333c11",
   "metadata": {},
   "outputs": [],
   "source": [
    "df_sub = df_iowa[df_iowa['Year'].isin([2017,2018,2019,2020,2021,2022])]"
   ]
  },
  {
   "cell_type": "markdown",
   "id": "3dbeea67-99aa-4f97-be40-1afffe711dcb",
   "metadata": {},
   "source": [
    "## Categorical Variable Feature Engineering"
   ]
  },
  {
   "cell_type": "markdown",
   "id": "beae96ca-2967-4714-a6a9-74b9bf9c2ac2",
   "metadata": {},
   "source": [
    "### Store Name Cleaning and Feature Engineering"
   ]
  },
  {
   "cell_type": "markdown",
   "id": "098d4a7f-81eb-4ed0-8474-608995558002",
   "metadata": {},
   "source": [
    "We want to clean up the store names with the goal of being able to see which stores are part of huge chains, which ones are not, and which ones are kind of inbetween."
   ]
  },
  {
   "cell_type": "code",
   "execution_count": 40,
   "id": "edf85a66-8d7b-4487-b09a-da1fe885ba09",
   "metadata": {},
   "outputs": [],
   "source": [
    "def clean_store_names(store):\n",
    "    store = store.split('/')[0].split('#')[0].split('-')[0].lower().rstrip(' ')\n",
    "    if (store.find('wal-mart') != -1) or (store == 'W-Mart'):\n",
    "        return 'walmart'\n",
    "    if store.find('target store t') != -1:\n",
    "        return 'target'\n",
    "    if store.find(\"sam's club\") != -1:\n",
    "        return \"sam's club\"\n",
    "    if store.find('hy-vee') != -1:\n",
    "        return 'hy-vee'\n",
    "    if store.find('central city') != -1:\n",
    "        return 'central city'\n",
    "    return store"
   ]
  },
  {
   "cell_type": "code",
   "execution_count": 41,
   "id": "87664c53-bf49-45aa-880c-51051b510ed1",
   "metadata": {},
   "outputs": [],
   "source": [
    "df_sub.loc[:,\"Store Name\"] = df_sub[\"Store Name\"].apply(clean_store_names)"
   ]
  },
  {
   "cell_type": "markdown",
   "id": "9ed18609-80b1-4284-9245-64d7962e0988",
   "metadata": {},
   "source": [
    "# Weird Code thing here"
   ]
  },
  {
   "cell_type": "markdown",
   "id": "56c11f98-3633-48bb-9a67-e974936883d0",
   "metadata": {},
   "source": [
    "if there is an error for store_counts comes up saying count doesnt exist run the 1st cell that is commented out and comment out the other one. For some reason the top cell works for Jadyn and Anagah but creates an error for me. I think it is because .value_counts is returning different column names for us."
   ]
  },
  {
   "cell_type": "code",
   "execution_count": 42,
   "id": "75a29fec-f93e-43ba-b05b-6eb0dfc65b50",
   "metadata": {},
   "outputs": [],
   "source": [
    "# store_counts = pd.DataFrame(df_sub[['Store Name', 'Store Number']].drop_duplicates()['Store Name'].value_counts()).reset_index()\n",
    "# store_counts.rename(columns={\"Store Name\": \"count\", \"index\": \"Store Name\"}, inplace=True)\n",
    "# store_counts.head()"
   ]
  },
  {
   "cell_type": "code",
   "execution_count": 43,
   "id": "d4db8e94-3877-41c2-97bd-84cfe4bcc0d6",
   "metadata": {},
   "outputs": [
    {
     "data": {
      "text/html": [
       "<div>\n",
       "<style scoped>\n",
       "    .dataframe tbody tr th:only-of-type {\n",
       "        vertical-align: middle;\n",
       "    }\n",
       "\n",
       "    .dataframe tbody tr th {\n",
       "        vertical-align: top;\n",
       "    }\n",
       "\n",
       "    .dataframe thead th {\n",
       "        text-align: right;\n",
       "    }\n",
       "</style>\n",
       "<table border=\"1\" class=\"dataframe\">\n",
       "  <thead>\n",
       "    <tr style=\"text-align: right;\">\n",
       "      <th></th>\n",
       "      <th>Store Name</th>\n",
       "      <th>count</th>\n",
       "    </tr>\n",
       "  </thead>\n",
       "  <tbody>\n",
       "    <tr>\n",
       "      <th>0</th>\n",
       "      <td>casey's general store</td>\n",
       "      <td>517</td>\n",
       "    </tr>\n",
       "    <tr>\n",
       "      <th>1</th>\n",
       "      <td>hy</td>\n",
       "      <td>198</td>\n",
       "    </tr>\n",
       "    <tr>\n",
       "      <th>2</th>\n",
       "      <td>kum &amp; go</td>\n",
       "      <td>121</td>\n",
       "    </tr>\n",
       "    <tr>\n",
       "      <th>3</th>\n",
       "      <td>fareway stores</td>\n",
       "      <td>108</td>\n",
       "    </tr>\n",
       "    <tr>\n",
       "      <th>4</th>\n",
       "      <td>walgreens</td>\n",
       "      <td>69</td>\n",
       "    </tr>\n",
       "  </tbody>\n",
       "</table>\n",
       "</div>"
      ],
      "text/plain": [
       "              Store Name  count\n",
       "0  casey's general store    517\n",
       "1                     hy    198\n",
       "2               kum & go    121\n",
       "3         fareway stores    108\n",
       "4              walgreens     69"
      ]
     },
     "execution_count": 43,
     "metadata": {},
     "output_type": "execute_result"
    }
   ],
   "source": [
    "store_counts = pd.DataFrame(df_sub[['Store Name', 'Store Number']].drop_duplicates()['Store Name'].value_counts()).reset_index()\n",
    "store_counts.head()"
   ]
  },
  {
   "cell_type": "markdown",
   "id": "fc1f4b18-b2cf-4ffd-98dd-41a479d5efb3",
   "metadata": {},
   "source": [
    "Here we want to create a variable to identify whether a liquor store is a major chain, a smaller chain/business or in the middle. We are doing this based on the number of distinct stores for a given store name/business name."
   ]
  },
  {
   "cell_type": "code",
   "execution_count": 44,
   "id": "6e279e71-ea45-4a31-bd47-f5a9a3380d41",
   "metadata": {},
   "outputs": [],
   "source": [
    "def map_store_size(dis_stores):\n",
    "    if dis_stores >= 30:\n",
    "        return 'major'\n",
    "    else:\n",
    "        if dis_stores >= 10:\n",
    "            return 'middle'\n",
    "        else:\n",
    "            return 'minor'"
   ]
  },
  {
   "cell_type": "code",
   "execution_count": 45,
   "id": "a09b9c5d-a141-4dd2-8c64-cc8274752735",
   "metadata": {},
   "outputs": [],
   "source": [
    "store_counts['Store_Size'] = store_counts['count'].apply(map_store_size)"
   ]
  },
  {
   "cell_type": "code",
   "execution_count": 47,
   "id": "48187947-57d6-4547-9af1-8c4738765fb3",
   "metadata": {},
   "outputs": [],
   "source": [
    "df_sub = df_sub.merge(store_counts, how='left', on='Store Name')"
   ]
  },
  {
   "cell_type": "code",
   "execution_count": 48,
   "id": "b432d263-9906-4313-aa21-7aa48197114c",
   "metadata": {},
   "outputs": [
    {
     "data": {
      "text/html": [
       "<div>\n",
       "<style scoped>\n",
       "    .dataframe tbody tr th:only-of-type {\n",
       "        vertical-align: middle;\n",
       "    }\n",
       "\n",
       "    .dataframe tbody tr th {\n",
       "        vertical-align: top;\n",
       "    }\n",
       "\n",
       "    .dataframe thead th {\n",
       "        text-align: right;\n",
       "    }\n",
       "</style>\n",
       "<table border=\"1\" class=\"dataframe\">\n",
       "  <thead>\n",
       "    <tr style=\"text-align: right;\">\n",
       "      <th></th>\n",
       "      <th>Date</th>\n",
       "      <th>Store Number</th>\n",
       "      <th>Store Name</th>\n",
       "      <th>City</th>\n",
       "      <th>Category Name</th>\n",
       "      <th>State Bottle Retail</th>\n",
       "      <th>Bottles Sold</th>\n",
       "      <th>Sale (Dollars)</th>\n",
       "      <th>Year</th>\n",
       "      <th>count</th>\n",
       "      <th>Store_Size</th>\n",
       "    </tr>\n",
       "  </thead>\n",
       "  <tbody>\n",
       "    <tr>\n",
       "      <th>0</th>\n",
       "      <td>2018-01-23</td>\n",
       "      <td>4310</td>\n",
       "      <td>fareway stores</td>\n",
       "      <td>Cherokee</td>\n",
       "      <td>Canadian Whiskies</td>\n",
       "      <td>19.65</td>\n",
       "      <td>3.0</td>\n",
       "      <td>58.95</td>\n",
       "      <td>2018.0</td>\n",
       "      <td>108</td>\n",
       "      <td>major</td>\n",
       "    </tr>\n",
       "    <tr>\n",
       "      <th>1</th>\n",
       "      <td>2018-01-23</td>\n",
       "      <td>2572</td>\n",
       "      <td>hy</td>\n",
       "      <td>Cedar Falls</td>\n",
       "      <td>American Vodkas</td>\n",
       "      <td>10.38</td>\n",
       "      <td>12.0</td>\n",
       "      <td>124.56</td>\n",
       "      <td>2018.0</td>\n",
       "      <td>198</td>\n",
       "      <td>major</td>\n",
       "    </tr>\n",
       "    <tr>\n",
       "      <th>2</th>\n",
       "      <td>2018-01-25</td>\n",
       "      <td>2544</td>\n",
       "      <td>hy</td>\n",
       "      <td>Marshalltown</td>\n",
       "      <td>Gold Rum</td>\n",
       "      <td>6.63</td>\n",
       "      <td>12.0</td>\n",
       "      <td>79.56</td>\n",
       "      <td>2018.0</td>\n",
       "      <td>198</td>\n",
       "      <td>major</td>\n",
       "    </tr>\n",
       "    <tr>\n",
       "      <th>3</th>\n",
       "      <td>2018-01-25</td>\n",
       "      <td>2130</td>\n",
       "      <td>sycamore convenience</td>\n",
       "      <td>Waterloo</td>\n",
       "      <td>Flavored Rum</td>\n",
       "      <td>15.74</td>\n",
       "      <td>36.0</td>\n",
       "      <td>566.64</td>\n",
       "      <td>2018.0</td>\n",
       "      <td>1</td>\n",
       "      <td>minor</td>\n",
       "    </tr>\n",
       "    <tr>\n",
       "      <th>4</th>\n",
       "      <td>2018-01-22</td>\n",
       "      <td>5373</td>\n",
       "      <td>sodes green acre</td>\n",
       "      <td>Guttenberg</td>\n",
       "      <td>Whiskey Liqueur</td>\n",
       "      <td>11.24</td>\n",
       "      <td>2.0</td>\n",
       "      <td>22.48</td>\n",
       "      <td>2018.0</td>\n",
       "      <td>1</td>\n",
       "      <td>minor</td>\n",
       "    </tr>\n",
       "  </tbody>\n",
       "</table>\n",
       "</div>"
      ],
      "text/plain": [
       "        Date Store Number            Store Name          City  \\\n",
       "0 2018-01-23         4310        fareway stores      Cherokee   \n",
       "1 2018-01-23         2572                    hy   Cedar Falls   \n",
       "2 2018-01-25         2544                    hy  Marshalltown   \n",
       "3 2018-01-25         2130  sycamore convenience      Waterloo   \n",
       "4 2018-01-22         5373      sodes green acre    Guttenberg   \n",
       "\n",
       "       Category Name  State Bottle Retail  Bottles Sold  Sale (Dollars)  \\\n",
       "0  Canadian Whiskies                19.65           3.0           58.95   \n",
       "1    American Vodkas                10.38          12.0          124.56   \n",
       "2           Gold Rum                 6.63          12.0           79.56   \n",
       "3       Flavored Rum                15.74          36.0          566.64   \n",
       "4    Whiskey Liqueur                11.24           2.0           22.48   \n",
       "\n",
       "     Year  count Store_Size  \n",
       "0  2018.0    108      major  \n",
       "1  2018.0    198      major  \n",
       "2  2018.0    198      major  \n",
       "3  2018.0      1      minor  \n",
       "4  2018.0      1      minor  "
      ]
     },
     "execution_count": 48,
     "metadata": {},
     "output_type": "execute_result"
    }
   ],
   "source": [
    "df_sub.head()"
   ]
  },
  {
   "cell_type": "markdown",
   "id": "582373f9-f14c-4bb3-9caf-1045afddf601",
   "metadata": {},
   "source": [
    "#### Plot using new Store Size variable"
   ]
  },
  {
   "cell_type": "code",
   "execution_count": 49,
   "id": "935caede-40c3-4625-a8c0-8fbadb493183",
   "metadata": {},
   "outputs": [],
   "source": [
    "df_sizes = df_sub.groupby(['Store Number','Year', 'Store_Size'])['Sale (Dollars)'].sum().reset_index()"
   ]
  },
  {
   "cell_type": "code",
   "execution_count": 50,
   "id": "b1878eed-9773-447b-82fe-232678588f5b",
   "metadata": {},
   "outputs": [
    {
     "data": {
      "text/plain": [
       "<Axes: xlabel='Store_Size'>"
      ]
     },
     "execution_count": 50,
     "metadata": {},
     "output_type": "execute_result"
    },
    {
     "data": {
      "image/png": "[encoded data removed]",
      "text/plain": [
       "<Figure size 432x288 with 1 Axes>"
      ]
     },
     "metadata": {
      "needs_background": "light"
     },
     "output_type": "display_data"
    }
   ],
   "source": [
    "df_sizes.groupby(['Store_Size'])['Sale (Dollars)'].mean().plot.bar()"
   ]
  },
  {
   "cell_type": "markdown",
   "id": "47d37b90-6f88-433e-b703-69ad67e16ef9",
   "metadata": {},
   "source": [
    "We see that major chains and small businesses on average purchase more alchohol than stores that are in the middle group. "
   ]
  },
  {
   "cell_type": "markdown",
   "id": "7bd2b76d-b245-4dc6-a0f5-4b026c23e476",
   "metadata": {},
   "source": [
    "### City Population Feature Engineering"
   ]
  },
  {
   "cell_type": "markdown",
   "id": "34604870-aa42-4d9e-bdec-07226ea2587d",
   "metadata": {},
   "source": [
    "Some cities in the external dataset differed slighly compared to the Iowa alcohol dataset, so the function below fixes those cases so they match.\n"
   ]
  },
  {
   "cell_type": "code",
   "execution_count": 51,
   "id": "68042a81-225b-45fd-9d8f-3a7c48deaacf",
   "metadata": {},
   "outputs": [],
   "source": [
    "def clean_cities(city):\n",
    "    city = city.lower()\n",
    "    if city == 'clearlake':\n",
    "        return 'clear lake'\n",
    "    elif city == 'mt pleasant':\n",
    "        return 'mount pleasant'\n",
    "    elif city == 'lemars':\n",
    "        return 'le mars'\n",
    "    elif city == 'saint ansgar':\n",
    "        return 'st ansgar'\n",
    "    elif city == 'leclaire':\n",
    "        return 'le claire'\n",
    "    elif city == 'jewell':\n",
    "        return 'jewell junction'\n",
    "    elif city == \"arnold's park\":\n",
    "        return 'arnolds park'\n",
    "    elif city == 'grand mounds':\n",
    "        return 'grand mound'\n",
    "    elif city == 'lonetree':\n",
    "        return 'lone tree'\n",
    "    elif city == 'otumwa':\n",
    "        return 'ottumwa'\n",
    "    else:\n",
    "        return city"
   ]
  },
  {
   "cell_type": "code",
   "execution_count": 52,
   "id": "da100168-b969-44fb-93ca-e8bd1819eca6",
   "metadata": {},
   "outputs": [],
   "source": [
    "df_sub.loc[:,'City'] = df_sub['City'].astype(str).apply(clean_cities)"
   ]
  },
  {
   "cell_type": "markdown",
   "id": "6d3247b7-8d0e-4d1f-89a4-2ae5d05012e3",
   "metadata": {},
   "source": [
    "This external dataset contains the populations for different cities in Iowa. We will use this to group cities into different population brackets"
   ]
  },
  {
   "cell_type": "code",
   "execution_count": null,
   "id": "6d2968e2-9f37-4a2d-bd58-91894002db2d",
   "metadata": {},
   "outputs": [],
   "source": [
    "df_cities = pd.read_csv(\"https://raw.githubusercontent.com/brendad8/Datasets/main/Iowa_City.csv\")"
   ]
  },
  {
   "cell_type": "code",
   "execution_count": 53,
   "id": "1d35ebe7-6911-42af-bfd9-590de64a28b8",
   "metadata": {},
   "outputs": [],
   "source": [
    "df_cities['population'] = df_cities['population'].str.replace(\",\", \"\").astype(int)\n",
    "df_cities['name'] = df_cities['name'].str.replace(\" city\", \"\").str.lower()\n",
    "df_cities['name'] = df_cities['name'].str.replace(\".\", \"\")\n",
    "df_cities['name'] = df_cities['name'].str.replace(\" cdp\", \"\")"
   ]
  },
  {
   "cell_type": "code",
   "execution_count": 54,
   "id": "675fbe64-9dfe-40e2-b5d8-87bdbcb0c0b1",
   "metadata": {},
   "outputs": [],
   "source": [
    "df_sub = df_sub.merge(df_cities, left_on = 'City', right_on = 'name', how='left')"
   ]
  },
  {
   "cell_type": "code",
   "execution_count": 55,
   "id": "fe2ab2b9-557c-4cb8-8c52-3334f1e70981",
   "metadata": {},
   "outputs": [],
   "source": [
    "df_sub = df_sub[~df_sub['population'].isna()]"
   ]
  },
  {
   "cell_type": "code",
   "execution_count": 56,
   "id": "8ac4b31b-d8d5-43c0-a7b5-ff414da1e8f9",
   "metadata": {},
   "outputs": [],
   "source": [
    "pops = df_sub[['City', 'population']].drop_duplicates()"
   ]
  },
  {
   "cell_type": "markdown",
   "id": "31d28c08-a749-4837-8ff6-ca8501ba49bc",
   "metadata": {},
   "source": [
    "We want to group cities into differnt population brackets. The function below maps the population of a city to a categorical variable. These brackets were arbitrarily determined."
   ]
  },
  {
   "cell_type": "code",
   "execution_count": 58,
   "id": "546b3836-d485-4372-b3bb-d7195b4cbc75",
   "metadata": {},
   "outputs": [],
   "source": [
    "def map_city_pop(pop):\n",
    "    if pop >= 100000:\n",
    "        return '6'\n",
    "    else:\n",
    "        if pop >= 50000:\n",
    "            return '5'\n",
    "        else:\n",
    "            if pop >= 20000:\n",
    "                return '4'\n",
    "            else:\n",
    "                if pop >= 10000:\n",
    "                    return '3'\n",
    "                else:\n",
    "                    if pop >= 1000:\n",
    "                        return '2'\n",
    "                    else:\n",
    "                        return '1'"
   ]
  },
  {
   "cell_type": "code",
   "execution_count": 59,
   "id": "6713f741-6206-4109-93fa-3a4fcdfb67bd",
   "metadata": {},
   "outputs": [],
   "source": [
    "pops.loc[:,'Pop_Bracket'] = pops['population'].apply(map_city_pop)"
   ]
  },
  {
   "cell_type": "code",
   "execution_count": 60,
   "id": "1dc89040-e43c-4841-90d9-0df556e9bacd",
   "metadata": {},
   "outputs": [],
   "source": [
    "df_sub = df_sub.merge(pops, how='left', on='City')"
   ]
  },
  {
   "cell_type": "markdown",
   "id": "2fae7ef7-05a2-48ca-8936-ac11f7781ed8",
   "metadata": {},
   "source": [
    "#### Plot using new Population Bracket variable"
   ]
  },
  {
   "cell_type": "code",
   "execution_count": 61,
   "id": "4de6654f-9668-43ae-be33-797ea62236cb",
   "metadata": {},
   "outputs": [
    {
     "data": {
      "text/plain": [
       "<Axes: xlabel='Pop_Bracket'>"
      ]
     },
     "execution_count": 61,
     "metadata": {},
     "output_type": "execute_result"
    },
    {
     "data": {
      "image/png": "[encoded data removed]",
      "text/plain": [
       "<Figure size 432x288 with 1 Axes>"
      ]
     },
     "metadata": {
      "needs_background": "light"
     },
     "output_type": "display_data"
    }
   ],
   "source": [
    "df_sub.groupby(['Year', 'Store Number', 'Pop_Bracket'])['Sale (Dollars)'].sum().reset_index().groupby('Pop_Bracket')['Sale (Dollars)'].mean().plot.bar()"
   ]
  },
  {
   "cell_type": "markdown",
   "id": "b246e6b1-08eb-4702-af8c-643c3b24525a",
   "metadata": {},
   "source": [
    "We see that liquor stores in cities with larger populations tend to purchase more alcohol. This feels very obvious and hopefully it contributes to our model for predicting the alchohol purchased."
   ]
  },
  {
   "cell_type": "markdown",
   "id": "f31f4170-a77a-4709-98e7-fb685f89d09c",
   "metadata": {},
   "source": [
    "## Quantitative Variable Feature Engineering by Year"
   ]
  },
  {
   "cell_type": "markdown",
   "id": "03b44dc8-084c-4ec3-bbd9-d2b8fb73ae2c",
   "metadata": {},
   "source": [
    "In this section we are going to aggregate the data for each store over an entire year with the goal of being able to use data from previous years to predict the amount of alchohol purchased by a store for the next. "
   ]
  },
  {
   "cell_type": "markdown",
   "id": "63b0efe4-bbb3-4429-bfad-dccecfb38853",
   "metadata": {},
   "source": [
    "### Bottles Sold and Alcohol Purchased"
   ]
  },
  {
   "cell_type": "code",
   "execution_count": 62,
   "id": "bb3aadb0-2e47-4355-a096-e501ccd673c2",
   "metadata": {},
   "outputs": [],
   "source": [
    "df_bottles = df_sub.groupby(['Store Number', 'Store_Size', 'Pop_Bracket', 'Year']).sum(['Bottles Sold', 'Sale Price (Dollars)'])[['Bottles Sold', 'Sale (Dollars)']].reset_index()"
   ]
  },
  {
   "cell_type": "code",
   "execution_count": 63,
   "id": "386e90a5-af37-4d7d-8ae6-f1b82d51ed00",
   "metadata": {},
   "outputs": [],
   "source": [
    "df_bottles.rename(columns={'Sale (Dollars)':'Alc_Purchased'},inplace=True)"
   ]
  },
  {
   "cell_type": "code",
   "execution_count": 64,
   "id": "7aa2fba3-6c8a-43f7-b5e6-d34bdb3896d1",
   "metadata": {},
   "outputs": [
    {
     "data": {
      "text/html": [
       "<div>\n",
       "<style scoped>\n",
       "    .dataframe tbody tr th:only-of-type {\n",
       "        vertical-align: middle;\n",
       "    }\n",
       "\n",
       "    .dataframe tbody tr th {\n",
       "        vertical-align: top;\n",
       "    }\n",
       "\n",
       "    .dataframe thead th {\n",
       "        text-align: right;\n",
       "    }\n",
       "</style>\n",
       "<table border=\"1\" class=\"dataframe\">\n",
       "  <thead>\n",
       "    <tr style=\"text-align: right;\">\n",
       "      <th></th>\n",
       "      <th>Store Number</th>\n",
       "      <th>Store_Size</th>\n",
       "      <th>Pop_Bracket</th>\n",
       "      <th>Year</th>\n",
       "      <th>Bottles Sold</th>\n",
       "      <th>Alc_Purchased</th>\n",
       "    </tr>\n",
       "  </thead>\n",
       "  <tbody>\n",
       "    <tr>\n",
       "      <th>0</th>\n",
       "      <td>010004</td>\n",
       "      <td>minor</td>\n",
       "      <td>2</td>\n",
       "      <td>2022.0</td>\n",
       "      <td>631.0</td>\n",
       "      <td>7482.97</td>\n",
       "    </tr>\n",
       "    <tr>\n",
       "      <th>1</th>\n",
       "      <td>010016</td>\n",
       "      <td>middle</td>\n",
       "      <td>2</td>\n",
       "      <td>2022.0</td>\n",
       "      <td>1272.0</td>\n",
       "      <td>15788.55</td>\n",
       "    </tr>\n",
       "    <tr>\n",
       "      <th>2</th>\n",
       "      <td>010017</td>\n",
       "      <td>middle</td>\n",
       "      <td>2</td>\n",
       "      <td>2022.0</td>\n",
       "      <td>1288.0</td>\n",
       "      <td>15966.99</td>\n",
       "    </tr>\n",
       "    <tr>\n",
       "      <th>3</th>\n",
       "      <td>010018</td>\n",
       "      <td>middle</td>\n",
       "      <td>2</td>\n",
       "      <td>2022.0</td>\n",
       "      <td>1288.0</td>\n",
       "      <td>15966.99</td>\n",
       "    </tr>\n",
       "    <tr>\n",
       "      <th>4</th>\n",
       "      <td>010019</td>\n",
       "      <td>minor</td>\n",
       "      <td>2</td>\n",
       "      <td>2022.0</td>\n",
       "      <td>1768.0</td>\n",
       "      <td>23221.79</td>\n",
       "    </tr>\n",
       "  </tbody>\n",
       "</table>\n",
       "</div>"
      ],
      "text/plain": [
       "  Store Number Store_Size Pop_Bracket    Year  Bottles Sold  Alc_Purchased\n",
       "0       010004      minor           2  2022.0         631.0        7482.97\n",
       "1       010016     middle           2  2022.0        1272.0       15788.55\n",
       "2       010017     middle           2  2022.0        1288.0       15966.99\n",
       "3       010018     middle           2  2022.0        1288.0       15966.99\n",
       "4       010019      minor           2  2022.0        1768.0       23221.79"
      ]
     },
     "execution_count": 64,
     "metadata": {},
     "output_type": "execute_result"
    }
   ],
   "source": [
    "df_bottles.head()"
   ]
  },
  {
   "cell_type": "markdown",
   "id": "32df8352-385f-405f-88f5-e3272e5352c0",
   "metadata": {},
   "source": [
    "### Mean Price of Bottles Sold over a year"
   ]
  },
  {
   "cell_type": "code",
   "execution_count": 65,
   "id": "ec5dbb5d-9cb0-4ef8-a203-ff822886df3b",
   "metadata": {},
   "outputs": [],
   "source": [
    "df_mean_prices = pd.DataFrame(df_sub.groupby(['Store Number', 'Year'])['State Bottle Retail'].mean()).reset_index().rename(columns={'State Bottle Retail':'Mean_Bottle_Price'})"
   ]
  },
  {
   "cell_type": "code",
   "execution_count": 128,
   "id": "24186264-605c-4faa-9c2f-edca17cb9bdb",
   "metadata": {},
   "outputs": [
    {
     "data": {
      "text/html": [
       "<div>\n",
       "<style scoped>\n",
       "    .dataframe tbody tr th:only-of-type {\n",
       "        vertical-align: middle;\n",
       "    }\n",
       "\n",
       "    .dataframe tbody tr th {\n",
       "        vertical-align: top;\n",
       "    }\n",
       "\n",
       "    .dataframe thead th {\n",
       "        text-align: right;\n",
       "    }\n",
       "</style>\n",
       "<table border=\"1\" class=\"dataframe\">\n",
       "  <thead>\n",
       "    <tr style=\"text-align: right;\">\n",
       "      <th></th>\n",
       "      <th>Store Number</th>\n",
       "      <th>Year</th>\n",
       "      <th>Mean_Bottle_Price</th>\n",
       "    </tr>\n",
       "  </thead>\n",
       "  <tbody>\n",
       "    <tr>\n",
       "      <th>0</th>\n",
       "      <td>010004</td>\n",
       "      <td>2022.0</td>\n",
       "      <td>17.385660</td>\n",
       "    </tr>\n",
       "    <tr>\n",
       "      <th>1</th>\n",
       "      <td>010016</td>\n",
       "      <td>2022.0</td>\n",
       "      <td>14.685000</td>\n",
       "    </tr>\n",
       "    <tr>\n",
       "      <th>2</th>\n",
       "      <td>010017</td>\n",
       "      <td>2022.0</td>\n",
       "      <td>14.549316</td>\n",
       "    </tr>\n",
       "    <tr>\n",
       "      <th>3</th>\n",
       "      <td>010018</td>\n",
       "      <td>2022.0</td>\n",
       "      <td>14.549316</td>\n",
       "    </tr>\n",
       "    <tr>\n",
       "      <th>4</th>\n",
       "      <td>010019</td>\n",
       "      <td>2022.0</td>\n",
       "      <td>26.731346</td>\n",
       "    </tr>\n",
       "  </tbody>\n",
       "</table>\n",
       "</div>"
      ],
      "text/plain": [
       "  Store Number    Year  Mean_Bottle_Price\n",
       "0       010004  2022.0          17.385660\n",
       "1       010016  2022.0          14.685000\n",
       "2       010017  2022.0          14.549316\n",
       "3       010018  2022.0          14.549316\n",
       "4       010019  2022.0          26.731346"
      ]
     },
     "execution_count": 128,
     "metadata": {},
     "output_type": "execute_result"
    }
   ],
   "source": [
    "df_mean_prices.head()"
   ]
  },
  {
   "cell_type": "markdown",
   "id": "3537e593-e93c-4573-b1d1-627c683d2c2f",
   "metadata": {},
   "source": [
    "### Combine all yearly variables"
   ]
  },
  {
   "cell_type": "code",
   "execution_count": 66,
   "id": "b9d913ed-67b7-473f-8467-3f27615873aa",
   "metadata": {},
   "outputs": [],
   "source": [
    "df_comb = df_bottles.merge(df_mean_prices, on=['Store Number', 'Year'])\n",
    "df_comb['Year+1'] = df_comb['Year']+1"
   ]
  },
  {
   "cell_type": "code",
   "execution_count": 67,
   "id": "dca9f2a8-097d-4eff-898c-17c360c7ac36",
   "metadata": {},
   "outputs": [
    {
     "data": {
      "text/html": [
       "<div>\n",
       "<style scoped>\n",
       "    .dataframe tbody tr th:only-of-type {\n",
       "        vertical-align: middle;\n",
       "    }\n",
       "\n",
       "    .dataframe tbody tr th {\n",
       "        vertical-align: top;\n",
       "    }\n",
       "\n",
       "    .dataframe thead th {\n",
       "        text-align: right;\n",
       "    }\n",
       "</style>\n",
       "<table border=\"1\" class=\"dataframe\">\n",
       "  <thead>\n",
       "    <tr style=\"text-align: right;\">\n",
       "      <th></th>\n",
       "      <th>Store Number</th>\n",
       "      <th>Store_Size</th>\n",
       "      <th>Pop_Bracket</th>\n",
       "      <th>Year</th>\n",
       "      <th>Bottles Sold</th>\n",
       "      <th>Alc_Purchased</th>\n",
       "      <th>Mean_Bottle_Price</th>\n",
       "      <th>Year+1</th>\n",
       "    </tr>\n",
       "  </thead>\n",
       "  <tbody>\n",
       "    <tr>\n",
       "      <th>0</th>\n",
       "      <td>010004</td>\n",
       "      <td>minor</td>\n",
       "      <td>2</td>\n",
       "      <td>2022.0</td>\n",
       "      <td>631.0</td>\n",
       "      <td>7482.97</td>\n",
       "      <td>17.385660</td>\n",
       "      <td>2023.0</td>\n",
       "    </tr>\n",
       "    <tr>\n",
       "      <th>1</th>\n",
       "      <td>010016</td>\n",
       "      <td>middle</td>\n",
       "      <td>2</td>\n",
       "      <td>2022.0</td>\n",
       "      <td>1272.0</td>\n",
       "      <td>15788.55</td>\n",
       "      <td>14.685000</td>\n",
       "      <td>2023.0</td>\n",
       "    </tr>\n",
       "    <tr>\n",
       "      <th>2</th>\n",
       "      <td>010017</td>\n",
       "      <td>middle</td>\n",
       "      <td>2</td>\n",
       "      <td>2022.0</td>\n",
       "      <td>1288.0</td>\n",
       "      <td>15966.99</td>\n",
       "      <td>14.549316</td>\n",
       "      <td>2023.0</td>\n",
       "    </tr>\n",
       "    <tr>\n",
       "      <th>3</th>\n",
       "      <td>010018</td>\n",
       "      <td>middle</td>\n",
       "      <td>2</td>\n",
       "      <td>2022.0</td>\n",
       "      <td>1288.0</td>\n",
       "      <td>15966.99</td>\n",
       "      <td>14.549316</td>\n",
       "      <td>2023.0</td>\n",
       "    </tr>\n",
       "    <tr>\n",
       "      <th>4</th>\n",
       "      <td>010019</td>\n",
       "      <td>minor</td>\n",
       "      <td>2</td>\n",
       "      <td>2022.0</td>\n",
       "      <td>1768.0</td>\n",
       "      <td>23221.79</td>\n",
       "      <td>26.731346</td>\n",
       "      <td>2023.0</td>\n",
       "    </tr>\n",
       "  </tbody>\n",
       "</table>\n",
       "</div>"
      ],
      "text/plain": [
       "  Store Number Store_Size Pop_Bracket    Year  Bottles Sold  Alc_Purchased  \\\n",
       "0       010004      minor           2  2022.0         631.0        7482.97   \n",
       "1       010016     middle           2  2022.0        1272.0       15788.55   \n",
       "2       010017     middle           2  2022.0        1288.0       15966.99   \n",
       "3       010018     middle           2  2022.0        1288.0       15966.99   \n",
       "4       010019      minor           2  2022.0        1768.0       23221.79   \n",
       "\n",
       "   Mean_Bottle_Price  Year+1  \n",
       "0          17.385660  2023.0  \n",
       "1          14.685000  2023.0  \n",
       "2          14.549316  2023.0  \n",
       "3          14.549316  2023.0  \n",
       "4          26.731346  2023.0  "
      ]
     },
     "execution_count": 67,
     "metadata": {},
     "output_type": "execute_result"
    }
   ],
   "source": [
    "df_comb.head()"
   ]
  },
  {
   "cell_type": "markdown",
   "id": "cb241b9c-9be2-4b47-8df3-a2878dd8a73d",
   "metadata": {},
   "source": [
    "## Create Response Variable to train model to predict on"
   ]
  },
  {
   "cell_type": "markdown",
   "id": "f462a419-e7f5-442f-b36f-ca59add2142e",
   "metadata": {},
   "source": [
    "We will be training our model to use data from previous years to predict the amount of alcohol a store will be purchasing in the next year"
   ]
  },
  {
   "cell_type": "code",
   "execution_count": 68,
   "id": "9979edcb-787e-4e1f-a578-287865ab18b1",
   "metadata": {},
   "outputs": [],
   "source": [
    "df_response = pd.DataFrame(df_sub.groupby(['Year', 'Store Number'])['Sale (Dollars)'].sum()).rename(columns={'Sale (Dollars)':'Res_Alc_Purchased'}).reset_index()"
   ]
  },
  {
   "cell_type": "code",
   "execution_count": 69,
   "id": "13f3b3a5-5171-423f-99b3-693e8d676cba",
   "metadata": {},
   "outputs": [],
   "source": [
    "df_response.rename(columns={'Year':'Res_Year'}, inplace=True)"
   ]
  },
  {
   "cell_type": "code",
   "execution_count": 70,
   "id": "b9a9554b-4b4a-418c-91ef-ebd191217acf",
   "metadata": {},
   "outputs": [],
   "source": [
    "df_response['Res_Year-1'] = df_response['Res_Year'] - 1"
   ]
  },
  {
   "cell_type": "code",
   "execution_count": 71,
   "id": "e3e476b2-412d-40b4-9b61-c0174a1c8472",
   "metadata": {},
   "outputs": [
    {
     "data": {
      "text/html": [
       "<div>\n",
       "<style scoped>\n",
       "    .dataframe tbody tr th:only-of-type {\n",
       "        vertical-align: middle;\n",
       "    }\n",
       "\n",
       "    .dataframe tbody tr th {\n",
       "        vertical-align: top;\n",
       "    }\n",
       "\n",
       "    .dataframe thead th {\n",
       "        text-align: right;\n",
       "    }\n",
       "</style>\n",
       "<table border=\"1\" class=\"dataframe\">\n",
       "  <thead>\n",
       "    <tr style=\"text-align: right;\">\n",
       "      <th></th>\n",
       "      <th>Res_Year</th>\n",
       "      <th>Store Number</th>\n",
       "      <th>Res_Alc_Purchased</th>\n",
       "      <th>Res_Year-1</th>\n",
       "    </tr>\n",
       "  </thead>\n",
       "  <tbody>\n",
       "    <tr>\n",
       "      <th>0</th>\n",
       "      <td>2017.0</td>\n",
       "      <td>2106</td>\n",
       "      <td>465.12</td>\n",
       "      <td>2016.0</td>\n",
       "    </tr>\n",
       "    <tr>\n",
       "      <th>1</th>\n",
       "      <td>2017.0</td>\n",
       "      <td>2113</td>\n",
       "      <td>1051.87</td>\n",
       "      <td>2016.0</td>\n",
       "    </tr>\n",
       "    <tr>\n",
       "      <th>2</th>\n",
       "      <td>2017.0</td>\n",
       "      <td>2130</td>\n",
       "      <td>1392.24</td>\n",
       "      <td>2016.0</td>\n",
       "    </tr>\n",
       "    <tr>\n",
       "      <th>3</th>\n",
       "      <td>2017.0</td>\n",
       "      <td>2190</td>\n",
       "      <td>752.06</td>\n",
       "      <td>2016.0</td>\n",
       "    </tr>\n",
       "    <tr>\n",
       "      <th>4</th>\n",
       "      <td>2017.0</td>\n",
       "      <td>2191</td>\n",
       "      <td>23148.39</td>\n",
       "      <td>2016.0</td>\n",
       "    </tr>\n",
       "  </tbody>\n",
       "</table>\n",
       "</div>"
      ],
      "text/plain": [
       "   Res_Year Store Number  Res_Alc_Purchased  Res_Year-1\n",
       "0    2017.0         2106             465.12      2016.0\n",
       "1    2017.0         2113            1051.87      2016.0\n",
       "2    2017.0         2130            1392.24      2016.0\n",
       "3    2017.0         2190             752.06      2016.0\n",
       "4    2017.0         2191           23148.39      2016.0"
      ]
     },
     "execution_count": 71,
     "metadata": {},
     "output_type": "execute_result"
    }
   ],
   "source": [
    "df_response.head()"
   ]
  },
  {
   "cell_type": "markdown",
   "id": "4e4b7091-dbba-4953-9033-c347d8ba7ba9",
   "metadata": {},
   "source": [
    "## Data using previous year's observations as predictors (n=1)"
   ]
  },
  {
   "cell_type": "markdown",
   "id": "b371026b-bbbb-4f28-9e5d-be3bd979e124",
   "metadata": {},
   "source": [
    "I am joining the dataset with the combined yearly variables to the dataset with the response variables. The joining condition is on store number and year_for_predictors+1 = year_for_response"
   ]
  },
  {
   "cell_type": "code",
   "execution_count": 72,
   "id": "e58977f5-83df-4f26-b2dd-47c47b9f28a2",
   "metadata": {},
   "outputs": [],
   "source": [
    "df_model1 = df_comb.merge(df_response, left_on = ['Store Number', 'Year+1'], right_on = ['Store Number', 'Res_Year'])"
   ]
  },
  {
   "cell_type": "code",
   "execution_count": 73,
   "id": "e8f2cdd1-3624-4599-91fe-42b9c91026e8",
   "metadata": {},
   "outputs": [
    {
     "data": {
      "text/plain": [
       "(7779, 11)"
      ]
     },
     "execution_count": 73,
     "metadata": {},
     "output_type": "execute_result"
    }
   ],
   "source": [
    "df_model1.shape"
   ]
  },
  {
   "cell_type": "code",
   "execution_count": 74,
   "id": "a7a15325-7b98-4569-a96c-0280a8682ef9",
   "metadata": {},
   "outputs": [
    {
     "data": {
      "text/html": [
       "<div>\n",
       "<style scoped>\n",
       "    .dataframe tbody tr th:only-of-type {\n",
       "        vertical-align: middle;\n",
       "    }\n",
       "\n",
       "    .dataframe tbody tr th {\n",
       "        vertical-align: top;\n",
       "    }\n",
       "\n",
       "    .dataframe thead th {\n",
       "        text-align: right;\n",
       "    }\n",
       "</style>\n",
       "<table border=\"1\" class=\"dataframe\">\n",
       "  <thead>\n",
       "    <tr style=\"text-align: right;\">\n",
       "      <th></th>\n",
       "      <th>Store Number</th>\n",
       "      <th>Store_Size</th>\n",
       "      <th>Pop_Bracket</th>\n",
       "      <th>Year</th>\n",
       "      <th>Bottles Sold</th>\n",
       "      <th>Alc_Purchased</th>\n",
       "      <th>Mean_Bottle_Price</th>\n",
       "      <th>Year+1</th>\n",
       "      <th>Res_Year</th>\n",
       "      <th>Res_Alc_Purchased</th>\n",
       "      <th>Res_Year-1</th>\n",
       "    </tr>\n",
       "  </thead>\n",
       "  <tbody>\n",
       "    <tr>\n",
       "      <th>0</th>\n",
       "      <td>2106</td>\n",
       "      <td>minor</td>\n",
       "      <td>4</td>\n",
       "      <td>2017.0</td>\n",
       "      <td>24.0</td>\n",
       "      <td>465.12</td>\n",
       "      <td>21.090000</td>\n",
       "      <td>2018.0</td>\n",
       "      <td>2018.0</td>\n",
       "      <td>1248878.02</td>\n",
       "      <td>2017.0</td>\n",
       "    </tr>\n",
       "    <tr>\n",
       "      <th>1</th>\n",
       "      <td>2106</td>\n",
       "      <td>minor</td>\n",
       "      <td>4</td>\n",
       "      <td>2018.0</td>\n",
       "      <td>86987.0</td>\n",
       "      <td>1248878.02</td>\n",
       "      <td>16.782445</td>\n",
       "      <td>2019.0</td>\n",
       "      <td>2019.0</td>\n",
       "      <td>1223186.94</td>\n",
       "      <td>2018.0</td>\n",
       "    </tr>\n",
       "    <tr>\n",
       "      <th>2</th>\n",
       "      <td>2106</td>\n",
       "      <td>minor</td>\n",
       "      <td>4</td>\n",
       "      <td>2019.0</td>\n",
       "      <td>85121.0</td>\n",
       "      <td>1223186.94</td>\n",
       "      <td>16.657084</td>\n",
       "      <td>2020.0</td>\n",
       "      <td>2020.0</td>\n",
       "      <td>786504.43</td>\n",
       "      <td>2019.0</td>\n",
       "    </tr>\n",
       "    <tr>\n",
       "      <th>3</th>\n",
       "      <td>2106</td>\n",
       "      <td>minor</td>\n",
       "      <td>4</td>\n",
       "      <td>2020.0</td>\n",
       "      <td>53237.0</td>\n",
       "      <td>786504.43</td>\n",
       "      <td>17.503160</td>\n",
       "      <td>2021.0</td>\n",
       "      <td>2021.0</td>\n",
       "      <td>1033483.12</td>\n",
       "      <td>2020.0</td>\n",
       "    </tr>\n",
       "    <tr>\n",
       "      <th>4</th>\n",
       "      <td>2106</td>\n",
       "      <td>minor</td>\n",
       "      <td>4</td>\n",
       "      <td>2021.0</td>\n",
       "      <td>67944.0</td>\n",
       "      <td>1033483.12</td>\n",
       "      <td>18.020315</td>\n",
       "      <td>2022.0</td>\n",
       "      <td>2022.0</td>\n",
       "      <td>615676.25</td>\n",
       "      <td>2021.0</td>\n",
       "    </tr>\n",
       "  </tbody>\n",
       "</table>\n",
       "</div>"
      ],
      "text/plain": [
       "  Store Number Store_Size Pop_Bracket    Year  Bottles Sold  Alc_Purchased  \\\n",
       "0         2106      minor           4  2017.0          24.0         465.12   \n",
       "1         2106      minor           4  2018.0       86987.0     1248878.02   \n",
       "2         2106      minor           4  2019.0       85121.0     1223186.94   \n",
       "3         2106      minor           4  2020.0       53237.0      786504.43   \n",
       "4         2106      minor           4  2021.0       67944.0     1033483.12   \n",
       "\n",
       "   Mean_Bottle_Price  Year+1  Res_Year  Res_Alc_Purchased  Res_Year-1  \n",
       "0          21.090000  2018.0    2018.0         1248878.02      2017.0  \n",
       "1          16.782445  2019.0    2019.0         1223186.94      2018.0  \n",
       "2          16.657084  2020.0    2020.0          786504.43      2019.0  \n",
       "3          17.503160  2021.0    2021.0         1033483.12      2020.0  \n",
       "4          18.020315  2022.0    2022.0          615676.25      2021.0  "
      ]
     },
     "execution_count": 74,
     "metadata": {},
     "output_type": "execute_result"
    }
   ],
   "source": [
    "df_model1.head()"
   ]
  },
  {
   "cell_type": "markdown",
   "id": "17f13cf7-f074-4e60-b856-39c5df4cbef0",
   "metadata": {},
   "source": [
    "## Data using the previous 2 year's observations as predictors (n=2)"
   ]
  },
  {
   "cell_type": "markdown",
   "id": "178dc6a0-954f-416f-96d9-f436d6b60ea4",
   "metadata": {},
   "source": [
    "Here is where we join 2 sequential years together for each store as predictors (df_seq) We added suffixes to differentiate variables for the different years relative to the response year. We then join on the response year so each observation contains data from 3 years. 2 sequential years as predictors and a 3rd sequential year for the response"
   ]
  },
  {
   "cell_type": "code",
   "execution_count": 75,
   "id": "5fcdc9ca-0f9a-4a0b-8cfc-ee75e992c833",
   "metadata": {},
   "outputs": [],
   "source": [
    "df_seq = df_comb.merge(df_comb, left_on=['Store Number', 'Year+1', 'Store_Size', 'Pop_Bracket'], right_on=['Store Number', 'Year', 'Store_Size', 'Pop_Bracket'], suffixes=['_2ago', '_1ago'])"
   ]
  },
  {
   "cell_type": "code",
   "execution_count": 76,
   "id": "beda7f0d-9c19-4d40-ad19-7fd1557ceb45",
   "metadata": {},
   "outputs": [],
   "source": [
    "df_model2 = df_seq.merge(df_response, left_on = ['Store Number', 'Year+1_1ago'], right_on = ['Store Number', 'Res_Year'])"
   ]
  },
  {
   "cell_type": "code",
   "execution_count": 77,
   "id": "cd9b4111-c481-4bb2-9404-9d03729132f7",
   "metadata": {},
   "outputs": [
    {
     "data": {
      "text/plain": [
       "(5607, 16)"
      ]
     },
     "execution_count": 77,
     "metadata": {},
     "output_type": "execute_result"
    }
   ],
   "source": [
    "df_model2.shape"
   ]
  },
  {
   "cell_type": "code",
   "execution_count": 78,
   "id": "07b82d3a-ce62-4f33-9975-96601899bdad",
   "metadata": {},
   "outputs": [
    {
     "data": {
      "text/html": [
       "<div>\n",
       "<style scoped>\n",
       "    .dataframe tbody tr th:only-of-type {\n",
       "        vertical-align: middle;\n",
       "    }\n",
       "\n",
       "    .dataframe tbody tr th {\n",
       "        vertical-align: top;\n",
       "    }\n",
       "\n",
       "    .dataframe thead th {\n",
       "        text-align: right;\n",
       "    }\n",
       "</style>\n",
       "<table border=\"1\" class=\"dataframe\">\n",
       "  <thead>\n",
       "    <tr style=\"text-align: right;\">\n",
       "      <th></th>\n",
       "      <th>Store Number</th>\n",
       "      <th>Store_Size</th>\n",
       "      <th>Pop_Bracket</th>\n",
       "      <th>Year_2ago</th>\n",
       "      <th>Bottles Sold_2ago</th>\n",
       "      <th>Alc_Purchased_2ago</th>\n",
       "      <th>Mean_Bottle_Price_2ago</th>\n",
       "      <th>Year+1_2ago</th>\n",
       "      <th>Year_1ago</th>\n",
       "      <th>Bottles Sold_1ago</th>\n",
       "      <th>Alc_Purchased_1ago</th>\n",
       "      <th>Mean_Bottle_Price_1ago</th>\n",
       "      <th>Year+1_1ago</th>\n",
       "      <th>Res_Year</th>\n",
       "      <th>Res_Alc_Purchased</th>\n",
       "      <th>Res_Year-1</th>\n",
       "    </tr>\n",
       "  </thead>\n",
       "  <tbody>\n",
       "    <tr>\n",
       "      <th>0</th>\n",
       "      <td>2106</td>\n",
       "      <td>minor</td>\n",
       "      <td>4</td>\n",
       "      <td>2017.0</td>\n",
       "      <td>24.0</td>\n",
       "      <td>465.12</td>\n",
       "      <td>21.090000</td>\n",
       "      <td>2018.0</td>\n",
       "      <td>2018.0</td>\n",
       "      <td>86987.0</td>\n",
       "      <td>1248878.02</td>\n",
       "      <td>16.782445</td>\n",
       "      <td>2019.0</td>\n",
       "      <td>2019.0</td>\n",
       "      <td>1223186.94</td>\n",
       "      <td>2018.0</td>\n",
       "    </tr>\n",
       "    <tr>\n",
       "      <th>1</th>\n",
       "      <td>2106</td>\n",
       "      <td>minor</td>\n",
       "      <td>4</td>\n",
       "      <td>2018.0</td>\n",
       "      <td>86987.0</td>\n",
       "      <td>1248878.02</td>\n",
       "      <td>16.782445</td>\n",
       "      <td>2019.0</td>\n",
       "      <td>2019.0</td>\n",
       "      <td>85121.0</td>\n",
       "      <td>1223186.94</td>\n",
       "      <td>16.657084</td>\n",
       "      <td>2020.0</td>\n",
       "      <td>2020.0</td>\n",
       "      <td>786504.43</td>\n",
       "      <td>2019.0</td>\n",
       "    </tr>\n",
       "    <tr>\n",
       "      <th>2</th>\n",
       "      <td>2106</td>\n",
       "      <td>minor</td>\n",
       "      <td>4</td>\n",
       "      <td>2019.0</td>\n",
       "      <td>85121.0</td>\n",
       "      <td>1223186.94</td>\n",
       "      <td>16.657084</td>\n",
       "      <td>2020.0</td>\n",
       "      <td>2020.0</td>\n",
       "      <td>53237.0</td>\n",
       "      <td>786504.43</td>\n",
       "      <td>17.503160</td>\n",
       "      <td>2021.0</td>\n",
       "      <td>2021.0</td>\n",
       "      <td>1033483.12</td>\n",
       "      <td>2020.0</td>\n",
       "    </tr>\n",
       "    <tr>\n",
       "      <th>3</th>\n",
       "      <td>2106</td>\n",
       "      <td>minor</td>\n",
       "      <td>4</td>\n",
       "      <td>2020.0</td>\n",
       "      <td>53237.0</td>\n",
       "      <td>786504.43</td>\n",
       "      <td>17.503160</td>\n",
       "      <td>2021.0</td>\n",
       "      <td>2021.0</td>\n",
       "      <td>67944.0</td>\n",
       "      <td>1033483.12</td>\n",
       "      <td>18.020315</td>\n",
       "      <td>2022.0</td>\n",
       "      <td>2022.0</td>\n",
       "      <td>615676.25</td>\n",
       "      <td>2021.0</td>\n",
       "    </tr>\n",
       "    <tr>\n",
       "      <th>4</th>\n",
       "      <td>2113</td>\n",
       "      <td>minor</td>\n",
       "      <td>1</td>\n",
       "      <td>2017.0</td>\n",
       "      <td>67.0</td>\n",
       "      <td>1051.87</td>\n",
       "      <td>18.482105</td>\n",
       "      <td>2018.0</td>\n",
       "      <td>2018.0</td>\n",
       "      <td>5273.0</td>\n",
       "      <td>75058.27</td>\n",
       "      <td>16.548311</td>\n",
       "      <td>2019.0</td>\n",
       "      <td>2019.0</td>\n",
       "      <td>78947.79</td>\n",
       "      <td>2018.0</td>\n",
       "    </tr>\n",
       "  </tbody>\n",
       "</table>\n",
       "</div>"
      ],
      "text/plain": [
       "  Store Number Store_Size Pop_Bracket  Year_2ago  Bottles Sold_2ago  \\\n",
       "0         2106      minor           4     2017.0               24.0   \n",
       "1         2106      minor           4     2018.0            86987.0   \n",
       "2         2106      minor           4     2019.0            85121.0   \n",
       "3         2106      minor           4     2020.0            53237.0   \n",
       "4         2113      minor           1     2017.0               67.0   \n",
       "\n",
       "   Alc_Purchased_2ago  Mean_Bottle_Price_2ago  Year+1_2ago  Year_1ago  \\\n",
       "0              465.12               21.090000       2018.0     2018.0   \n",
       "1          1248878.02               16.782445       2019.0     2019.0   \n",
       "2          1223186.94               16.657084       2020.0     2020.0   \n",
       "3           786504.43               17.503160       2021.0     2021.0   \n",
       "4             1051.87               18.482105       2018.0     2018.0   \n",
       "\n",
       "   Bottles Sold_1ago  Alc_Purchased_1ago  Mean_Bottle_Price_1ago  Year+1_1ago  \\\n",
       "0            86987.0          1248878.02               16.782445       2019.0   \n",
       "1            85121.0          1223186.94               16.657084       2020.0   \n",
       "2            53237.0           786504.43               17.503160       2021.0   \n",
       "3            67944.0          1033483.12               18.020315       2022.0   \n",
       "4             5273.0            75058.27               16.548311       2019.0   \n",
       "\n",
       "   Res_Year  Res_Alc_Purchased  Res_Year-1  \n",
       "0    2019.0         1223186.94      2018.0  \n",
       "1    2020.0          786504.43      2019.0  \n",
       "2    2021.0         1033483.12      2020.0  \n",
       "3    2022.0          615676.25      2021.0  \n",
       "4    2019.0           78947.79      2018.0  "
      ]
     },
     "execution_count": 78,
     "metadata": {},
     "output_type": "execute_result"
    }
   ],
   "source": [
    "df_model2.head()"
   ]
  },
  {
   "cell_type": "markdown",
   "id": "ebf6a811-0986-459c-9e34-c8b021d5fadc",
   "metadata": {},
   "source": [
    "## Data using the previous 3 year's observations as predictors (n=3)"
   ]
  },
  {
   "cell_type": "markdown",
   "id": "0a21ded9-e533-43ff-9689-2e03bdcfbd52",
   "metadata": {},
   "source": [
    "Here we are doing the same thing as we did above but just using three years as predictors. Here we join an additional 3rd year of data to the data including 2 sequential years for a store. The suffixes are now relative to the 3rd year and the response year is one year ahead of the 3rd year. We then join the response on 3rd_year+1 = response_year"
   ]
  },
  {
   "cell_type": "code",
   "execution_count": 79,
   "id": "cd2c2d93-a541-4893-9182-a5aeda21bf1e",
   "metadata": {},
   "outputs": [],
   "source": [
    "df_seq2 = df_seq.merge(df_comb, left_on=['Store Number', 'Store_Size', 'Pop_Bracket', 'Year+1_1ago'], right_on=['Store Number', 'Store_Size', 'Pop_Bracket', 'Year'])"
   ]
  },
  {
   "cell_type": "code",
   "execution_count": 80,
   "id": "eace632a-66d7-41a0-8708-0cf2ede07bbd",
   "metadata": {},
   "outputs": [],
   "source": [
    "df_model3 = df_seq2.merge(df_response, left_on = ['Store Number', 'Year'], right_on = ['Store Number', 'Res_Year-1'])"
   ]
  },
  {
   "cell_type": "code",
   "execution_count": 81,
   "id": "1242da4b-9849-4252-9dc6-e3a052e3582e",
   "metadata": {},
   "outputs": [
    {
     "data": {
      "text/plain": [
       "(3719, 21)"
      ]
     },
     "execution_count": 81,
     "metadata": {},
     "output_type": "execute_result"
    }
   ],
   "source": [
    "df_model3.shape"
   ]
  },
  {
   "cell_type": "code",
   "execution_count": 82,
   "id": "37bc6dea-b02f-4332-93f6-2b5fdfb9c129",
   "metadata": {},
   "outputs": [
    {
     "data": {
      "text/plain": [
       "Index(['Store Number', 'Store_Size', 'Pop_Bracket', 'Year_2ago',\n",
       "       'Bottles Sold_2ago', 'Alc_Purchased_2ago', 'Mean_Bottle_Price_2ago',\n",
       "       'Year+1_2ago', 'Year_1ago', 'Bottles Sold_1ago', 'Alc_Purchased_1ago',\n",
       "       'Mean_Bottle_Price_1ago', 'Year+1_1ago', 'Year', 'Bottles Sold',\n",
       "       'Alc_Purchased', 'Mean_Bottle_Price', 'Year+1', 'Res_Year',\n",
       "       'Res_Alc_Purchased', 'Res_Year-1'],\n",
       "      dtype='object')"
      ]
     },
     "execution_count": 82,
     "metadata": {},
     "output_type": "execute_result"
    }
   ],
   "source": [
    "df_model3.columns"
   ]
  },
  {
   "cell_type": "code",
   "execution_count": 83,
   "id": "d8334d0d-66aa-44d4-8854-7acece08db2b",
   "metadata": {},
   "outputs": [
    {
     "data": {
      "text/html": [
       "<div>\n",
       "<style scoped>\n",
       "    .dataframe tbody tr th:only-of-type {\n",
       "        vertical-align: middle;\n",
       "    }\n",
       "\n",
       "    .dataframe tbody tr th {\n",
       "        vertical-align: top;\n",
       "    }\n",
       "\n",
       "    .dataframe thead th {\n",
       "        text-align: right;\n",
       "    }\n",
       "</style>\n",
       "<table border=\"1\" class=\"dataframe\">\n",
       "  <thead>\n",
       "    <tr style=\"text-align: right;\">\n",
       "      <th></th>\n",
       "      <th>Store Number</th>\n",
       "      <th>Store_Size</th>\n",
       "      <th>Pop_Bracket</th>\n",
       "      <th>Year_2ago</th>\n",
       "      <th>Bottles Sold_2ago</th>\n",
       "      <th>Alc_Purchased_2ago</th>\n",
       "      <th>Mean_Bottle_Price_2ago</th>\n",
       "      <th>Year+1_2ago</th>\n",
       "      <th>Year_1ago</th>\n",
       "      <th>Bottles Sold_1ago</th>\n",
       "      <th>...</th>\n",
       "      <th>Mean_Bottle_Price_1ago</th>\n",
       "      <th>Year+1_1ago</th>\n",
       "      <th>Year</th>\n",
       "      <th>Bottles Sold</th>\n",
       "      <th>Alc_Purchased</th>\n",
       "      <th>Mean_Bottle_Price</th>\n",
       "      <th>Year+1</th>\n",
       "      <th>Res_Year</th>\n",
       "      <th>Res_Alc_Purchased</th>\n",
       "      <th>Res_Year-1</th>\n",
       "    </tr>\n",
       "  </thead>\n",
       "  <tbody>\n",
       "    <tr>\n",
       "      <th>0</th>\n",
       "      <td>2106</td>\n",
       "      <td>minor</td>\n",
       "      <td>4</td>\n",
       "      <td>2017.0</td>\n",
       "      <td>24.0</td>\n",
       "      <td>465.12</td>\n",
       "      <td>21.090000</td>\n",
       "      <td>2018.0</td>\n",
       "      <td>2018.0</td>\n",
       "      <td>86987.0</td>\n",
       "      <td>...</td>\n",
       "      <td>16.782445</td>\n",
       "      <td>2019.0</td>\n",
       "      <td>2019.0</td>\n",
       "      <td>85121.0</td>\n",
       "      <td>1223186.94</td>\n",
       "      <td>16.657084</td>\n",
       "      <td>2020.0</td>\n",
       "      <td>2020.0</td>\n",
       "      <td>786504.43</td>\n",
       "      <td>2019.0</td>\n",
       "    </tr>\n",
       "    <tr>\n",
       "      <th>1</th>\n",
       "      <td>2106</td>\n",
       "      <td>minor</td>\n",
       "      <td>4</td>\n",
       "      <td>2018.0</td>\n",
       "      <td>86987.0</td>\n",
       "      <td>1248878.02</td>\n",
       "      <td>16.782445</td>\n",
       "      <td>2019.0</td>\n",
       "      <td>2019.0</td>\n",
       "      <td>85121.0</td>\n",
       "      <td>...</td>\n",
       "      <td>16.657084</td>\n",
       "      <td>2020.0</td>\n",
       "      <td>2020.0</td>\n",
       "      <td>53237.0</td>\n",
       "      <td>786504.43</td>\n",
       "      <td>17.503160</td>\n",
       "      <td>2021.0</td>\n",
       "      <td>2021.0</td>\n",
       "      <td>1033483.12</td>\n",
       "      <td>2020.0</td>\n",
       "    </tr>\n",
       "    <tr>\n",
       "      <th>2</th>\n",
       "      <td>2106</td>\n",
       "      <td>minor</td>\n",
       "      <td>4</td>\n",
       "      <td>2019.0</td>\n",
       "      <td>85121.0</td>\n",
       "      <td>1223186.94</td>\n",
       "      <td>16.657084</td>\n",
       "      <td>2020.0</td>\n",
       "      <td>2020.0</td>\n",
       "      <td>53237.0</td>\n",
       "      <td>...</td>\n",
       "      <td>17.503160</td>\n",
       "      <td>2021.0</td>\n",
       "      <td>2021.0</td>\n",
       "      <td>67944.0</td>\n",
       "      <td>1033483.12</td>\n",
       "      <td>18.020315</td>\n",
       "      <td>2022.0</td>\n",
       "      <td>2022.0</td>\n",
       "      <td>615676.25</td>\n",
       "      <td>2021.0</td>\n",
       "    </tr>\n",
       "    <tr>\n",
       "      <th>3</th>\n",
       "      <td>2113</td>\n",
       "      <td>minor</td>\n",
       "      <td>1</td>\n",
       "      <td>2017.0</td>\n",
       "      <td>67.0</td>\n",
       "      <td>1051.87</td>\n",
       "      <td>18.482105</td>\n",
       "      <td>2018.0</td>\n",
       "      <td>2018.0</td>\n",
       "      <td>5273.0</td>\n",
       "      <td>...</td>\n",
       "      <td>16.548311</td>\n",
       "      <td>2019.0</td>\n",
       "      <td>2019.0</td>\n",
       "      <td>6052.0</td>\n",
       "      <td>78947.79</td>\n",
       "      <td>16.283819</td>\n",
       "      <td>2020.0</td>\n",
       "      <td>2020.0</td>\n",
       "      <td>7437.09</td>\n",
       "      <td>2019.0</td>\n",
       "    </tr>\n",
       "    <tr>\n",
       "      <th>4</th>\n",
       "      <td>2130</td>\n",
       "      <td>minor</td>\n",
       "      <td>5</td>\n",
       "      <td>2017.0</td>\n",
       "      <td>96.0</td>\n",
       "      <td>1392.24</td>\n",
       "      <td>14.502500</td>\n",
       "      <td>2018.0</td>\n",
       "      <td>2018.0</td>\n",
       "      <td>69700.0</td>\n",
       "      <td>...</td>\n",
       "      <td>17.231580</td>\n",
       "      <td>2019.0</td>\n",
       "      <td>2019.0</td>\n",
       "      <td>74268.0</td>\n",
       "      <td>1173271.75</td>\n",
       "      <td>17.425406</td>\n",
       "      <td>2020.0</td>\n",
       "      <td>2020.0</td>\n",
       "      <td>951198.97</td>\n",
       "      <td>2019.0</td>\n",
       "    </tr>\n",
       "  </tbody>\n",
       "</table>\n",
       "<p>5 rows × 21 columns</p>\n",
       "</div>"
      ],
      "text/plain": [
       "  Store Number Store_Size Pop_Bracket  Year_2ago  Bottles Sold_2ago  \\\n",
       "0         2106      minor           4     2017.0               24.0   \n",
       "1         2106      minor           4     2018.0            86987.0   \n",
       "2         2106      minor           4     2019.0            85121.0   \n",
       "3         2113      minor           1     2017.0               67.0   \n",
       "4         2130      minor           5     2017.0               96.0   \n",
       "\n",
       "   Alc_Purchased_2ago  Mean_Bottle_Price_2ago  Year+1_2ago  Year_1ago  \\\n",
       "0              465.12               21.090000       2018.0     2018.0   \n",
       "1          1248878.02               16.782445       2019.0     2019.0   \n",
       "2          1223186.94               16.657084       2020.0     2020.0   \n",
       "3             1051.87               18.482105       2018.0     2018.0   \n",
       "4             1392.24               14.502500       2018.0     2018.0   \n",
       "\n",
       "   Bottles Sold_1ago  ...  Mean_Bottle_Price_1ago  Year+1_1ago    Year  \\\n",
       "0            86987.0  ...               16.782445       2019.0  2019.0   \n",
       "1            85121.0  ...               16.657084       2020.0  2020.0   \n",
       "2            53237.0  ...               17.503160       2021.0  2021.0   \n",
       "3             5273.0  ...               16.548311       2019.0  2019.0   \n",
       "4            69700.0  ...               17.231580       2019.0  2019.0   \n",
       "\n",
       "   Bottles Sold  Alc_Purchased  Mean_Bottle_Price  Year+1  Res_Year  \\\n",
       "0       85121.0     1223186.94          16.657084  2020.0    2020.0   \n",
       "1       53237.0      786504.43          17.503160  2021.0    2021.0   \n",
       "2       67944.0     1033483.12          18.020315  2022.0    2022.0   \n",
       "3        6052.0       78947.79          16.283819  2020.0    2020.0   \n",
       "4       74268.0     1173271.75          17.425406  2020.0    2020.0   \n",
       "\n",
       "   Res_Alc_Purchased  Res_Year-1  \n",
       "0          786504.43      2019.0  \n",
       "1         1033483.12      2020.0  \n",
       "2          615676.25      2021.0  \n",
       "3            7437.09      2019.0  \n",
       "4          951198.97      2019.0  \n",
       "\n",
       "[5 rows x 21 columns]"
      ]
     },
     "execution_count": 83,
     "metadata": {},
     "output_type": "execute_result"
    }
   ],
   "source": [
    "df_model3.head()"
   ]
  },
  {
   "cell_type": "markdown",
   "id": "913562db-3ec9-4673-ade2-b47e446e9fa5",
   "metadata": {},
   "source": [
    "## Custom Multiple Regression Functions"
   ]
  },
  {
   "cell_type": "code",
   "execution_count": 84,
   "id": "18e80f98-200b-4843-affb-54d51126b439",
   "metadata": {},
   "outputs": [],
   "source": [
    "def multiple_regression_ridge(X, Y, lam, intercept=True):\n",
    "    if intercept:\n",
    "        X = pd.concat([pd.Series([1]*X.shape[0]), X], axis=1).to_numpy()\n",
    "    else:\n",
    "        X = X.to_numpy()\n",
    "    Y = Y.to_numpy()\n",
    "    return np.linalg.inv((X.T @ X) + lam*np.identity(X.shape[1])) @ X.T @ Y\n",
    "\n",
    "def try_many_lambdas(X, Y, lams, intercept):\n",
    "    lams = np.array(lams)\n",
    "    return [multiple_regression_ridge(X, Y, lam, intercept) for lam in lams]\n",
    "\n",
    "def tune_lambda_split(train_x, train_y, test_x, test_y, lams, intercept, metric):\n",
    "    \n",
    "    df_res = pd.DataFrame()\n",
    "    df_res['lambda'] = lams\n",
    "    vals = [0]*len(lams)\n",
    "    est = try_many_lambdas(train_x, train_y, lams, intercept)\n",
    "    \n",
    "    for i in range(len(est)):\n",
    "        \n",
    "        if intercept:\n",
    "            y_hat = pd.Series(pd.concat([pd.Series([1]*test_x.shape[0]), test_x], axis=1).to_numpy() @ est[i])\n",
    "        else:\n",
    "            y_hat = pd.Series(test_x.to_numpy() @ est[i])\n",
    "        \n",
    "        if metric == 'R_sq':\n",
    "            y_bar = test_y.mean()\n",
    "            vals[i] = 1-((((test_y-y_hat)**2).mean())/(((test_y-y_bar)**2).mean()))\n",
    "            \n",
    "        elif metric == 'MSE':\n",
    "            vals[i] = (np.square(test_y-y_hat)).mean()\n",
    "            \n",
    "        elif metric == 'MAE':\n",
    "            vals[i] = (np.abs(test_y-y_hat)).mean()\n",
    "            \n",
    "        else:\n",
    "            print('Please use valid metric :)')\n",
    "\n",
    "    df_res[metric] = vals\n",
    "    return df_res\n",
    "\n",
    "def tune_lambda_cv(X, Y, lams, intercept, metric, splits):\n",
    "    df_res = pd.DataFrame(columns=['lambda', metric])\n",
    "    kf = KFold(n_splits=splits, shuffle=True)\n",
    "    splits = kf.split(X)\n",
    "    for train, test in splits:\n",
    "        \n",
    "        train_x = X.iloc[train].reset_index(drop=True)\n",
    "        train_y = Y.iloc[train].reset_index(drop=True)\n",
    "        \n",
    "        test_x = X.iloc[test].reset_index(drop=True)\n",
    "        test_y = Y.iloc[test].reset_index(drop=True)\n",
    "\n",
    "        df_res = pd.concat([df_res, tune_lambda_split(train_x, train_y, test_x, test_y, lams, intercept, metric)])\n",
    "    return df_res.groupby('lambda')[metric].mean()"
   ]
  },
  {
   "cell_type": "markdown",
   "id": "8606dfdd-d636-4f40-b2e4-4bdcfd7fa126",
   "metadata": {},
   "source": [
    "## Model Tuning for determining n"
   ]
  },
  {
   "cell_type": "markdown",
   "id": "a87dbd5c-f3e1-4828-a361-a9884ca28cb9",
   "metadata": {},
   "source": [
    "### n = number of previous years to use for predicting alc purchased for next"
   ]
  },
  {
   "cell_type": "markdown",
   "id": "9c25161b-d5fe-4ac1-a917-fa2aa85073cf",
   "metadata": {},
   "source": [
    "We told the client we would test using data from previous years to predict the results for the following year. We decided to try using the previous year, 2 years, and 3 years. Here we test comprable models for each set of data to determine which data to use for an optimal model"
   ]
  },
  {
   "cell_type": "code",
   "execution_count": 85,
   "id": "8db25ecd-0cf4-482b-9cab-03cfde0a6045",
   "metadata": {},
   "outputs": [],
   "source": [
    "# Create Dummy Variables For Potential Categorical Variables in Model\n",
    "ct = make_column_transformer(\n",
    "(OneHotEncoder(), ['Store_Size', 'Pop_Bracket']), remainder='passthrough')"
   ]
  },
  {
   "cell_type": "markdown",
   "id": "c190faf2-be70-447b-bd6c-eb8e1284317e",
   "metadata": {},
   "source": [
    "## n=1"
   ]
  },
  {
   "cell_type": "code",
   "execution_count": 86,
   "id": "d8f80851-2b90-4a42-bbf8-d34ca3f23499",
   "metadata": {},
   "outputs": [],
   "source": [
    "model1_vars = ['Store_Size', 'Pop_Bracket', 'Bottles Sold', 'Alc_Purchased', 'Mean_Bottle_Price']"
   ]
  },
  {
   "cell_type": "code",
   "execution_count": 87,
   "id": "bbedf8c8-57a1-429f-9ad8-f1672312bfc0",
   "metadata": {},
   "outputs": [],
   "source": [
    "X=df_model1[model1_vars]\n",
    "Y=df_model1['Res_Alc_Purchased']"
   ]
  },
  {
   "cell_type": "code",
   "execution_count": 88,
   "id": "8e9655e9-23d1-4618-bf06-7b8bafdc3534",
   "metadata": {},
   "outputs": [],
   "source": [
    "X = pd.DataFrame(ct.fit_transform(X)).drop(columns=[0,3])"
   ]
  },
  {
   "cell_type": "code",
   "execution_count": 89,
   "id": "7ba0d4eb-34f6-4d6b-91ce-0a41912adba0",
   "metadata": {},
   "outputs": [
    {
     "data": {
      "text/plain": [
       "lambda\n",
       "0    0.720697\n",
       "Name: R_sq, dtype: float64"
      ]
     },
     "execution_count": 89,
     "metadata": {},
     "output_type": "execute_result"
    }
   ],
   "source": [
    "tune_lambda_cv(X, Y, [0], True, 'R_sq', 5)"
   ]
  },
  {
   "cell_type": "markdown",
   "id": "5bc51120-3f57-4384-b371-ace48cdc7341",
   "metadata": {},
   "source": [
    "## n=2"
   ]
  },
  {
   "cell_type": "code",
   "execution_count": 90,
   "id": "b1418422-b048-445d-8edb-d339051cc88f",
   "metadata": {},
   "outputs": [],
   "source": [
    "model2_vars = ['Store_Size', 'Pop_Bracket', 'Bottles Sold_2ago', 'Alc_Purchased_2ago', 'Mean_Bottle_Price_2ago', 'Bottles Sold_1ago', 'Alc_Purchased_1ago', 'Mean_Bottle_Price_1ago']"
   ]
  },
  {
   "cell_type": "code",
   "execution_count": 91,
   "id": "6157ece9-df14-44db-8788-d3a377eb485b",
   "metadata": {},
   "outputs": [],
   "source": [
    "X=df_model2[model2_vars]\n",
    "Y=df_model2['Res_Alc_Purchased']"
   ]
  },
  {
   "cell_type": "code",
   "execution_count": 92,
   "id": "55ff3335-7447-44c8-bf22-ee16eaa87476",
   "metadata": {},
   "outputs": [],
   "source": [
    "X = pd.DataFrame(ct.fit_transform(X)).drop(columns=[0,3])"
   ]
  },
  {
   "cell_type": "code",
   "execution_count": 93,
   "id": "247bef16-5357-456a-a51d-819c7e0ece5a",
   "metadata": {},
   "outputs": [
    {
     "data": {
      "text/plain": [
       "lambda\n",
       "0    0.885671\n",
       "Name: R_sq, dtype: float64"
      ]
     },
     "execution_count": 93,
     "metadata": {},
     "output_type": "execute_result"
    }
   ],
   "source": [
    "tune_lambda_cv(X, Y, [0], True, 'R_sq', 5)"
   ]
  },
  {
   "cell_type": "markdown",
   "id": "fba9ac02-d432-41a8-bd5e-631eb6a23508",
   "metadata": {},
   "source": [
    "## n=3"
   ]
  },
  {
   "cell_type": "code",
   "execution_count": 94,
   "id": "57ffc3b3-679c-4ca8-8f5d-ecf63bb86f0b",
   "metadata": {},
   "outputs": [],
   "source": [
    "model3_vars = ['Store_Size', 'Pop_Bracket', 'Bottles Sold_2ago', 'Alc_Purchased_2ago', 'Mean_Bottle_Price_2ago', 'Bottles Sold_1ago', 'Alc_Purchased_1ago', 'Mean_Bottle_Price_1ago', 'Bottles Sold', 'Alc_Purchased', 'Mean_Bottle_Price']"
   ]
  },
  {
   "cell_type": "code",
   "execution_count": 95,
   "id": "d20b274e-4e01-41a1-8121-531b28350138",
   "metadata": {},
   "outputs": [],
   "source": [
    "X=df_model3[model3_vars]\n",
    "Y=df_model3['Res_Alc_Purchased']"
   ]
  },
  {
   "cell_type": "code",
   "execution_count": 96,
   "id": "d7a469bc-4250-47dc-ab63-fd251b193b99",
   "metadata": {},
   "outputs": [],
   "source": [
    "X = pd.DataFrame(ct.fit_transform(X)).drop(columns=[0,3])"
   ]
  },
  {
   "cell_type": "code",
   "execution_count": 97,
   "id": "05c2aa8c-4ce2-41da-b1ce-29c210c4f1d3",
   "metadata": {},
   "outputs": [
    {
     "data": {
      "text/plain": [
       "lambda\n",
       "0    0.883537\n",
       "Name: R_sq, dtype: float64"
      ]
     },
     "execution_count": 97,
     "metadata": {},
     "output_type": "execute_result"
    }
   ],
   "source": [
    "tune_lambda_cv(X, Y, [0], True, 'R_sq', 5)"
   ]
  },
  {
   "cell_type": "markdown",
   "id": "5909c61a-3fb2-48c6-aa26-2c781cadbcbf",
   "metadata": {},
   "source": [
    "### Results"
   ]
  },
  {
   "cell_type": "markdown",
   "id": "7873b158-2b0a-48b9-80b3-2bfe5d17865b",
   "metadata": {},
   "source": [
    "Using the same set of variables within each year, the models using data from the previous 2 or 3 years provided the best models. Since using an additonal 3rd year of data did not increase the effectiveness of the model significantly, we will proceed with tuning the model which used data from the previous 2 years to make our model as simple as possible. "
   ]
  },
  {
   "cell_type": "markdown",
   "id": "4dffe368-3034-4384-a89e-dea522f7319d",
   "metadata": {},
   "source": [
    "## Model Tuning"
   ]
  },
  {
   "cell_type": "markdown",
   "id": "8d86f32d-7e61-49a5-b6ec-f80417b3d4ad",
   "metadata": {},
   "source": [
    "We will be tuning the model which uses the previous 2 years since it is more simple than using 3 years and produced results that were just as good. Next we will determine which set of variables to use."
   ]
  },
  {
   "cell_type": "markdown",
   "id": "97d95cc8-9f40-49ac-9c11-1967be4fdc21",
   "metadata": {},
   "source": [
    "### Variable Tuning"
   ]
  },
  {
   "cell_type": "markdown",
   "id": "ac14f59b-9dd9-41cb-97f7-b1875bc7d902",
   "metadata": {},
   "source": [
    "These are the different combinations of variables we will try training the model on"
   ]
  },
  {
   "cell_type": "code",
   "execution_count": 98,
   "id": "46bb0c0e-9f3d-4027-8f40-16f44729bd68",
   "metadata": {},
   "outputs": [],
   "source": [
    "var_set1 = ['Alc_Purchased_2ago', 'Alc_Purchased_1ago']\n",
    "var_set2 = ['Store_Size', 'Alc_Purchased_2ago', 'Alc_Purchased_1ago']\n",
    "var_set3 = ['Pop_Bracket', 'Alc_Purchased_2ago', 'Alc_Purchased_1ago']\n",
    "var_set4 = ['Store_Size', 'Pop_Bracket', 'Alc_Purchased_2ago', 'Alc_Purchased_1ago']\n",
    "var_set5 = ['Store_Size', 'Pop_Bracket', 'Bottles Sold_2ago', 'Alc_Purchased_2ago', 'Mean_Bottle_Price_2ago', 'Bottles Sold_1ago', 'Alc_Purchased_1ago', 'Mean_Bottle_Price_1ago']"
   ]
  },
  {
   "cell_type": "markdown",
   "id": "a129e025-e5d3-4a01-be0b-1b928e4ad4fd",
   "metadata": {},
   "source": [
    "#### Set 1"
   ]
  },
  {
   "cell_type": "code",
   "execution_count": 99,
   "id": "8df330df-d577-4ce7-b9df-89580bab058f",
   "metadata": {},
   "outputs": [],
   "source": [
    "X=df_model2[var_set1]\n",
    "Y=df_model2['Res_Alc_Purchased']"
   ]
  },
  {
   "cell_type": "code",
   "execution_count": 100,
   "id": "b2dc2c9b-bb2b-4435-8aa6-2b4e2628b103",
   "metadata": {},
   "outputs": [
    {
     "data": {
      "text/plain": [
       "lambda\n",
       "0    0.88644\n",
       "Name: R_sq, dtype: float64"
      ]
     },
     "execution_count": 100,
     "metadata": {},
     "output_type": "execute_result"
    }
   ],
   "source": [
    "tune_lambda_cv(X, Y, [0], True, 'R_sq', 5)"
   ]
  },
  {
   "cell_type": "code",
   "execution_count": 101,
   "id": "73e569ab-b471-4cea-9b45-fbdc9d0c37bc",
   "metadata": {},
   "outputs": [
    {
     "data": {
      "text/plain": [
       "array([ 4.16443964e+03, -4.87918599e-02,  9.53809312e-01])"
      ]
     },
     "execution_count": 101,
     "metadata": {},
     "output_type": "execute_result"
    }
   ],
   "source": [
    "multiple_regression_ridge(X,Y,0,True)"
   ]
  },
  {
   "cell_type": "markdown",
   "id": "91a5a16f-81fb-4f79-bc9a-15096ff89477",
   "metadata": {},
   "source": [
    "#### Set 2"
   ]
  },
  {
   "cell_type": "code",
   "execution_count": 102,
   "id": "d52ab237-b034-4cab-a1dd-3d30d893321e",
   "metadata": {},
   "outputs": [],
   "source": [
    "X=df_model2[var_set2]\n",
    "Y=df_model2['Res_Alc_Purchased']"
   ]
  },
  {
   "cell_type": "code",
   "execution_count": 103,
   "id": "241c9912-52bc-4e3e-a24c-4872c277cae0",
   "metadata": {},
   "outputs": [],
   "source": [
    "ct = make_column_transformer(\n",
    "(OneHotEncoder(), ['Store_Size']), remainder='passthrough')"
   ]
  },
  {
   "cell_type": "code",
   "execution_count": 104,
   "id": "ddf1b692-d506-4049-8164-acd24d434f9d",
   "metadata": {},
   "outputs": [],
   "source": [
    "X = pd.DataFrame(ct.fit_transform(X)).drop(columns=[0],axis=1)"
   ]
  },
  {
   "cell_type": "code",
   "execution_count": 105,
   "id": "699f899d-b46a-4ecd-aa9c-1548fdbcd6ec",
   "metadata": {},
   "outputs": [
    {
     "data": {
      "text/plain": [
       "lambda\n",
       "0    0.894568\n",
       "Name: R_sq, dtype: float64"
      ]
     },
     "execution_count": 105,
     "metadata": {},
     "output_type": "execute_result"
    }
   ],
   "source": [
    "tune_lambda_cv(X, Y, [0], True, 'R_sq', 5)"
   ]
  },
  {
   "cell_type": "code",
   "execution_count": 106,
   "id": "ce09549f-0727-47b9-85cd-be622d4fc142",
   "metadata": {},
   "outputs": [
    {
     "data": {
      "text/plain": [
       "array([ 4.66691453e+03, -6.97697976e+03, -1.47021045e+00, -4.87786449e-02,\n",
       "        9.53602200e-01])"
      ]
     },
     "execution_count": 106,
     "metadata": {},
     "output_type": "execute_result"
    }
   ],
   "source": [
    "multiple_regression_ridge(X,Y,0,True)"
   ]
  },
  {
   "cell_type": "markdown",
   "id": "a701f47f-26dd-463d-ae25-7d37d106f985",
   "metadata": {},
   "source": [
    "#### Set 3"
   ]
  },
  {
   "cell_type": "code",
   "execution_count": 107,
   "id": "d429a15e-324c-4cda-8fc2-cf2a47197d76",
   "metadata": {},
   "outputs": [],
   "source": [
    "X=df_model2[var_set3]\n",
    "Y=df_model2['Res_Alc_Purchased']"
   ]
  },
  {
   "cell_type": "code",
   "execution_count": 108,
   "id": "bdc41440-e78e-4b82-b925-35d0aac39d0a",
   "metadata": {},
   "outputs": [],
   "source": [
    "ct = make_column_transformer(\n",
    "(OneHotEncoder(), ['Pop_Bracket']), remainder='passthrough')"
   ]
  },
  {
   "cell_type": "code",
   "execution_count": 109,
   "id": "802f1eba-7309-4747-a698-380e6a65d5c9",
   "metadata": {},
   "outputs": [],
   "source": [
    "X = pd.DataFrame(ct.fit_transform(X)).drop(columns=[0])"
   ]
  },
  {
   "cell_type": "code",
   "execution_count": 110,
   "id": "b0d4db5c-4940-4f9d-808c-d62aabc09810",
   "metadata": {},
   "outputs": [
    {
     "data": {
      "text/plain": [
       "lambda\n",
       "0    0.887233\n",
       "Name: R_sq, dtype: float64"
      ]
     },
     "execution_count": 110,
     "metadata": {},
     "output_type": "execute_result"
    }
   ],
   "source": [
    "tune_lambda_cv(X, Y, [0], True, 'R_sq', 5)"
   ]
  },
  {
   "cell_type": "code",
   "execution_count": 111,
   "id": "fd7023b7-62d1-4498-9d31-08c58cd29105",
   "metadata": {},
   "outputs": [
    {
     "data": {
      "text/plain": [
       "array([ 9.69596208e+02,  1.64832536e+03,  4.82746613e+03, -1.60549171e+03,\n",
       "        6.40686060e+03,  1.20512960e+04, -4.88400016e-02,  9.52758932e-01])"
      ]
     },
     "execution_count": 111,
     "metadata": {},
     "output_type": "execute_result"
    }
   ],
   "source": [
    "multiple_regression_ridge(X,Y,0,True)"
   ]
  },
  {
   "cell_type": "markdown",
   "id": "c79aa8db-82a9-4e4c-8a83-483adb952489",
   "metadata": {},
   "source": [
    "#### Set 4"
   ]
  },
  {
   "cell_type": "code",
   "execution_count": 112,
   "id": "b096de62-caf5-4d1e-8c69-40c1ce8c94dd",
   "metadata": {},
   "outputs": [],
   "source": [
    "X=df_model2[var_set4]\n",
    "Y=df_model2['Res_Alc_Purchased']"
   ]
  },
  {
   "cell_type": "code",
   "execution_count": 113,
   "id": "f92ba6ef-7e87-4a9a-9651-172ecb6b338c",
   "metadata": {},
   "outputs": [],
   "source": [
    "ct = make_column_transformer(\n",
    "(OneHotEncoder(), ['Store_Size', 'Pop_Bracket']), remainder='passthrough')"
   ]
  },
  {
   "cell_type": "code",
   "execution_count": 114,
   "id": "65e15a2b-e3c2-4311-933c-0758872d8c13",
   "metadata": {},
   "outputs": [],
   "source": [
    "X = pd.DataFrame(ct.fit_transform(X)).drop(columns=[0,3], axis=1)"
   ]
  },
  {
   "cell_type": "code",
   "execution_count": 115,
   "id": "969f7e71-365a-4ff3-add5-3b0784f7d3c7",
   "metadata": {},
   "outputs": [
    {
     "data": {
      "text/plain": [
       "lambda\n",
       "0    0.89193\n",
       "Name: R_sq, dtype: float64"
      ]
     },
     "execution_count": 115,
     "metadata": {},
     "output_type": "execute_result"
    }
   ],
   "source": [
    "tune_lambda_cv(X, Y, [0], True, 'R_sq', 5)"
   ]
  },
  {
   "cell_type": "code",
   "execution_count": 116,
   "id": "c50009fa-833e-4394-b8be-4483890fe657",
   "metadata": {},
   "outputs": [
    {
     "data": {
      "text/plain": [
       "array([ 1.23843141e+03, -1.00642797e+04, -2.24857961e+02,  1.81975896e+03,\n",
       "        5.08916031e+03, -7.32963009e+02,  7.34188813e+03,  1.36620615e+04,\n",
       "       -4.88406236e-02,  9.52297715e-01])"
      ]
     },
     "execution_count": 116,
     "metadata": {},
     "output_type": "execute_result"
    }
   ],
   "source": [
    "multiple_regression_ridge(X,Y,0,True)"
   ]
  },
  {
   "cell_type": "markdown",
   "id": "4140ecf3-e8eb-47d1-9724-15d2c0dfcdae",
   "metadata": {},
   "source": [
    "#### Set 5"
   ]
  },
  {
   "cell_type": "code",
   "execution_count": 117,
   "id": "e338c511-b095-4cac-b520-409ce4d533d9",
   "metadata": {},
   "outputs": [],
   "source": [
    "X=df_model2[var_set5]\n",
    "Y=df_model2['Res_Alc_Purchased']"
   ]
  },
  {
   "cell_type": "code",
   "execution_count": 118,
   "id": "23c09135-04ce-45f1-bf33-e5509fa7e854",
   "metadata": {},
   "outputs": [],
   "source": [
    "ct = make_column_transformer(\n",
    "(OneHotEncoder(), ['Store_Size', 'Pop_Bracket']), remainder='passthrough')"
   ]
  },
  {
   "cell_type": "code",
   "execution_count": 119,
   "id": "0b88bc2a-8c3b-4e89-ad1c-80bb1f38f79d",
   "metadata": {},
   "outputs": [],
   "source": [
    "X = pd.DataFrame(ct.fit_transform(X)).drop(columns=[0,3], axis=1)"
   ]
  },
  {
   "cell_type": "code",
   "execution_count": 120,
   "id": "c6af26f3-a5a5-4cbf-95da-21af8190ec10",
   "metadata": {},
   "outputs": [
    {
     "data": {
      "text/plain": [
       "lambda\n",
       "0    0.898649\n",
       "Name: R_sq, dtype: float64"
      ]
     },
     "execution_count": 120,
     "metadata": {},
     "output_type": "execute_result"
    }
   ],
   "source": [
    "tune_lambda_cv(X, Y, [0], True, 'R_sq', 5)"
   ]
  },
  {
   "cell_type": "code",
   "execution_count": 121,
   "id": "f8e5c6bf-104c-47bc-b25f-032d0af070de",
   "metadata": {},
   "outputs": [
    {
     "data": {
      "text/plain": [
       "array([-2.44143179e+03, -1.06833735e+04, -2.92031509e+03,  5.98507383e+02,\n",
       "        1.29559971e+03, -4.94881289e+03,  2.55668456e+03,  5.80882372e+03,\n",
       "       -7.10548853e+00,  3.89992352e-01, -3.65106908e+02,  6.31279585e+00,\n",
       "        5.69550322e-01,  6.21990158e+02])"
      ]
     },
     "execution_count": 121,
     "metadata": {},
     "output_type": "execute_result"
    }
   ],
   "source": [
    "multiple_regression_ridge(X,Y,0,True)"
   ]
  },
  {
   "cell_type": "markdown",
   "id": "276aa519-0e4b-4a9a-9658-8ab62246b644",
   "metadata": {},
   "source": [
    "### Results"
   ]
  },
  {
   "cell_type": "markdown",
   "id": "4c294e4e-4e98-4a2e-9a27-64a768dbc6da",
   "metadata": {},
   "source": [
    "We will pick variable set one since it is the simplest model and does just as good of a job at predicting next years alc purchased amount as the other models with more variables. "
   ]
  },
  {
   "cell_type": "markdown",
   "id": "345fafd5-10b1-4fb8-a28b-70a29f2f4123",
   "metadata": {},
   "source": [
    "## Lambda Tuning"
   ]
  },
  {
   "cell_type": "markdown",
   "id": "71b40c6b-3dd7-4944-b8ab-335d64cc909d",
   "metadata": {},
   "source": [
    "Here is where we will determine an optimal lambda to use for the model or whether to use one at all. "
   ]
  },
  {
   "cell_type": "code",
   "execution_count": 122,
   "id": "66965ea3-d340-467b-8bc4-02893aef9efc",
   "metadata": {},
   "outputs": [],
   "source": [
    "var_set1 = ['Alc_Purchased_2ago', 'Alc_Purchased_1ago']\n",
    "\n",
    "X=df_model2[var_set1]\n",
    "Y=df_model2['Res_Alc_Purchased']"
   ]
  },
  {
   "cell_type": "code",
   "execution_count": 123,
   "id": "20c7fb78-f247-4114-9d5c-7fdad9be99c7",
   "metadata": {},
   "outputs": [
    {
     "data": {
      "text/plain": [
       "StandardScaler()"
      ]
     },
     "execution_count": 123,
     "metadata": {},
     "output_type": "execute_result"
    }
   ],
   "source": [
    "scaler = StandardScaler()\n",
    "scaler.fit(X)"
   ]
  },
  {
   "cell_type": "code",
   "execution_count": 124,
   "id": "c1917236-c748-417b-b817-3372eee2de71",
   "metadata": {},
   "outputs": [
    {
     "data": {
      "text/html": [
       "<div>\n",
       "<style scoped>\n",
       "    .dataframe tbody tr th:only-of-type {\n",
       "        vertical-align: middle;\n",
       "    }\n",
       "\n",
       "    .dataframe tbody tr th {\n",
       "        vertical-align: top;\n",
       "    }\n",
       "\n",
       "    .dataframe thead th {\n",
       "        text-align: right;\n",
       "    }\n",
       "</style>\n",
       "<table border=\"1\" class=\"dataframe\">\n",
       "  <thead>\n",
       "    <tr style=\"text-align: right;\">\n",
       "      <th></th>\n",
       "      <th>0</th>\n",
       "      <th>1</th>\n",
       "    </tr>\n",
       "  </thead>\n",
       "  <tbody>\n",
       "    <tr>\n",
       "      <th>0</th>\n",
       "      <td>-0.367026</td>\n",
       "      <td>1.695072</td>\n",
       "    </tr>\n",
       "    <tr>\n",
       "      <th>1</th>\n",
       "      <td>2.145687</td>\n",
       "      <td>1.651560</td>\n",
       "    </tr>\n",
       "    <tr>\n",
       "      <th>2</th>\n",
       "      <td>2.093978</td>\n",
       "      <td>0.911973</td>\n",
       "    </tr>\n",
       "    <tr>\n",
       "      <th>3</th>\n",
       "      <td>1.215056</td>\n",
       "      <td>1.330268</td>\n",
       "    </tr>\n",
       "    <tr>\n",
       "      <th>4</th>\n",
       "      <td>-0.365845</td>\n",
       "      <td>-0.292968</td>\n",
       "    </tr>\n",
       "  </tbody>\n",
       "</table>\n",
       "</div>"
      ],
      "text/plain": [
       "          0         1\n",
       "0 -0.367026  1.695072\n",
       "1  2.145687  1.651560\n",
       "2  2.093978  0.911973\n",
       "3  1.215056  1.330268\n",
       "4 -0.365845 -0.292968"
      ]
     },
     "execution_count": 124,
     "metadata": {},
     "output_type": "execute_result"
    }
   ],
   "source": [
    "X = pd.DataFrame(scaler.transform(X))\n",
    "X.head()"
   ]
  },
  {
   "cell_type": "code",
   "execution_count": 125,
   "id": "4a664288-ef78-4648-a949-c3c680d49b2d",
   "metadata": {},
   "outputs": [
    {
     "data": {
      "text/plain": [
       "lambda\n",
       "0.0       0.876478\n",
       "0.1       0.876480\n",
       "10.0      0.876722\n",
       "100.0     0.877131\n",
       "1000.0    0.841536\n",
       "Name: R_sq, dtype: float64"
      ]
     },
     "execution_count": 125,
     "metadata": {},
     "output_type": "execute_result"
    }
   ],
   "source": [
    "tune_lambda_cv(X, Y, [0, .1, 10, 100, 1000], True, 'R_sq', 5)"
   ]
  },
  {
   "cell_type": "code",
   "execution_count": 126,
   "id": "ccf686a9-f8fa-424a-8a8e-d5eabddb5b03",
   "metadata": {},
   "outputs": [
    {
     "data": {
      "text/plain": [
       "lambda\n",
       "0.0       4.073460e+10\n",
       "0.1       4.073318e+10\n",
       "10.0      4.060221e+10\n",
       "100.0     4.010520e+10\n",
       "1000.0    5.036903e+10\n",
       "Name: MSE, dtype: float64"
      ]
     },
     "execution_count": 126,
     "metadata": {},
     "output_type": "execute_result"
    }
   ],
   "source": [
    "tune_lambda_cv(X, Y, [0, .1, 10, 100, 1000], True, 'MSE', 5)"
   ]
  },
  {
   "cell_type": "code",
   "execution_count": 127,
   "id": "50777bf2-4775-49df-aa93-7e3844fa24e7",
   "metadata": {},
   "outputs": [
    {
     "data": {
      "text/plain": [
       "lambda\n",
       "0.0       61179.027016\n",
       "0.1       61181.140903\n",
       "10.0      61391.285501\n",
       "100.0     63338.059009\n",
       "1000.0    79222.810296\n",
       "Name: MAE, dtype: float64"
      ]
     },
     "execution_count": 127,
     "metadata": {},
     "output_type": "execute_result"
    }
   ],
   "source": [
    "tune_lambda_cv(X, Y, [0, .1, 10, 100, 1000], True, 'MAE', 5)"
   ]
  },
  {
   "cell_type": "markdown",
   "id": "7a2bbe16-2113-41c2-8dfe-cd51263c8822",
   "metadata": {},
   "source": [
    "### Results"
   ]
  },
  {
   "cell_type": "markdown",
   "id": "4800af5c-6287-4632-bdfb-8469ec74ac18",
   "metadata": {},
   "source": [
    "We will use lambda=0 which is just ordinary least squares regression for our final model since it produces the highest R_sq, lowest MSE, and lowest MAE for many different runs of tune_lambda_cv"
   ]
  },
  {
   "cell_type": "markdown",
   "id": "ffa1eeb4-6523-45f3-b2cc-289e0ebe6bb4",
   "metadata": {},
   "source": [
    "# Summary of Final Model Decisions"
   ]
  },
  {
   "cell_type": "markdown",
   "id": "d1e63017-3e52-4a5e-b5ab-20fcf556b608",
   "metadata": {},
   "source": [
    "In this codebook we uncovered that:\n",
    "\n",
    "1. We will train our model using the previous 2 years of data to predict the response for the next year\n",
    "2. Using just the alcohol purchased by a store for the 2 previous years as predictors was sufficient for predicting the alchohol purchased for the next year\n",
    "3. We decided to use Ordinary least squares regression over ridge regression since it produced the best results for predicing observations the model was not trained on"
   ]
  },
  {
   "cell_type": "code",
   "execution_count": null,
   "id": "279ac590-0a4d-4961-a3ac-3096bb3a49d3",
   "metadata": {},
   "outputs": [],
   "source": []
  }
 ],
 "metadata": {
  "kernelspec": {
   "display_name": "Python 3",
   "language": "python",
   "name": "python3"
  },
  "language_info": {
   "codemirror_mode": {
    "name": "ipython",
    "version": 3
   },
   "file_extension": ".py",
   "mimetype": "text/x-python",
   "name": "python",
   "nbconvert_exporter": "python",
   "pygments_lexer": "ipython3",
   "version": "3.8.8"
  }
 },
 "nbformat": 4,
 "nbformat_minor": 5
}
